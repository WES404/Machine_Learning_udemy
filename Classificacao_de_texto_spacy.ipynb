{
  "nbformat": 4,
  "nbformat_minor": 0,
  "metadata": {
    "colab": {
      "name": "Classificacao_de_texto_spacy.ipynb",
      "provenance": [],
      "collapsed_sections": [
        "6l2P_RD7ocZR",
        "2DL3IyDvpmd7",
        "MRgV524Dr5bG",
        "y0h3Zb0exx9s",
        "yfpd35dChjwD"
      ]
    },
    "kernelspec": {
      "name": "python3",
      "display_name": "Python 3"
    },
    "language_info": {
      "name": "python"
    }
  },
  "cells": [
    {
      "cell_type": "markdown",
      "source": [
        "# Classificação de Texto com spaCy"
      ],
      "metadata": {
        "id": "2aKQ2uopnuS6"
      }
    },
    {
      "cell_type": "markdown",
      "source": [
        "# Importação"
      ],
      "metadata": {
        "id": "6l2P_RD7ocZR"
      }
    },
    {
      "cell_type": "code",
      "execution_count": 1,
      "metadata": {
        "colab": {
          "base_uri": "https://localhost:8080/"
        },
        "id": "lmJ0w24Nnpp2",
        "outputId": "6905546f-722f-4c44-eab5-771fb5451508"
      },
      "outputs": [
        {
          "output_type": "stream",
          "name": "stdout",
          "text": [
            "Requirement already satisfied: spacy==2.2.3 in /usr/local/lib/python3.7/dist-packages (2.2.3)\n",
            "Requirement already satisfied: requests<3.0.0,>=2.13.0 in /usr/local/lib/python3.7/dist-packages (from spacy==2.2.3) (2.23.0)\n",
            "Requirement already satisfied: murmurhash<1.1.0,>=0.28.0 in /usr/local/lib/python3.7/dist-packages (from spacy==2.2.3) (1.0.6)\n",
            "Requirement already satisfied: preshed<3.1.0,>=3.0.2 in /usr/local/lib/python3.7/dist-packages (from spacy==2.2.3) (3.0.6)\n",
            "Requirement already satisfied: plac<1.2.0,>=0.9.6 in /usr/local/lib/python3.7/dist-packages (from spacy==2.2.3) (1.1.3)\n",
            "Requirement already satisfied: wasabi<1.1.0,>=0.4.0 in /usr/local/lib/python3.7/dist-packages (from spacy==2.2.3) (0.8.2)\n",
            "Requirement already satisfied: setuptools in /usr/local/lib/python3.7/dist-packages (from spacy==2.2.3) (57.4.0)\n",
            "Requirement already satisfied: catalogue<1.1.0,>=0.0.7 in /usr/local/lib/python3.7/dist-packages (from spacy==2.2.3) (1.0.0)\n",
            "Requirement already satisfied: numpy>=1.15.0 in /usr/local/lib/python3.7/dist-packages (from spacy==2.2.3) (1.19.5)\n",
            "Requirement already satisfied: srsly<1.1.0,>=0.1.0 in /usr/local/lib/python3.7/dist-packages (from spacy==2.2.3) (1.0.5)\n",
            "Requirement already satisfied: cymem<2.1.0,>=2.0.2 in /usr/local/lib/python3.7/dist-packages (from spacy==2.2.3) (2.0.6)\n",
            "Requirement already satisfied: thinc<7.4.0,>=7.3.0 in /usr/local/lib/python3.7/dist-packages (from spacy==2.2.3) (7.3.1)\n",
            "Requirement already satisfied: blis<0.5.0,>=0.4.0 in /usr/local/lib/python3.7/dist-packages (from spacy==2.2.3) (0.4.1)\n",
            "Requirement already satisfied: importlib-metadata>=0.20 in /usr/local/lib/python3.7/dist-packages (from catalogue<1.1.0,>=0.0.7->spacy==2.2.3) (4.8.2)\n",
            "Requirement already satisfied: typing-extensions>=3.6.4 in /usr/local/lib/python3.7/dist-packages (from importlib-metadata>=0.20->catalogue<1.1.0,>=0.0.7->spacy==2.2.3) (3.10.0.2)\n",
            "Requirement already satisfied: zipp>=0.5 in /usr/local/lib/python3.7/dist-packages (from importlib-metadata>=0.20->catalogue<1.1.0,>=0.0.7->spacy==2.2.3) (3.6.0)\n",
            "Requirement already satisfied: chardet<4,>=3.0.2 in /usr/local/lib/python3.7/dist-packages (from requests<3.0.0,>=2.13.0->spacy==2.2.3) (3.0.4)\n",
            "Requirement already satisfied: urllib3!=1.25.0,!=1.25.1,<1.26,>=1.21.1 in /usr/local/lib/python3.7/dist-packages (from requests<3.0.0,>=2.13.0->spacy==2.2.3) (1.24.3)\n",
            "Requirement already satisfied: certifi>=2017.4.17 in /usr/local/lib/python3.7/dist-packages (from requests<3.0.0,>=2.13.0->spacy==2.2.3) (2021.10.8)\n",
            "Requirement already satisfied: idna<3,>=2.5 in /usr/local/lib/python3.7/dist-packages (from requests<3.0.0,>=2.13.0->spacy==2.2.3) (2.10)\n",
            "Requirement already satisfied: tqdm<5.0.0,>=4.10.0 in /usr/local/lib/python3.7/dist-packages (from thinc<7.4.0,>=7.3.0->spacy==2.2.3) (4.62.3)\n"
          ]
        }
      ],
      "source": [
        "!pip install spacy==2.2.3"
      ]
    },
    {
      "cell_type": "code",
      "source": [
        "!python3 -m spacy download pt"
      ],
      "metadata": {
        "colab": {
          "base_uri": "https://localhost:8080/"
        },
        "id": "visW8jT6ovo2",
        "outputId": "b4fecdfd-88cf-42f9-8b54-201f43f81676"
      },
      "execution_count": 4,
      "outputs": [
        {
          "output_type": "stream",
          "name": "stdout",
          "text": [
            "Collecting pt_core_news_sm==2.2.5\n",
            "  Downloading https://github.com/explosion/spacy-models/releases/download/pt_core_news_sm-2.2.5/pt_core_news_sm-2.2.5.tar.gz (21.2 MB)\n",
            "\u001b[K     |████████████████████████████████| 21.2 MB 1.2 MB/s \n",
            "\u001b[?25hRequirement already satisfied: spacy>=2.2.2 in /usr/local/lib/python3.7/dist-packages (from pt_core_news_sm==2.2.5) (2.2.3)\n",
            "Requirement already satisfied: srsly<1.1.0,>=0.1.0 in /usr/local/lib/python3.7/dist-packages (from spacy>=2.2.2->pt_core_news_sm==2.2.5) (1.0.5)\n",
            "Requirement already satisfied: preshed<3.1.0,>=3.0.2 in /usr/local/lib/python3.7/dist-packages (from spacy>=2.2.2->pt_core_news_sm==2.2.5) (3.0.6)\n",
            "Requirement already satisfied: setuptools in /usr/local/lib/python3.7/dist-packages (from spacy>=2.2.2->pt_core_news_sm==2.2.5) (57.4.0)\n",
            "Requirement already satisfied: requests<3.0.0,>=2.13.0 in /usr/local/lib/python3.7/dist-packages (from spacy>=2.2.2->pt_core_news_sm==2.2.5) (2.23.0)\n",
            "Requirement already satisfied: numpy>=1.15.0 in /usr/local/lib/python3.7/dist-packages (from spacy>=2.2.2->pt_core_news_sm==2.2.5) (1.19.5)\n",
            "Requirement already satisfied: thinc<7.4.0,>=7.3.0 in /usr/local/lib/python3.7/dist-packages (from spacy>=2.2.2->pt_core_news_sm==2.2.5) (7.3.1)\n",
            "Requirement already satisfied: murmurhash<1.1.0,>=0.28.0 in /usr/local/lib/python3.7/dist-packages (from spacy>=2.2.2->pt_core_news_sm==2.2.5) (1.0.6)\n",
            "Requirement already satisfied: plac<1.2.0,>=0.9.6 in /usr/local/lib/python3.7/dist-packages (from spacy>=2.2.2->pt_core_news_sm==2.2.5) (1.1.3)\n",
            "Requirement already satisfied: wasabi<1.1.0,>=0.4.0 in /usr/local/lib/python3.7/dist-packages (from spacy>=2.2.2->pt_core_news_sm==2.2.5) (0.8.2)\n",
            "Requirement already satisfied: catalogue<1.1.0,>=0.0.7 in /usr/local/lib/python3.7/dist-packages (from spacy>=2.2.2->pt_core_news_sm==2.2.5) (1.0.0)\n",
            "Requirement already satisfied: blis<0.5.0,>=0.4.0 in /usr/local/lib/python3.7/dist-packages (from spacy>=2.2.2->pt_core_news_sm==2.2.5) (0.4.1)\n",
            "Requirement already satisfied: cymem<2.1.0,>=2.0.2 in /usr/local/lib/python3.7/dist-packages (from spacy>=2.2.2->pt_core_news_sm==2.2.5) (2.0.6)\n",
            "Requirement already satisfied: importlib-metadata>=0.20 in /usr/local/lib/python3.7/dist-packages (from catalogue<1.1.0,>=0.0.7->spacy>=2.2.2->pt_core_news_sm==2.2.5) (4.8.2)\n",
            "Requirement already satisfied: zipp>=0.5 in /usr/local/lib/python3.7/dist-packages (from importlib-metadata>=0.20->catalogue<1.1.0,>=0.0.7->spacy>=2.2.2->pt_core_news_sm==2.2.5) (3.6.0)\n",
            "Requirement already satisfied: typing-extensions>=3.6.4 in /usr/local/lib/python3.7/dist-packages (from importlib-metadata>=0.20->catalogue<1.1.0,>=0.0.7->spacy>=2.2.2->pt_core_news_sm==2.2.5) (3.10.0.2)\n",
            "Requirement already satisfied: idna<3,>=2.5 in /usr/local/lib/python3.7/dist-packages (from requests<3.0.0,>=2.13.0->spacy>=2.2.2->pt_core_news_sm==2.2.5) (2.10)\n",
            "Requirement already satisfied: urllib3!=1.25.0,!=1.25.1,<1.26,>=1.21.1 in /usr/local/lib/python3.7/dist-packages (from requests<3.0.0,>=2.13.0->spacy>=2.2.2->pt_core_news_sm==2.2.5) (1.24.3)\n",
            "Requirement already satisfied: chardet<4,>=3.0.2 in /usr/local/lib/python3.7/dist-packages (from requests<3.0.0,>=2.13.0->spacy>=2.2.2->pt_core_news_sm==2.2.5) (3.0.4)\n",
            "Requirement already satisfied: certifi>=2017.4.17 in /usr/local/lib/python3.7/dist-packages (from requests<3.0.0,>=2.13.0->spacy>=2.2.2->pt_core_news_sm==2.2.5) (2021.10.8)\n",
            "Requirement already satisfied: tqdm<5.0.0,>=4.10.0 in /usr/local/lib/python3.7/dist-packages (from thinc<7.4.0,>=7.3.0->spacy>=2.2.2->pt_core_news_sm==2.2.5) (4.62.3)\n",
            "\u001b[38;5;2m✔ Download and installation successful\u001b[0m\n",
            "You can now load the model via spacy.load('pt_core_news_sm')\n",
            "\u001b[38;5;2m✔ Linking successful\u001b[0m\n",
            "/usr/local/lib/python3.7/dist-packages/pt_core_news_sm -->\n",
            "/usr/local/lib/python3.7/dist-packages/spacy/data/pt\n",
            "You can now load the model via spacy.load('pt')\n"
          ]
        }
      ]
    },
    {
      "cell_type": "code",
      "source": [
        "import pandas as pd\n",
        "import string\n",
        "import spacy\n",
        "import random\n",
        "import seaborn as sns\n",
        "import numpy as np\n"
      ],
      "metadata": {
        "id": "904vhimEpFd6"
      },
      "execution_count": 2,
      "outputs": []
    },
    {
      "cell_type": "code",
      "source": [
        "spacy.__version__"
      ],
      "metadata": {
        "colab": {
          "base_uri": "https://localhost:8080/",
          "height": 35
        },
        "id": "zNA9ymbqQo33",
        "outputId": "208a48c7-7c89-4e95-cd5b-dedbf22a71ec"
      },
      "execution_count": 3,
      "outputs": [
        {
          "output_type": "execute_result",
          "data": {
            "application/vnd.google.colaboratory.intrinsic+json": {
              "type": "string"
            },
            "text/plain": [
              "'2.2.3'"
            ]
          },
          "metadata": {},
          "execution_count": 3
        }
      ]
    },
    {
      "cell_type": "markdown",
      "source": [
        "# Base de dados"
      ],
      "metadata": {
        "id": "2DL3IyDvpmd7"
      }
    },
    {
      "cell_type": "code",
      "source": [
        "base_Dados = pd.read_csv(\"base_treinamento.txt\", encoding=\"utf-8\")"
      ],
      "metadata": {
        "id": "gKOPrjTfpkQp"
      },
      "execution_count": 5,
      "outputs": []
    },
    {
      "cell_type": "code",
      "source": [
        "base_Dados.shape"
      ],
      "metadata": {
        "colab": {
          "base_uri": "https://localhost:8080/"
        },
        "id": "DHZpzy97rQjn",
        "outputId": "2146c036-9826-4132-dec6-b934f9b294b2"
      },
      "execution_count": 6,
      "outputs": [
        {
          "output_type": "execute_result",
          "data": {
            "text/plain": [
              "(196, 2)"
            ]
          },
          "metadata": {},
          "execution_count": 6
        }
      ]
    },
    {
      "cell_type": "code",
      "source": [
        "base_Dados.head()"
      ],
      "metadata": {
        "colab": {
          "base_uri": "https://localhost:8080/",
          "height": 0
        },
        "id": "FLM7YaVKrcra",
        "outputId": "7ee0aa64-dd2e-4057-f91c-05825e9dca01"
      },
      "execution_count": 7,
      "outputs": [
        {
          "output_type": "execute_result",
          "data": {
            "text/html": [
              "<div>\n",
              "<style scoped>\n",
              "    .dataframe tbody tr th:only-of-type {\n",
              "        vertical-align: middle;\n",
              "    }\n",
              "\n",
              "    .dataframe tbody tr th {\n",
              "        vertical-align: top;\n",
              "    }\n",
              "\n",
              "    .dataframe thead th {\n",
              "        text-align: right;\n",
              "    }\n",
              "</style>\n",
              "<table border=\"1\" class=\"dataframe\">\n",
              "  <thead>\n",
              "    <tr style=\"text-align: right;\">\n",
              "      <th></th>\n",
              "      <th>texto</th>\n",
              "      <th>emocao</th>\n",
              "    </tr>\n",
              "  </thead>\n",
              "  <tbody>\n",
              "    <tr>\n",
              "      <th>0</th>\n",
              "      <td>este trabalho é agradável</td>\n",
              "      <td>alegria</td>\n",
              "    </tr>\n",
              "    <tr>\n",
              "      <th>1</th>\n",
              "      <td>gosto de ficar no seu aconchego</td>\n",
              "      <td>alegria</td>\n",
              "    </tr>\n",
              "    <tr>\n",
              "      <th>2</th>\n",
              "      <td>fiz a adesão ao curso hoje</td>\n",
              "      <td>alegria</td>\n",
              "    </tr>\n",
              "    <tr>\n",
              "      <th>3</th>\n",
              "      <td>eu sou admirada por muitos</td>\n",
              "      <td>alegria</td>\n",
              "    </tr>\n",
              "    <tr>\n",
              "      <th>4</th>\n",
              "      <td>adoro como você</td>\n",
              "      <td>alegria</td>\n",
              "    </tr>\n",
              "  </tbody>\n",
              "</table>\n",
              "</div>"
            ],
            "text/plain": [
              "                             texto   emocao\n",
              "0        este trabalho é agradável  alegria\n",
              "1  gosto de ficar no seu aconchego  alegria\n",
              "2       fiz a adesão ao curso hoje  alegria\n",
              "3       eu sou admirada por muitos  alegria\n",
              "4                  adoro como você  alegria"
            ]
          },
          "metadata": {},
          "execution_count": 7
        }
      ]
    },
    {
      "cell_type": "code",
      "source": [
        "sns.countplot(base_Dados['emocao'], label = 'Contagem');"
      ],
      "metadata": {
        "colab": {
          "base_uri": "https://localhost:8080/",
          "height": 0
        },
        "id": "9pkhL9KRrfx7",
        "outputId": "5c646511-bc8b-4e43-ae5e-b09e56d08bc9"
      },
      "execution_count": 8,
      "outputs": [
        {
          "output_type": "stream",
          "name": "stderr",
          "text": [
            "/usr/local/lib/python3.7/dist-packages/seaborn/_decorators.py:43: FutureWarning: Pass the following variable as a keyword arg: x. From version 0.12, the only valid positional argument will be `data`, and passing other arguments without an explicit keyword will result in an error or misinterpretation.\n",
            "  FutureWarning\n"
          ]
        },
        {
          "output_type": "display_data",
          "data": {
            "image/png": "[encoded data removed]",
            "text/plain": [
              "<Figure size 432x288 with 1 Axes>"
            ]
          },
          "metadata": {
            "needs_background": "light"
          }
        }
      ]
    },
    {
      "cell_type": "markdown",
      "source": [
        "# Pré_processamento"
      ],
      "metadata": {
        "id": "MRgV524Dr5bG"
      }
    },
    {
      "cell_type": "code",
      "source": [
        "pontuacao = string.punctuation\n",
        "pontuacao"
      ],
      "metadata": {
        "colab": {
          "base_uri": "https://localhost:8080/",
          "height": 0
        },
        "id": "D82-et_drzZL",
        "outputId": "10251ae8-8543-4021-8770-712df57f228a"
      },
      "execution_count": 9,
      "outputs": [
        {
          "output_type": "execute_result",
          "data": {
            "application/vnd.google.colaboratory.intrinsic+json": {
              "type": "string"
            },
            "text/plain": [
              "'!\"#$%&\\'()*+,-./:;<=>?@[\\\\]^_`{|}~'"
            ]
          },
          "metadata": {},
          "execution_count": 9
        }
      ]
    },
    {
      "cell_type": "code",
      "source": [
        "from spacy.lang.pt.stop_words import STOP_WORDS\n",
        "stop_words = STOP_WORDS"
      ],
      "metadata": {
        "id": "rlIdlVxJsBGx"
      },
      "execution_count": 10,
      "outputs": []
    },
    {
      "cell_type": "code",
      "source": [
        "pln = spacy.load('pt_core_news_sm')\n",
        "pln"
      ],
      "metadata": {
        "colab": {
          "base_uri": "https://localhost:8080/"
        },
        "id": "DwXbIOHAsOBE",
        "outputId": "0e585e8e-97e8-459c-965d-8a4ac100f5d0"
      },
      "execution_count": 11,
      "outputs": [
        {
          "output_type": "execute_result",
          "data": {
            "text/plain": [
              "<spacy.lang.pt.Portuguese at 0x7f7aceb71d10>"
            ]
          },
          "metadata": {},
          "execution_count": 11
        }
      ]
    },
    {
      "cell_type": "code",
      "source": [
        "def preprocessamento(texto):\n",
        "  \n",
        "  documento = pln(texto.lower())\n",
        "  lista = []\n",
        "\n",
        "  for token in documento:\n",
        "    # Usando Lematização\n",
        "    lista.append(token.lemma_)\n",
        "\n",
        "  lista = [palavra for palavra in lista if palavra not in stop_words and palavra not in pontuacao]\n",
        "  lista = \" \".join(([str(elemento) for elemento in lista if not elemento.isdigit()]) )\n",
        "  return lista"
      ],
      "metadata": {
        "id": "01QVtnUKsUjj"
      },
      "execution_count": 12,
      "outputs": []
    },
    {
      "cell_type": "code",
      "source": [
        "exempplo = preprocessamento('Estou aprendo Processamento de linguagem natural, sou do Rio de Janeiro')\n",
        "exempplo"
      ],
      "metadata": {
        "colab": {
          "base_uri": "https://localhost:8080/",
          "height": 0
        },
        "id": "LazrFiHfs-Mg",
        "outputId": "3b14e910-60ba-4550-f751-3b9a34830e1f"
      },
      "execution_count": 13,
      "outputs": [
        {
          "output_type": "execute_result",
          "data": {
            "application/vnd.google.colaboratory.intrinsic+json": {
              "type": "string"
            },
            "text/plain": [
              "'aprender processamento linguagem natural rir janeiro'"
            ]
          },
          "metadata": {},
          "execution_count": 13
        }
      ]
    },
    {
      "cell_type": "code",
      "source": [
        "base_Dados['texto']= base_Dados['texto'].apply(preprocessamento)\n",
        "base_Dados.head()"
      ],
      "metadata": {
        "colab": {
          "base_uri": "https://localhost:8080/",
          "height": 0
        },
        "id": "7l01VYdss9xI",
        "outputId": "d952086f-7b55-49d8-c75a-e53bb97d79c6"
      },
      "execution_count": 14,
      "outputs": [
        {
          "output_type": "execute_result",
          "data": {
            "text/html": [
              "<div>\n",
              "<style scoped>\n",
              "    .dataframe tbody tr th:only-of-type {\n",
              "        vertical-align: middle;\n",
              "    }\n",
              "\n",
              "    .dataframe tbody tr th {\n",
              "        vertical-align: top;\n",
              "    }\n",
              "\n",
              "    .dataframe thead th {\n",
              "        text-align: right;\n",
              "    }\n",
              "</style>\n",
              "<table border=\"1\" class=\"dataframe\">\n",
              "  <thead>\n",
              "    <tr style=\"text-align: right;\">\n",
              "      <th></th>\n",
              "      <th>texto</th>\n",
              "      <th>emocao</th>\n",
              "    </tr>\n",
              "  </thead>\n",
              "  <tbody>\n",
              "    <tr>\n",
              "      <th>0</th>\n",
              "      <td>trabalhar agradável</td>\n",
              "      <td>alegria</td>\n",
              "    </tr>\n",
              "    <tr>\n",
              "      <th>1</th>\n",
              "      <td>gostar ficar o aconchegar</td>\n",
              "      <td>alegria</td>\n",
              "    </tr>\n",
              "    <tr>\n",
              "      <th>2</th>\n",
              "      <td>o adesão o o cursar hoje</td>\n",
              "      <td>alegria</td>\n",
              "    </tr>\n",
              "    <tr>\n",
              "      <th>3</th>\n",
              "      <td>admirar</td>\n",
              "      <td>alegria</td>\n",
              "    </tr>\n",
              "    <tr>\n",
              "      <th>4</th>\n",
              "      <td>adorar comer</td>\n",
              "      <td>alegria</td>\n",
              "    </tr>\n",
              "  </tbody>\n",
              "</table>\n",
              "</div>"
            ],
            "text/plain": [
              "                       texto   emocao\n",
              "0        trabalhar agradável  alegria\n",
              "1  gostar ficar o aconchegar  alegria\n",
              "2   o adesão o o cursar hoje  alegria\n",
              "3                    admirar  alegria\n",
              "4               adorar comer  alegria"
            ]
          },
          "metadata": {},
          "execution_count": 14
        }
      ]
    },
    {
      "cell_type": "code",
      "source": [
        "# Tratando as classes\n",
        "\n",
        "base_Dados_final = []\n",
        "\n",
        "for texto, emocao in zip(base_Dados['texto'], base_Dados['emocao']):\n",
        "\n",
        "  if emocao == 'alegria':\n",
        "    dic = ({'ALEGRIA': True, \"MEDO\": False})\n",
        "\n",
        "  elif emocao == 'medo':\n",
        "    dic = ({'ALEGRIA': False, \"MEDO\": True})\n",
        "\n",
        "  base_Dados_final.append([texto, dic.copy()])"
      ],
      "metadata": {
        "id": "AqO25BgQs9fr"
      },
      "execution_count": 15,
      "outputs": []
    },
    {
      "cell_type": "code",
      "source": [
        "base_Dados_final"
      ],
      "metadata": {
        "colab": {
          "base_uri": "https://localhost:8080/"
        },
        "id": "jbiTozcvxSaq",
        "outputId": "03d1761c-f3ab-428f-c120-b4c3f3535341"
      },
      "execution_count": 16,
      "outputs": [
        {
          "output_type": "execute_result",
          "data": {
            "text/plain": [
              "[['trabalhar agradável', {'ALEGRIA': True, 'MEDO': False}],\n",
              " ['gostar ficar o aconchegar', {'ALEGRIA': True, 'MEDO': False}],\n",
              " ['o adesão o o cursar hoje', {'ALEGRIA': True, 'MEDO': False}],\n",
              " ['admirar', {'ALEGRIA': True, 'MEDO': False}],\n",
              " ['adorar comer', {'ALEGRIA': True, 'MEDO': False}],\n",
              " ['adorar cabelar maciar', {'ALEGRIA': True, 'MEDO': False}],\n",
              " ['adorar o cor olho', {'ALEGRIA': True, 'MEDO': False}],\n",
              " ['somar amável o outro', {'ALEGRIA': True, 'MEDO': False}],\n",
              " ['sentir umar afeição', {'ALEGRIA': True, 'MEDO': False}],\n",
              " ['querer agradar filho', {'ALEGRIA': True, 'MEDO': False}],\n",
              " ['sentir completamente amar', {'ALEGRIA': True, 'MEDO': False}],\n",
              " ['amar', {'ALEGRIA': True, 'MEDO': False}],\n",
              " ['alívio', {'ALEGRIA': True, 'MEDO': False}],\n",
              " ['o dor amenizar finalmente', {'ALEGRIA': True, 'MEDO': False}],\n",
              " ['achar apaixonar', {'ALEGRIA': True, 'MEDO': False}],\n",
              " ['amar maravilhoso', {'ALEGRIA': True, 'MEDO': False}],\n",
              " ['sentir animar', {'ALEGRIA': True, 'MEDO': False}],\n",
              " ['sentir hoje', {'ALEGRIA': True, 'MEDO': False}],\n",
              " ['comer o luar belo', {'ALEGRIA': True, 'MEDO': False}],\n",
              " ['o dia bonito', {'ALEGRIA': True, 'MEDO': False}],\n",
              " ['comer afortunar', {'ALEGRIA': True, 'MEDO': False}],\n",
              " ['o maravilhar mundo', {'ALEGRIA': True, 'MEDO': False}],\n",
              " ['receber caro hoje colega', {'ALEGRIA': True, 'MEDO': False}],\n",
              " ['sentir reconfortar hoje', {'ALEGRIA': True, 'MEDO': False}],\n",
              " ['o amigo', {'ALEGRIA': True, 'MEDO': False}],\n",
              " ['contentar o resultar teste', {'ALEGRIA': True, 'MEDO': False}],\n",
              " ['pintura brilhante', {'ALEGRIA': True, 'MEDO': False}],\n",
              " ['água abundância', {'ALEGRIA': True, 'MEDO': False}],\n",
              " ['roupar delicado', {'ALEGRIA': True, 'MEDO': False}],\n",
              " ['comediante', {'ALEGRIA': True, 'MEDO': False}],\n",
              " ['bondade o suar', {'ALEGRIA': True, 'MEDO': False}],\n",
              " ['o amor lindar', {'ALEGRIA': True, 'MEDO': False}],\n",
              " ['amizade durar parir', {'ALEGRIA': True, 'MEDO': False}],\n",
              " ['eufórico o notícia', {'ALEGRIA': True, 'MEDO': False}],\n",
              " ['realmente fiel o mim', {'ALEGRIA': True, 'MEDO': False}],\n",
              " ['umar festa parir comemorar aniversário', {'ALEGRIA': True, 'MEDO': False}],\n",
              " ['graça o deus enxergar o certar', {'ALEGRIA': True, 'MEDO': False}],\n",
              " ['o melhor escolher', {'ALEGRIA': True, 'MEDO': False}],\n",
              " ['o incrível belo', {'ALEGRIA': True, 'MEDO': False}],\n",
              " ['engraçar explicar', {'ALEGRIA': True, 'MEDO': False}],\n",
              " ['emocionante n', {'ALEGRIA': True, 'MEDO': False}],\n",
              " ['cativar pelar olhar', {'ALEGRIA': True, 'MEDO': False}],\n",
              " ['loucamente apaixonar', {'ALEGRIA': True, 'MEDO': False}],\n",
              " ['dúvida', {'ALEGRIA': True, 'MEDO': False}],\n",
              " ['rodear pelar abraçar', {'ALEGRIA': True, 'MEDO': False}],\n",
              " ['estrelo pelar caminhar', {'ALEGRIA': True, 'MEDO': False}],\n",
              " ['sentir o sol', {'ALEGRIA': True, 'MEDO': False}],\n",
              " ['sorrir orelhar o orelhar', {'ALEGRIA': True, 'MEDO': False}],\n",
              " ['valer o peno', {'ALEGRIA': True, 'MEDO': False}],\n",
              " ['finalmente colocar amor', {'ALEGRIA': True, 'MEDO': False}],\n",
              " ['nó dançar noite adentrar', {'ALEGRIA': True, 'MEDO': False}],\n",
              " ['amor brilhante', {'ALEGRIA': True, 'MEDO': False}],\n",
              " ['tocar coração durante o caminhar', {'ALEGRIA': True, 'MEDO': False}],\n",
              " ['suar amigo e companheiro', {'ALEGRIA': True, 'MEDO': False}],\n",
              " ['trazer voltar o vidar', {'ALEGRIA': True, 'MEDO': False}],\n",
              " ['e comer sonhar doce', {'ALEGRIA': True, 'MEDO': False}],\n",
              " ['adorar doce frutar', {'ALEGRIA': True, 'MEDO': False}],\n",
              " ['suco favorito', {'ALEGRIA': True, 'MEDO': False}],\n",
              " ['agradecido pelar ajudar', {'ALEGRIA': True, 'MEDO': False}],\n",
              " ['enorme prazer equipar', {'ALEGRIA': True, 'MEDO': False}],\n",
              " ['trabalhar equipar o melhor', {'ALEGRIA': True, 'MEDO': False}],\n",
              " ['sentir flutuar o ar', {'ALEGRIA': True, 'MEDO': False}],\n",
              " ['o brisa agradável hoje', {'ALEGRIA': True, 'MEDO': False}],\n",
              " ['ótimo e compatível', {'ALEGRIA': True, 'MEDO': False}],\n",
              " ['compatível o outro', {'ALEGRIA': True, 'MEDO': False}],\n",
              " ['o órgão compatível o paciente', {'ALEGRIA': True, 'MEDO': False}],\n",
              " ['contentar aceito o faculdade', {'ALEGRIA': True, 'MEDO': False}],\n",
              " ['aprovar o exame', {'ALEGRIA': True, 'MEDO': False}],\n",
              " ['beneficiar pelar empresar', {'ALEGRIA': True, 'MEDO': False}],\n",
              " ['cativante', {'ALEGRIA': True, 'MEDO': False}],\n",
              " ['contentar o apoiar', {'ALEGRIA': True, 'MEDO': False}],\n",
              " ['comer e confortável', {'ALEGRIA': True, 'MEDO': False}],\n",
              " ['e quentar n frio', {'ALEGRIA': True, 'MEDO': False}],\n",
              " ['elogiar e', {'ALEGRIA': True, 'MEDO': False}],\n",
              " ['chamar parir comemorar', {'ALEGRIA': True, 'MEDO': False}],\n",
              " ['desejável o suar presença apresentação', {'ALEGRIA': True, 'MEDO': False}],\n",
              " ['grato o', {'ALEGRIA': True, 'MEDO': False}],\n",
              " ['dedicar n', {'ALEGRIA': True, 'MEDO': False}],\n",
              " ['completamente apaixonar', {'ALEGRIA': True, 'MEDO': False}],\n",
              " ['agitar noite', {'ALEGRIA': True, 'MEDO': False}],\n",
              " ['significar parir mim', {'ALEGRIA': True, 'MEDO': False}],\n",
              " ['agir preconceito e julgamento', {'ALEGRIA': True, 'MEDO': False}],\n",
              " ['finalmente completar o coleção maravilhoso',\n",
              "  {'ALEGRIA': True, 'MEDO': False}],\n",
              " ['suar rei', {'ALEGRIA': True, 'MEDO': False}],\n",
              " ['satisfatoriamente anunciar o vencedor jogo',\n",
              "  {'ALEGRIA': True, 'MEDO': False}],\n",
              " ['atrair facilmente', {'ALEGRIA': True, 'MEDO': False}],\n",
              " ['rapaz e extremamente atraente', {'ALEGRIA': True, 'MEDO': False}],\n",
              " ['sinto-me vivo', {'ALEGRIA': True, 'MEDO': False}],\n",
              " ['sinto-me paz', {'ALEGRIA': True, 'MEDO': False}],\n",
              " ['lucrar', {'ALEGRIA': True, 'MEDO': False}],\n",
              " ['ordem', {'ALEGRIA': True, 'MEDO': False}],\n",
              " ['arrumar empregar junto', {'ALEGRIA': True, 'MEDO': False}],\n",
              " ['o arrumação terminar alívio', {'ALEGRIA': True, 'MEDO': False}],\n",
              " ['o câncer benigno', {'ALEGRIA': True, 'MEDO': False}],\n",
              " ['o amor abundante', {'ALEGRIA': True, 'MEDO': False}],\n",
              " ['caridoso natal', {'ALEGRIA': True, 'MEDO': False}],\n",
              " ['charme irar atrair o', {'ALEGRIA': True, 'MEDO': False}],\n",
              " ['comer charmoso querer', {'ALEGRIA': True, 'MEDO': False}],\n",
              " ['querido amigo', {'ALEGRIA': True, 'MEDO': False}],\n",
              " ['cuidadoso o sentimento', {'ALEGRIA': True, 'MEDO': False}],\n",
              " ['comover tamanho caridade', {'ALEGRIA': True, 'MEDO': False}],\n",
              " ['chá quentar e reconfortante', {'ALEGRIA': True, 'MEDO': False}],\n",
              " ['alegria', {'ALEGRIA': True, 'MEDO': False}],\n",
              " ['aplaudir o vencedor', {'ALEGRIA': True, 'MEDO': False}],\n",
              " ['palmar parir o aniversariante', {'ALEGRIA': True, 'MEDO': False}],\n",
              " ['desejar o', {'ALEGRIA': True, 'MEDO': False}],\n",
              " ['horar apreciar vinho', {'ALEGRIA': True, 'MEDO': False}],\n",
              " ['apreciar suar presença escola', {'ALEGRIA': True, 'MEDO': False}],\n",
              " ['ansiar trabalho', {'ALEGRIA': True, 'MEDO': False}],\n",
              " ['maravilhoso jogar amistoso', {'ALEGRIA': True, 'MEDO': False}],\n",
              " ['e ótimo o menimos apaziguar', {'ALEGRIA': True, 'MEDO': False}],\n",
              " ['concretizar finalmente sonhar', {'ALEGRIA': True, 'MEDO': False}],\n",
              " ['implorar matar', {'ALEGRIA': False, 'MEDO': True}],\n",
              " ['perigoso', {'ALEGRIA': False, 'MEDO': True}],\n",
              " ['segurar', {'ALEGRIA': False, 'MEDO': True}],\n",
              " ['correr pra', {'ALEGRIA': False, 'MEDO': True}],\n",
              " ['socorrer querer roubar o doce', {'ALEGRIA': False, 'MEDO': True}],\n",
              " ['caro perseguir', {'ALEGRIA': False, 'MEDO': True}],\n",
              " ['entrar perigoso', {'ALEGRIA': False, 'MEDO': True}],\n",
              " ['continuar assustador', {'ALEGRIA': False, 'MEDO': True}],\n",
              " ['o selva animar perigoso', {'ALEGRIA': False, 'MEDO': True}],\n",
              " ['avançar cautela', {'ALEGRIA': False, 'MEDO': True}],\n",
              " ['silencioso cuidar', {'ALEGRIA': False, 'MEDO': True}],\n",
              " ['deixe-me viver', {'ALEGRIA': False, 'MEDO': True}],\n",
              " ['ficar mesada tirar noto', {'ALEGRIA': False, 'MEDO': True}],\n",
              " ['parecer olho o vigiar', {'ALEGRIA': False, 'MEDO': True}],\n",
              " ['o sentença juiz negativo', {'ALEGRIA': False, 'MEDO': True}],\n",
              " ['missão arriscar', {'ALEGRIA': False, 'MEDO': True}],\n",
              " ['salvem-se', {'ALEGRIA': False, 'MEDO': True}],\n",
              " ['planar descobrir', {'ALEGRIA': False, 'MEDO': True}],\n",
              " ['culpar jurar', {'ALEGRIA': False, 'MEDO': True}],\n",
              " ['tomar cuidar o lobisomem', {'ALEGRIA': False, 'MEDO': True}],\n",
              " ['achar descobrir o verdade', {'ALEGRIA': False, 'MEDO': True}],\n",
              " ['deus desaparecer', {'ALEGRIA': False, 'MEDO': True}],\n",
              " ['tomar d', {'ALEGRIA': False, 'MEDO': True}],\n",
              " ['manter segredar descobrir ferrar', {'ALEGRIA': False, 'MEDO': True}],\n",
              " ['soltar inocentar', {'ALEGRIA': False, 'MEDO': True}],\n",
              " ['ouvir passo mim', {'ALEGRIA': False, 'MEDO': True}],\n",
              " ['pedir socorrer', {'ALEGRIA': False, 'MEDO': True}],\n",
              " ['cuidar o curvo o estrar', {'ALEGRIA': False, 'MEDO': True}],\n",
              " ['parecer perigoso', {'ALEGRIA': False, 'MEDO': True}],\n",
              " ['tremer medo', {'ALEGRIA': False, 'MEDO': True}],\n",
              " ['socorrer cair', {'ALEGRIA': False, 'MEDO': True}],\n",
              " ['o florestar negro perigoso', {'ALEGRIA': False, 'MEDO': True}],\n",
              " ['ouvir passo o direção', {'ALEGRIA': False, 'MEDO': True}],\n",
              " ['achar arriscar', {'ALEGRIA': False, 'MEDO': True}],\n",
              " ['voltar perigoso', {'ALEGRIA': False, 'MEDO': True}],\n",
              " ['fugir acabar morto', {'ALEGRIA': False, 'MEDO': True}],\n",
              " ['recear livrar d situação', {'ALEGRIA': False, 'MEDO': True}],\n",
              " ['socorrer armar', {'ALEGRIA': False, 'MEDO': True}],\n",
              " ['eis cuidar bater o postar', {'ALEGRIA': False, 'MEDO': True}],\n",
              " ['socorrer nó afundar', {'ALEGRIA': False, 'MEDO': True}],\n",
              " ['e sério cuidar armar', {'ALEGRIA': False, 'MEDO': True}],\n",
              " ['o tubarão atacar', {'ALEGRIA': False, 'MEDO': True}],\n",
              " ['sentir arrepio ficar o escuro', {'ALEGRIA': False, 'MEDO': True}],\n",
              " ['calmo o dinheiro', {'ALEGRIA': False, 'MEDO': True}],\n",
              " ['achar enganar', {'ALEGRIA': False, 'MEDO': True}],\n",
              " ['ligeiro fugir depressa', {'ALEGRIA': False, 'MEDO': True}],\n",
              " ['crocodilo selvagem vir parir', {'ALEGRIA': False, 'MEDO': True}],\n",
              " ['ficar o achar', {'ALEGRIA': False, 'MEDO': True}],\n",
              " ['fugir o tigre parecer faminto', {'ALEGRIA': False, 'MEDO': True}],\n",
              " ['sair precisar milagre', {'ALEGRIA': False, 'MEDO': True}],\n",
              " ['tirar mim socorrer', {'ALEGRIA': False, 'MEDO': True}],\n",
              " ['nadar afogar', {'ALEGRIA': False, 'MEDO': True}],\n",
              " ['e segurar', {'ALEGRIA': False, 'MEDO': True}],\n",
              " ['apanhar pai boletim', {'ALEGRIA': False, 'MEDO': True}],\n",
              " ['conseguir sair d', {'ALEGRIA': False, 'MEDO': True}],\n",
              " ['sair tardar assaltar', {'ALEGRIA': False, 'MEDO': True}],\n",
              " ['deixar', {'ALEGRIA': False, 'MEDO': True}],\n",
              " ['esperar largar', {'ALEGRIA': False, 'MEDO': True}],\n",
              " ['pelar suar segurança', {'ALEGRIA': False, 'MEDO': True}],\n",
              " ['entregar o dinheiro matar', {'ALEGRIA': False, 'MEDO': True}],\n",
              " ['levar o dinheiro', {'ALEGRIA': False, 'MEDO': True}],\n",
              " ['dirigir rápido', {'ALEGRIA': False, 'MEDO': True}],\n",
              " ['descobrir prender', {'ALEGRIA': False, 'MEDO': True}],\n",
              " ['esperar nenhum', {'ALEGRIA': False, 'MEDO': True}],\n",
              " ['afogar ajudar o sair água', {'ALEGRIA': False, 'MEDO': True}],\n",
              " ['o salvar', {'ALEGRIA': False, 'MEDO': True}],\n",
              " ['querer pensar o acontecer', {'ALEGRIA': False, 'MEDO': True}],\n",
              " ['n cidade umar desgraçar outro', {'ALEGRIA': False, 'MEDO': True}],\n",
              " ['alguém ligar assustar', {'ALEGRIA': False, 'MEDO': True}],\n",
              " ['remedio matar', {'ALEGRIA': False, 'MEDO': True}],\n",
              " ['confiar n cautela', {'ALEGRIA': False, 'MEDO': True}],\n",
              " ['cautela', {'ALEGRIA': False, 'MEDO': True}],\n",
              " ['descobrir deus', {'ALEGRIA': False, 'MEDO': True}],\n",
              " ['recear', {'ALEGRIA': False, 'MEDO': True}],\n",
              " ['o noite e perigoso', {'ALEGRIA': False, 'MEDO': True}],\n",
              " ['estremecer casar', {'ALEGRIA': False, 'MEDO': True}],\n",
              " ['olhar criatura mover monstruosamente', {'ALEGRIA': False, 'MEDO': True}],\n",
              " ['aguentar suspense', {'ALEGRIA': False, 'MEDO': True}],\n",
              " ['afugentar o cão', {'ALEGRIA': False, 'MEDO': True}],\n",
              " ['chocar e amedrontar assassinato brutal', {'ALEGRIA': False, 'MEDO': True}],\n",
              " ['precisar afugentar ímpeto medo infernar', {'ALEGRIA': False, 'MEDO': True}],\n",
              " ['político suar forçar parir afugentar e amedrontar o',\n",
              "  {'ALEGRIA': False, 'MEDO': True}],\n",
              " ['o objetivo d e amedrontar', {'ALEGRIA': False, 'MEDO': True}],\n",
              " ['apavorar', {'ALEGRIA': False, 'MEDO': True}]]"
            ]
          },
          "metadata": {},
          "execution_count": 16
        }
      ]
    },
    {
      "cell_type": "markdown",
      "source": [
        "# Classificador"
      ],
      "metadata": {
        "id": "y0h3Zb0exx9s"
      }
    },
    {
      "cell_type": "code",
      "source": [
        "modelo = spacy.blank('pt')\n",
        "categorias = modelo.create_pipe(\"textcat\")\n",
        "categorias.add_label(\"ALEGRIA\")\n",
        "categorias.add_label(\"MEDO\")\n",
        "modelo.add_pipe(categorias)\n",
        "historico = []"
      ],
      "metadata": {
        "id": "p-ogprxxxhdR"
      },
      "execution_count": 17,
      "outputs": []
    },
    {
      "cell_type": "code",
      "source": [
        "modelo.begin_training()\n",
        "\n",
        "for epoca in range(1000):\n",
        "  random.shuffle(base_Dados_final)\n",
        "  losses = {}\n",
        "\n",
        "  for batch in spacy.util.minibatch(base_Dados_final, 30):\n",
        "    textos = [modelo(texto) for texto, entities in batch]\n",
        "    annotations = [{'cats' : entities} for texto, entities in batch]\n",
        "    modelo.update(textos, annotations, losses = losses)\n",
        "  \n",
        "  if epoca % 100 == 0:\n",
        "    print(losses)\n",
        "    historico.append(losses)"
      ],
      "metadata": {
        "colab": {
          "base_uri": "https://localhost:8080/"
        },
        "id": "WSdnE7rbyXpT",
        "outputId": "bc389a21-ddb7-494d-f7e2-a6b105cfad61"
      },
      "execution_count": 19,
      "outputs": [
        {
          "output_type": "stream",
          "name": "stdout",
          "text": [
            "{'textcat': 0.007309003791306168}\n",
            "{'textcat': 1.796288318089978e-07}\n",
            "{'textcat': 5.154637783277849e-08}\n",
            "{'textcat': 2.5954845828124462e-08}\n",
            "{'textcat': 1.668900173612542e-08}\n",
            "{'textcat': 1.0348375156787881e-08}\n",
            "{'textcat': 8.165223497336171e-09}\n",
            "{'textcat': 6.257491913519431e-09}\n",
            "{'textcat': 5.281605597318162e-09}\n",
            "{'textcat': 5.374498734944666e-09}\n"
          ]
        }
      ]
    },
    {
      "cell_type": "code",
      "source": [
        "historico"
      ],
      "metadata": {
        "colab": {
          "base_uri": "https://localhost:8080/"
        },
        "id": "lTre6pyxUv3h",
        "outputId": "05e4a9a0-53a9-4710-a149-b40cb0e848da"
      },
      "execution_count": 20,
      "outputs": [
        {
          "output_type": "execute_result",
          "data": {
            "text/plain": [
              "[{'textcat': 0.007309003791306168},\n",
              " {'textcat': 1.796288318089978e-07},\n",
              " {'textcat': 5.154637783277849e-08},\n",
              " {'textcat': 2.5954845828124462e-08},\n",
              " {'textcat': 1.668900173612542e-08},\n",
              " {'textcat': 1.0348375156787881e-08},\n",
              " {'textcat': 8.165223497336171e-09},\n",
              " {'textcat': 6.257491913519431e-09},\n",
              " {'textcat': 5.281605597318162e-09},\n",
              " {'textcat': 5.374498734944666e-09}]"
            ]
          },
          "metadata": {},
          "execution_count": 20
        }
      ]
    },
    {
      "cell_type": "code",
      "source": [
        "historico_loss = []\n",
        "for i in historico:\n",
        "  historico_loss.append(i.get(\"textcat\"))"
      ],
      "metadata": {
        "id": "zyIO_MCjZ2Av"
      },
      "execution_count": 23,
      "outputs": []
    },
    {
      "cell_type": "code",
      "source": [
        "historico_loss = np.array(historico_loss)\n",
        "historico_loss"
      ],
      "metadata": {
        "colab": {
          "base_uri": "https://localhost:8080/"
        },
        "id": "zn70y6lKaOdu",
        "outputId": "9cb65029-f1f0-4d50-d0e7-651ea8205e9d"
      },
      "execution_count": 24,
      "outputs": [
        {
          "output_type": "execute_result",
          "data": {
            "text/plain": [
              "array([7.30900379e-03, 1.79628832e-07, 5.15463778e-08, 2.59548458e-08,\n",
              "       1.66890017e-08, 1.03483752e-08, 8.16522350e-09, 6.25749191e-09,\n",
              "       5.28160560e-09, 5.37449873e-09])"
            ]
          },
          "metadata": {},
          "execution_count": 24
        }
      ]
    },
    {
      "cell_type": "code",
      "source": [
        "import matplotlib.pyplot as plt\n",
        "\n",
        "plt.plot(historico_loss)\n",
        "plt.title(\"Progressão do error\")\n",
        "plt.xlabel(\"Épocas\")\n",
        "plt.ylabel(\"Erro\")"
      ],
      "metadata": {
        "colab": {
          "base_uri": "https://localhost:8080/",
          "height": 314
        },
        "id": "kog3nItGafE-",
        "outputId": "cd62a954-4159-4f89-d14e-f764cf3d6ad6"
      },
      "execution_count": 26,
      "outputs": [
        {
          "output_type": "execute_result",
          "data": {
            "text/plain": [
              "Text(0, 0.5, 'Erro')"
            ]
          },
          "metadata": {},
          "execution_count": 26
        },
        {
          "output_type": "display_data",
          "data": {
            "image/png": "[encoded data removed]",
            "text/plain": [
              "<Figure size 432x288 with 1 Axes>"
            ]
          },
          "metadata": {
            "needs_background": "light"
          }
        }
      ]
    },
    {
      "cell_type": "code",
      "source": [
        "modelo.to_disk(\"modelo\")"
      ],
      "metadata": {
        "id": "t74eeEOiawCw"
      },
      "execution_count": 27,
      "outputs": []
    },
    {
      "cell_type": "markdown",
      "source": [
        "# Testando o modelo"
      ],
      "metadata": {
        "id": "0CIDy5hpbMKf"
      }
    },
    {
      "cell_type": "code",
      "source": [
        "modelo_carregado = spacy.load(\"modelo\")\n",
        "modelo_carregado"
      ],
      "metadata": {
        "colab": {
          "base_uri": "https://localhost:8080/"
        },
        "id": "gZsHIzHQa9xG",
        "outputId": "d1557ca7-7c61-4aa7-8bee-b2bbdb801a67"
      },
      "execution_count": 28,
      "outputs": [
        {
          "output_type": "execute_result",
          "data": {
            "text/plain": [
              "<spacy.lang.pt.Portuguese at 0x7f7ac2268cd0>"
            ]
          },
          "metadata": {},
          "execution_count": 28
        }
      ]
    },
    {
      "cell_type": "code",
      "source": [
        "texto_positivo = \"Eu adoro a cor do céu\""
      ],
      "metadata": {
        "id": "CYyVtaUxbWQO"
      },
      "execution_count": 29,
      "outputs": []
    },
    {
      "cell_type": "code",
      "source": [
        "texto_positivo = preprocessamento(texto_positivo)\n",
        "texto_positivo"
      ],
      "metadata": {
        "colab": {
          "base_uri": "https://localhost:8080/",
          "height": 35
        },
        "id": "eoDXEbATbfS_",
        "outputId": "2947cbe0-cff3-4fb0-88b6-09f289bed9a3"
      },
      "execution_count": 30,
      "outputs": [
        {
          "output_type": "execute_result",
          "data": {
            "application/vnd.google.colaboratory.intrinsic+json": {
              "type": "string"
            },
            "text/plain": [
              "'adorar o cor céu'"
            ]
          },
          "metadata": {},
          "execution_count": 30
        }
      ]
    },
    {
      "cell_type": "code",
      "source": [
        "previsao = modelo_carregado(texto_positivo)\n",
        "previsao.cats"
      ],
      "metadata": {
        "colab": {
          "base_uri": "https://localhost:8080/"
        },
        "id": "m0Q6qNbQbjc-",
        "outputId": "361ba20a-06a1-4195-e842-c721fefed3a9"
      },
      "execution_count": 31,
      "outputs": [
        {
          "output_type": "execute_result",
          "data": {
            "text/plain": [
              "{'ALEGRIA': 0.9997937083244324, 'MEDO': 9.463807509746403e-05}"
            ]
          },
          "metadata": {},
          "execution_count": 31
        }
      ]
    },
    {
      "cell_type": "code",
      "source": [
        "texto_negativo = \"Ela tem medo de todos nós, mas hoje sorri\"\n",
        "texto_negativo = preprocessamento(texto_negativo)"
      ],
      "metadata": {
        "id": "c_OIf30KbvW_"
      },
      "execution_count": 32,
      "outputs": []
    },
    {
      "cell_type": "code",
      "source": [
        "previsao = modelo_carregado(texto_negativo)\n",
        "previsao.cats"
      ],
      "metadata": {
        "colab": {
          "base_uri": "https://localhost:8080/"
        },
        "id": "GXo-Aa49b_Jv",
        "outputId": "e94f36b6-58df-4458-93eb-269fdd0cf2c3"
      },
      "execution_count": 34,
      "outputs": [
        {
          "output_type": "execute_result",
          "data": {
            "text/plain": [
              "{'ALEGRIA': 0.4782835841178894, 'MEDO': 0.3096868693828583}"
            ]
          },
          "metadata": {},
          "execution_count": 34
        }
      ]
    },
    {
      "cell_type": "code",
      "source": [
        "Ramon = preprocessamento('o chihuahua é o animal mais distante de deus')\n",
        "modelo_carregado(Ramon).cats"
      ],
      "metadata": {
        "colab": {
          "base_uri": "https://localhost:8080/"
        },
        "id": "aAmym-e5cDCX",
        "outputId": "6238a42f-8135-4e8a-af76-a089bdfd4f16"
      },
      "execution_count": 35,
      "outputs": [
        {
          "output_type": "execute_result",
          "data": {
            "text/plain": [
              "{'ALEGRIA': 0.20239979028701782, 'MEDO': 0.8578912019729614}"
            ]
          },
          "metadata": {},
          "execution_count": 35
        }
      ]
    },
    {
      "cell_type": "code",
      "source": [
        "lusca = preprocessamento('Eu sou o anjo que salva a todos')\n",
        "modelo_carregado(lusca).cats"
      ],
      "metadata": {
        "colab": {
          "base_uri": "https://localhost:8080/"
        },
        "id": "hwHLIZbOecv2",
        "outputId": "d348c916-3761-4fed-888f-f3a451874c1f"
      },
      "execution_count": 39,
      "outputs": [
        {
          "output_type": "execute_result",
          "data": {
            "text/plain": [
              "{'ALEGRIA': 0.9989290833473206, 'MEDO': 0.0012074457481503487}"
            ]
          },
          "metadata": {},
          "execution_count": 39
        }
      ]
    },
    {
      "cell_type": "code",
      "source": [
        "Ramon = preprocessamento('fadas açucaradas morando no fim do arco íris')\n",
        "modelo_carregado(Ramon).cats"
      ],
      "metadata": {
        "colab": {
          "base_uri": "https://localhost:8080/"
        },
        "id": "UDSF07-wjfkY",
        "outputId": "af50326d-561e-435d-f275-d58bb4f1a296"
      },
      "execution_count": 56,
      "outputs": [
        {
          "output_type": "execute_result",
          "data": {
            "text/plain": [
              "{'ALEGRIA': 0.979663074016571, 'MEDO': 0.01649300940334797}"
            ]
          },
          "metadata": {},
          "execution_count": 56
        }
      ]
    },
    {
      "cell_type": "markdown",
      "source": [
        "# Avaliação do modelo"
      ],
      "metadata": {
        "id": "m24BBochdj2o"
      }
    },
    {
      "cell_type": "markdown",
      "source": [
        "## Base de treinamento"
      ],
      "metadata": {
        "id": "yfpd35dChjwD"
      }
    },
    {
      "cell_type": "code",
      "source": [
        "previsoes = []\n",
        "\n",
        "for texto in base_Dados['texto']:\n",
        "\n",
        "  previsao = modelo_carregado(texto)\n",
        "  previsoes.append(previsao.cats)"
      ],
      "metadata": {
        "id": "p9dVQkU6clV-"
      },
      "execution_count": 37,
      "outputs": []
    },
    {
      "cell_type": "code",
      "source": [
        "previsoes"
      ],
      "metadata": {
        "id": "F9xOmGcyd5BX"
      },
      "execution_count": null,
      "outputs": []
    },
    {
      "cell_type": "code",
      "source": [
        "previsoes_final = []\n",
        "\n",
        "for previsao in previsoes:\n",
        "\n",
        "  if previsao['ALEGRIA'] > previsao['MEDO']:\n",
        "    previsoes_final.append(\"alegria\")\n",
        "\n",
        "  else:\n",
        "    previsoes_final.append(\"medo\")\n",
        "\n",
        "previsoes_final = np.array(previsoes_final)\n",
        "previsoes_final"
      ],
      "metadata": {
        "colab": {
          "base_uri": "https://localhost:8080/"
        },
        "id": "ViFtWBAWeEc3",
        "outputId": "e227cf9e-09ea-4bae-de6d-adf0dc74f98c"
      },
      "execution_count": 41,
      "outputs": [
        {
          "output_type": "execute_result",
          "data": {
            "text/plain": [
              "array(['alegria', 'alegria', 'alegria', 'alegria', 'alegria', 'alegria',\n",
              "       'alegria', 'alegria', 'alegria', 'alegria', 'alegria', 'alegria',\n",
              "       'alegria', 'alegria', 'alegria', 'alegria', 'alegria', 'alegria',\n",
              "       'alegria', 'alegria', 'alegria', 'alegria', 'alegria', 'alegria',\n",
              "       'alegria', 'alegria', 'alegria', 'alegria', 'alegria', 'alegria',\n",
              "       'alegria', 'alegria', 'alegria', 'alegria', 'alegria', 'alegria',\n",
              "       'alegria', 'alegria', 'alegria', 'alegria', 'alegria', 'alegria',\n",
              "       'alegria', 'alegria', 'alegria', 'alegria', 'alegria', 'alegria',\n",
              "       'alegria', 'alegria', 'alegria', 'alegria', 'alegria', 'alegria',\n",
              "       'alegria', 'alegria', 'alegria', 'alegria', 'alegria', 'alegria',\n",
              "       'alegria', 'alegria', 'alegria', 'alegria', 'alegria', 'alegria',\n",
              "       'alegria', 'alegria', 'alegria', 'alegria', 'alegria', 'alegria',\n",
              "       'alegria', 'alegria', 'alegria', 'alegria', 'alegria', 'alegria',\n",
              "       'alegria', 'alegria', 'alegria', 'alegria', 'alegria', 'alegria',\n",
              "       'alegria', 'alegria', 'alegria', 'alegria', 'alegria', 'alegria',\n",
              "       'alegria', 'alegria', 'alegria', 'alegria', 'alegria', 'alegria',\n",
              "       'alegria', 'alegria', 'alegria', 'alegria', 'alegria', 'alegria',\n",
              "       'alegria', 'alegria', 'alegria', 'alegria', 'alegria', 'alegria',\n",
              "       'alegria', 'alegria', 'alegria', 'alegria', 'medo', 'medo', 'medo',\n",
              "       'medo', 'medo', 'medo', 'medo', 'medo', 'medo', 'medo', 'medo',\n",
              "       'medo', 'medo', 'medo', 'medo', 'medo', 'medo', 'medo', 'medo',\n",
              "       'medo', 'medo', 'medo', 'medo', 'medo', 'medo', 'medo', 'medo',\n",
              "       'medo', 'medo', 'medo', 'medo', 'medo', 'medo', 'medo', 'medo',\n",
              "       'medo', 'medo', 'medo', 'medo', 'medo', 'medo', 'medo', 'medo',\n",
              "       'medo', 'medo', 'medo', 'medo', 'medo', 'medo', 'medo', 'medo',\n",
              "       'medo', 'medo', 'medo', 'medo', 'medo', 'medo', 'medo', 'medo',\n",
              "       'medo', 'medo', 'medo', 'medo', 'medo', 'medo', 'medo', 'medo',\n",
              "       'medo', 'medo', 'medo', 'medo', 'medo', 'medo', 'medo', 'medo',\n",
              "       'medo', 'medo', 'medo', 'medo', 'medo', 'medo', 'medo', 'medo',\n",
              "       'medo'], dtype='<U7')"
            ]
          },
          "metadata": {},
          "execution_count": 41
        }
      ]
    },
    {
      "cell_type": "code",
      "source": [
        "respostas_reais = base_Dados['emocao'].values\n",
        "respostas_reais"
      ],
      "metadata": {
        "colab": {
          "base_uri": "https://localhost:8080/"
        },
        "id": "SETusM7dhCAf",
        "outputId": "f8a9d2c4-8cc2-415d-9c63-46af25fd188c"
      },
      "execution_count": 42,
      "outputs": [
        {
          "output_type": "execute_result",
          "data": {
            "text/plain": [
              "array(['alegria', 'alegria', 'alegria', 'alegria', 'alegria', 'alegria',\n",
              "       'alegria', 'alegria', 'alegria', 'alegria', 'alegria', 'alegria',\n",
              "       'alegria', 'alegria', 'alegria', 'alegria', 'alegria', 'alegria',\n",
              "       'alegria', 'alegria', 'alegria', 'alegria', 'alegria', 'alegria',\n",
              "       'alegria', 'alegria', 'alegria', 'alegria', 'alegria', 'alegria',\n",
              "       'alegria', 'alegria', 'alegria', 'alegria', 'alegria', 'alegria',\n",
              "       'alegria', 'alegria', 'alegria', 'alegria', 'alegria', 'alegria',\n",
              "       'alegria', 'alegria', 'alegria', 'alegria', 'alegria', 'alegria',\n",
              "       'alegria', 'alegria', 'alegria', 'alegria', 'alegria', 'alegria',\n",
              "       'alegria', 'alegria', 'alegria', 'alegria', 'alegria', 'alegria',\n",
              "       'alegria', 'alegria', 'alegria', 'alegria', 'alegria', 'alegria',\n",
              "       'alegria', 'alegria', 'alegria', 'alegria', 'alegria', 'alegria',\n",
              "       'alegria', 'alegria', 'alegria', 'alegria', 'alegria', 'alegria',\n",
              "       'alegria', 'alegria', 'alegria', 'alegria', 'alegria', 'alegria',\n",
              "       'alegria', 'alegria', 'alegria', 'alegria', 'alegria', 'alegria',\n",
              "       'alegria', 'alegria', 'alegria', 'alegria', 'alegria', 'alegria',\n",
              "       'alegria', 'alegria', 'alegria', 'alegria', 'alegria', 'alegria',\n",
              "       'alegria', 'alegria', 'alegria', 'alegria', 'alegria', 'alegria',\n",
              "       'alegria', 'alegria', 'alegria', 'alegria', 'medo', 'medo', 'medo',\n",
              "       'medo', 'medo', 'medo', 'medo', 'medo', 'medo', 'medo', 'medo',\n",
              "       'medo', 'medo', 'medo', 'medo', 'medo', 'medo', 'medo', 'medo',\n",
              "       'medo', 'medo', 'medo', 'medo', 'medo', 'medo', 'medo', 'medo',\n",
              "       'medo', 'medo', 'medo', 'medo', 'medo', 'medo', 'medo', 'medo',\n",
              "       'medo', 'medo', 'medo', 'medo', 'medo', 'medo', 'medo', 'medo',\n",
              "       'medo', 'medo', 'medo', 'medo', 'medo', 'medo', 'medo', 'medo',\n",
              "       'medo', 'medo', 'medo', 'medo', 'medo', 'medo', 'medo', 'medo',\n",
              "       'medo', 'medo', 'medo', 'medo', 'medo', 'medo', 'medo', 'medo',\n",
              "       'medo', 'medo', 'medo', 'medo', 'medo', 'medo', 'medo', 'medo',\n",
              "       'medo', 'medo', 'medo', 'medo', 'medo', 'medo', 'medo', 'medo',\n",
              "       'medo'], dtype=object)"
            ]
          },
          "metadata": {},
          "execution_count": 42
        }
      ]
    },
    {
      "cell_type": "code",
      "source": [
        "from sklearn.metrics import confusion_matrix, accuracy_score\n",
        "\n",
        "accuracy_score(respostas_reais, previsoes_final)"
      ],
      "metadata": {
        "colab": {
          "base_uri": "https://localhost:8080/"
        },
        "id": "QONQaaVuhKeB",
        "outputId": "779039f3-9745-4bfa-fc9d-06db9db7c17a"
      },
      "execution_count": 43,
      "outputs": [
        {
          "output_type": "execute_result",
          "data": {
            "text/plain": [
              "1.0"
            ]
          },
          "metadata": {},
          "execution_count": 43
        }
      ]
    },
    {
      "cell_type": "code",
      "source": [
        "cm = confusion_matrix(respostas_reais, previsoes_final)\n",
        "cm"
      ],
      "metadata": {
        "colab": {
          "base_uri": "https://localhost:8080/"
        },
        "id": "oHCnSgythX5l",
        "outputId": "3ae3fa0b-1e6a-493a-a754-394eae4f5e4e"
      },
      "execution_count": 44,
      "outputs": [
        {
          "output_type": "execute_result",
          "data": {
            "text/plain": [
              "array([[112,   0],\n",
              "       [  0,  84]])"
            ]
          },
          "metadata": {},
          "execution_count": 44
        }
      ]
    },
    {
      "cell_type": "markdown",
      "source": [
        "## Base de Teste"
      ],
      "metadata": {
        "id": "gyDZE6FYhvq6"
      }
    },
    {
      "cell_type": "code",
      "source": [
        "base_teste = pd.read_csv(\"/content/base_teste.txt\", encoding = \"utf-8\")"
      ],
      "metadata": {
        "id": "Ld20Muc3ht9C"
      },
      "execution_count": 45,
      "outputs": []
    },
    {
      "cell_type": "code",
      "source": [
        "base_teste.head()"
      ],
      "metadata": {
        "colab": {
          "base_uri": "https://localhost:8080/",
          "height": 206
        },
        "id": "mDpiQeaLiAAI",
        "outputId": "590a6a8b-a2d1-4857-cc85-3cb40822348d"
      },
      "execution_count": 46,
      "outputs": [
        {
          "output_type": "execute_result",
          "data": {
            "text/html": [
              "<div>\n",
              "<style scoped>\n",
              "    .dataframe tbody tr th:only-of-type {\n",
              "        vertical-align: middle;\n",
              "    }\n",
              "\n",
              "    .dataframe tbody tr th {\n",
              "        vertical-align: top;\n",
              "    }\n",
              "\n",
              "    .dataframe thead th {\n",
              "        text-align: right;\n",
              "    }\n",
              "</style>\n",
              "<table border=\"1\" class=\"dataframe\">\n",
              "  <thead>\n",
              "    <tr style=\"text-align: right;\">\n",
              "      <th></th>\n",
              "      <th>texto</th>\n",
              "      <th>emocao</th>\n",
              "    </tr>\n",
              "  </thead>\n",
              "  <tbody>\n",
              "    <tr>\n",
              "      <th>0</th>\n",
              "      <td>não precisei pagar o ingresso</td>\n",
              "      <td>alegria</td>\n",
              "    </tr>\n",
              "    <tr>\n",
              "      <th>1</th>\n",
              "      <td>se eu ajeitar tudo fica bem</td>\n",
              "      <td>alegria</td>\n",
              "    </tr>\n",
              "    <tr>\n",
              "      <th>2</th>\n",
              "      <td>minha fortuna ultrapassará a sua</td>\n",
              "      <td>alegria</td>\n",
              "    </tr>\n",
              "    <tr>\n",
              "      <th>3</th>\n",
              "      <td>sou muito afortunado</td>\n",
              "      <td>alegria</td>\n",
              "    </tr>\n",
              "    <tr>\n",
              "      <th>4</th>\n",
              "      <td>é benéfico para todos esta nova medida</td>\n",
              "      <td>alegria</td>\n",
              "    </tr>\n",
              "  </tbody>\n",
              "</table>\n",
              "</div>"
            ],
            "text/plain": [
              "                                    texto   emocao\n",
              "0           não precisei pagar o ingresso  alegria\n",
              "1             se eu ajeitar tudo fica bem  alegria\n",
              "2        minha fortuna ultrapassará a sua  alegria\n",
              "3                    sou muito afortunado  alegria\n",
              "4  é benéfico para todos esta nova medida  alegria"
            ]
          },
          "metadata": {},
          "execution_count": 46
        }
      ]
    },
    {
      "cell_type": "code",
      "source": [
        "base_teste['texto'] = base_teste['texto'].apply(preprocessamento)"
      ],
      "metadata": {
        "id": "RxUWvHPSiCW_"
      },
      "execution_count": 48,
      "outputs": []
    },
    {
      "cell_type": "code",
      "source": [
        "base_teste.head()"
      ],
      "metadata": {
        "colab": {
          "base_uri": "https://localhost:8080/",
          "height": 206
        },
        "id": "Zjpp2HRBiTiw",
        "outputId": "86312519-929e-4865-f886-d42cc9530f7d"
      },
      "execution_count": 49,
      "outputs": [
        {
          "output_type": "execute_result",
          "data": {
            "text/html": [
              "<div>\n",
              "<style scoped>\n",
              "    .dataframe tbody tr th:only-of-type {\n",
              "        vertical-align: middle;\n",
              "    }\n",
              "\n",
              "    .dataframe tbody tr th {\n",
              "        vertical-align: top;\n",
              "    }\n",
              "\n",
              "    .dataframe thead th {\n",
              "        text-align: right;\n",
              "    }\n",
              "</style>\n",
              "<table border=\"1\" class=\"dataframe\">\n",
              "  <thead>\n",
              "    <tr style=\"text-align: right;\">\n",
              "      <th></th>\n",
              "      <th>texto</th>\n",
              "      <th>emocao</th>\n",
              "    </tr>\n",
              "  </thead>\n",
              "  <tbody>\n",
              "    <tr>\n",
              "      <th>0</th>\n",
              "      <td>precisar pagar o ingressar</td>\n",
              "      <td>alegria</td>\n",
              "    </tr>\n",
              "    <tr>\n",
              "      <th>1</th>\n",
              "      <td>ajeitar ficar</td>\n",
              "      <td>alegria</td>\n",
              "    </tr>\n",
              "    <tr>\n",
              "      <th>2</th>\n",
              "      <td>fortuna ultrapassar o suar</td>\n",
              "      <td>alegria</td>\n",
              "    </tr>\n",
              "    <tr>\n",
              "      <th>3</th>\n",
              "      <td>afortunar</td>\n",
              "      <td>alegria</td>\n",
              "    </tr>\n",
              "    <tr>\n",
              "      <th>4</th>\n",
              "      <td>benéfico parir medir</td>\n",
              "      <td>alegria</td>\n",
              "    </tr>\n",
              "  </tbody>\n",
              "</table>\n",
              "</div>"
            ],
            "text/plain": [
              "                        texto   emocao\n",
              "0  precisar pagar o ingressar  alegria\n",
              "1               ajeitar ficar  alegria\n",
              "2  fortuna ultrapassar o suar  alegria\n",
              "3                   afortunar  alegria\n",
              "4        benéfico parir medir  alegria"
            ]
          },
          "metadata": {},
          "execution_count": 49
        }
      ]
    },
    {
      "cell_type": "code",
      "source": [
        "previsoes = []\n",
        "\n",
        "for texto in base_teste['texto']:\n",
        "\n",
        "  previsao = modelo_carregado(texto)\n",
        "  previsoes.append(previsao.cats)"
      ],
      "metadata": {
        "id": "QtCxqxAqicYH"
      },
      "execution_count": 50,
      "outputs": []
    },
    {
      "cell_type": "code",
      "source": [
        "previsoes_final = []\n",
        "\n",
        "for previsao in previsoes:\n",
        "\n",
        "  if previsao['ALEGRIA'] > previsao['MEDO']:\n",
        "    previsoes_final.append(\"alegria\")\n",
        "\n",
        "  else:\n",
        "    previsoes_final.append(\"medo\")\n",
        "\n",
        "previsoes_final = np.array(previsoes_final)\n",
        "previsoes_final"
      ],
      "metadata": {
        "colab": {
          "base_uri": "https://localhost:8080/"
        },
        "id": "KztkG5Tiimyv",
        "outputId": "5d0e9fb1-5f79-496a-f8fc-92651e434320"
      },
      "execution_count": 51,
      "outputs": [
        {
          "output_type": "execute_result",
          "data": {
            "text/plain": [
              "array(['alegria', 'alegria', 'alegria', 'alegria', 'alegria', 'medo',\n",
              "       'medo', 'medo', 'alegria', 'alegria', 'alegria', 'medo', 'medo',\n",
              "       'medo', 'alegria', 'medo', 'alegria', 'alegria', 'alegria',\n",
              "       'alegria', 'alegria', 'medo', 'medo', 'alegria', 'alegria',\n",
              "       'alegria', 'alegria', 'medo', 'alegria', 'medo', 'alegria',\n",
              "       'alegria', 'alegria', 'alegria', 'alegria', 'alegria', 'alegria',\n",
              "       'alegria', 'alegria', 'medo', 'alegria', 'alegria', 'medo',\n",
              "       'alegria', 'alegria', 'alegria', 'alegria', 'medo', 'medo',\n",
              "       'alegria', 'medo', 'medo', 'alegria', 'alegria', 'alegria', 'medo',\n",
              "       'medo', 'medo', 'alegria', 'medo', 'alegria', 'alegria', 'medo',\n",
              "       'alegria', 'alegria', 'alegria', 'alegria', 'alegria', 'alegria',\n",
              "       'alegria', 'alegria', 'medo', 'alegria', 'alegria', 'medo', 'medo',\n",
              "       'medo', 'medo', 'alegria', 'alegria', 'alegria', 'alegria', 'medo',\n",
              "       'medo'], dtype='<U7')"
            ]
          },
          "metadata": {},
          "execution_count": 51
        }
      ]
    },
    {
      "cell_type": "code",
      "source": [
        "respostas_reais = base_teste['emocao'].values\n",
        "respostas_reais"
      ],
      "metadata": {
        "colab": {
          "base_uri": "https://localhost:8080/"
        },
        "id": "mga-aVQKixDR",
        "outputId": "31862cef-e99d-434f-91ae-d31b0387c28f"
      },
      "execution_count": 52,
      "outputs": [
        {
          "output_type": "execute_result",
          "data": {
            "text/plain": [
              "array(['alegria', 'alegria', 'alegria', 'alegria', 'alegria', 'alegria',\n",
              "       'alegria', 'alegria', 'alegria', 'alegria', 'alegria', 'alegria',\n",
              "       'alegria', 'alegria', 'alegria', 'alegria', 'alegria', 'alegria',\n",
              "       'alegria', 'alegria', 'alegria', 'alegria', 'alegria', 'alegria',\n",
              "       'alegria', 'alegria', 'alegria', 'alegria', 'alegria', 'alegria',\n",
              "       'alegria', 'alegria', 'alegria', 'alegria', 'alegria', 'alegria',\n",
              "       'alegria', 'alegria', 'alegria', 'alegria', 'alegria', 'alegria',\n",
              "       'alegria', 'alegria', 'alegria', 'alegria', 'alegria', 'alegria',\n",
              "       'medo', 'medo', 'medo', 'medo', 'medo', 'medo', 'medo', 'medo',\n",
              "       'medo', 'medo', 'medo', 'medo', 'medo', 'medo', 'medo', 'medo',\n",
              "       'medo', 'medo', 'medo', 'medo', 'medo', 'medo', 'medo', 'medo',\n",
              "       'medo', 'medo', 'medo', 'medo', 'medo', 'medo', 'medo', 'medo',\n",
              "       'medo', 'medo', 'medo', 'medo'], dtype=object)"
            ]
          },
          "metadata": {},
          "execution_count": 52
        }
      ]
    },
    {
      "cell_type": "code",
      "source": [
        "from sklearn.metrics import confusion_matrix, accuracy_score\n",
        "\n",
        "accuracy_score(respostas_reais, previsoes_final)"
      ],
      "metadata": {
        "colab": {
          "base_uri": "https://localhost:8080/"
        },
        "id": "7vYhGHt1i_dL",
        "outputId": "996902c6-d425-44c1-9f42-97a16e8727a1"
      },
      "execution_count": 53,
      "outputs": [
        {
          "output_type": "execute_result",
          "data": {
            "text/plain": [
              "0.5833333333333334"
            ]
          },
          "metadata": {},
          "execution_count": 53
        }
      ]
    },
    {
      "cell_type": "code",
      "source": [
        "cm = confusion_matrix(respostas_reais, previsoes_final)\n",
        "cm"
      ],
      "metadata": {
        "colab": {
          "base_uri": "https://localhost:8080/"
        },
        "id": "3zdlavNYjF75",
        "outputId": "c98e728c-1b86-47ba-e71e-dd0c1a742e3d"
      },
      "execution_count": 54,
      "outputs": [
        {
          "output_type": "execute_result",
          "data": {
            "text/plain": [
              "array([[34, 14],\n",
              "       [21, 15]])"
            ]
          },
          "metadata": {},
          "execution_count": 54
        }
      ]
    },
    {
      "cell_type": "code",
      "source": [
        ""
      ],
      "metadata": {
        "id": "4mZpGv8TjGn6"
      },
      "execution_count": null,
      "outputs": []
    }
  ]
}