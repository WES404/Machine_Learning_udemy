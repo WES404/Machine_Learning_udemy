{
  "nbformat": 4,
  "nbformat_minor": 0,
  "metadata": {
    "colab": {
      "name": "Q_learning.ipynb",
      "provenance": []
    },
    "kernelspec": {
      "name": "python3",
      "display_name": "Python 3"
    },
    "language_info": {
      "name": "python"
    }
  },
  "cells": [
    {
      "cell_type": "markdown",
      "metadata": {
        "id": "Ipbtn74w4P2u"
      },
      "source": [
        "# Aprendizagem por Reforço com Q-learning"
      ]
    },
    {
      "cell_type": "code",
      "metadata": {
        "id": "CWUZTiOq0W1d"
      },
      "source": [
        "import gym\n",
        "import random"
      ],
      "execution_count": 1,
      "outputs": []
    },
    {
      "cell_type": "code",
      "metadata": {
        "id": "eWf4KAI04ZZh"
      },
      "source": [
        "env = gym.make(\"Taxi-v3\").env"
      ],
      "execution_count": 4,
      "outputs": []
    },
    {
      "cell_type": "code",
      "metadata": {
        "colab": {
          "base_uri": "https://localhost:8080/"
        },
        "id": "nXpXRyr84h4E",
        "outputId": "8e47b8ab-263b-4d1c-9cae-d3a71371c886"
      },
      "source": [
        "env.render()"
      ],
      "execution_count": 5,
      "outputs": [
        {
          "output_type": "stream",
          "name": "stdout",
          "text": [
            "+---------+\n",
            "|R: | : :G|\n",
            "| :\u001b[43m \u001b[0m| : : |\n",
            "| : : : : |\n",
            "| | : | : |\n",
            "|\u001b[35mY\u001b[0m| : |\u001b[34;1mB\u001b[0m: |\n",
            "+---------+\n",
            "\n"
          ]
        }
      ]
    },
    {
      "cell_type": "code",
      "metadata": {
        "colab": {
          "base_uri": "https://localhost:8080/"
        },
        "id": "xxNCOPLL4t_L",
        "outputId": "630d3794-4cd4-4e59-f8c5-d869627d960c"
      },
      "source": [
        "env.reset()\n",
        "env.render()"
      ],
      "execution_count": 7,
      "outputs": [
        {
          "output_type": "stream",
          "name": "stdout",
          "text": [
            "+---------+\n",
            "|\u001b[34;1mR\u001b[0m: | : :G|\n",
            "| : | : : |\n",
            "| :\u001b[43m \u001b[0m: : : |\n",
            "| | : | : |\n",
            "|\u001b[35mY\u001b[0m| : |B: |\n",
            "+---------+\n",
            "\n"
          ]
        }
      ]
    },
    {
      "cell_type": "code",
      "metadata": {
        "colab": {
          "base_uri": "https://localhost:8080/"
        },
        "id": "t6saG_GN5Cfc",
        "outputId": "ecf2b282-34ae-470c-9dd3-c4e3b0b4b997"
      },
      "source": [
        "print(env.action_space)"
      ],
      "execution_count": 8,
      "outputs": [
        {
          "output_type": "stream",
          "name": "stdout",
          "text": [
            "Discrete(6)\n"
          ]
        }
      ]
    },
    {
      "cell_type": "code",
      "metadata": {
        "colab": {
          "base_uri": "https://localhost:8080/"
        },
        "id": "h0kwf51D5Nr8",
        "outputId": "4ca2e31d-f4b0-4002-816d-e91ec67ffd1c"
      },
      "source": [
        "print(env.observation_space)"
      ],
      "execution_count": 9,
      "outputs": [
        {
          "output_type": "stream",
          "name": "stdout",
          "text": [
            "Discrete(500)\n"
          ]
        }
      ]
    },
    {
      "cell_type": "markdown",
      "metadata": {
        "id": "EWpxNxKG7D8K"
      },
      "source": [
        "## Treinamento"
      ]
    },
    {
      "cell_type": "code",
      "metadata": {
        "colab": {
          "base_uri": "https://localhost:8080/"
        },
        "id": "y6KF-Hjr8fC6",
        "outputId": "d5d8fd87-4074-42d6-ede0-4a01c9626740"
      },
      "source": [
        "import numpy as np\n",
        "q_table = np.zeros([env.observation_space.n, env.action_space.n])\n",
        "q_table.shape"
      ],
      "execution_count": 11,
      "outputs": [
        {
          "output_type": "execute_result",
          "data": {
            "text/plain": [
              "(500, 6)"
            ]
          },
          "metadata": {},
          "execution_count": 11
        }
      ]
    },
    {
      "cell_type": "code",
      "metadata": {
        "colab": {
          "base_uri": "https://localhost:8080/"
        },
        "id": "lWIiX-D66Be0",
        "outputId": "d4023fc8-ade8-4e38-ba48-0de6722839c7"
      },
      "source": [
        "%%time\n",
        "from IPython.display import clear_output\n",
        "\n",
        "alpha, gama = 0.1, 0.6\n",
        "epsilon = 0.1\n",
        "\n",
        "for i in range(100000):\n",
        "\n",
        "  estado = env.reset()\n",
        "\n",
        "  penalidade, recompensa = 0, 0\n",
        "  done = False\n",
        "\n",
        "  while not done:\n",
        "    if random.uniform(0, 1) < epsilon:\n",
        "      acao = env.action_space.sample()\n",
        "\n",
        "    else:\n",
        "      acao = np.argmax(q_table[estado])\n",
        "    \n",
        "    proximo_estado, recompensa, done, info = env.step(acao)\n",
        "\n",
        "    q_antigo = q_table[estado, acao]\n",
        "    proximo_maximo = np.max(q_table[proximo_estado])\n",
        "\n",
        "    q_novo = (1 - alpha) * q_antigo + alpha * (recompensa + gama * proximo_maximo)\n",
        "    q_table[estado, acao] = q_novo\n",
        "\n",
        "    if recompensa == -10:\n",
        "      penalidade += 1 \n",
        "    \n",
        "    estado = proximo_estado\n",
        "  \n",
        "  if i % 100 == 0:\n",
        "    clear_output(wait=True)\n",
        "    print(\"Episodio \", i)\n",
        "\n",
        "print(\"Treinamento concluido\")"
      ],
      "execution_count": 14,
      "outputs": [
        {
          "output_type": "stream",
          "name": "stdout",
          "text": [
            "Episodio  99900\n",
            "Treinamento concluido\n",
            "CPU times: user 1min 9s, sys: 10.2 s, total: 1min 19s\n",
            "Wall time: 1min 12s\n"
          ]
        }
      ]
    },
    {
      "cell_type": "code",
      "metadata": {
        "id": "1iXQZL3h__rZ"
      },
      "source": [
        ""
      ],
      "execution_count": null,
      "outputs": []
    },
    {
      "cell_type": "markdown",
      "metadata": {
        "id": "UCWWp31W_77a"
      },
      "source": [
        "## Avaliação"
      ]
    },
    {
      "cell_type": "code",
      "metadata": {
        "id": "8SkXZNqR9w0o"
      },
      "source": [
        ""
      ],
      "execution_count": null,
      "outputs": []
    }
  ]
}