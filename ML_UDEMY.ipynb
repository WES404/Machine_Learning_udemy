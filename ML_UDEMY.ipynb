{
  "nbformat": 4,
  "nbformat_minor": 0,
  "metadata": {
    "colab": {
      "name": "ML_UDEMY.ipynb",
      "provenance": [],
      "collapsed_sections": [
        "g1ku9VXVagBU",
        "zWDVe8Sp_LzX",
        "rU4IU034ANVS",
        "J2imyLpKBb80",
        "KlAl3OT9D4gE",
        "4j8HEMTyHbXb",
        "-4i2Rs5oKhUc",
        "--KDI-Y7M4Oh",
        "Os2nZoHWNiVC",
        "EM4W9XzgO02I",
        "PU7z31MQSoN0",
        "jJvjqErnUqMm",
        "tOV0AXXuVYAM",
        "9ZyoV3GmWm2k",
        "55bgmPgzXjRx",
        "dDbTzfsYYQFT",
        "_nkpSDidYgnA",
        "7xuX2guaYyky",
        "wUtDCEaJRYau",
        "huMK9jlCTcLX",
        "tLmrB5u4WUld",
        "2idfhTNMbmz8"
      ]
    },
    "kernelspec": {
      "name": "python3",
      "display_name": "Python 3"
    },
    "language_info": {
      "name": "python"
    }
  },
  "cells": [
    {
      "cell_type": "markdown",
      "metadata": {
        "id": "SSQ_M5XI-wGe"
      },
      "source": [
        "Machine Learning e Data Science com Python de A à Z\n"
      ]
    },
    {
      "cell_type": "markdown",
      "metadata": {
        "id": "g1ku9VXVagBU"
      },
      "source": [
        "# Preprocessamento e importação de dados"
      ]
    },
    {
      "cell_type": "markdown",
      "metadata": {
        "id": "zWDVe8Sp_LzX"
      },
      "source": [
        "## Importanto Bibliotecas Base"
      ]
    },
    {
      "cell_type": "code",
      "metadata": {
        "id": "U9owpB0g-peb"
      },
      "source": [
        "import pandas as pd\n",
        "import numpy as np\n",
        "import seaborn as sns\n",
        "import matplotlib.pyplot as plt\n",
        "import plotly.express as px\n"
      ],
      "execution_count": 60,
      "outputs": []
    },
    {
      "cell_type": "markdown",
      "metadata": {
        "id": "rU4IU034ANVS"
      },
      "source": [
        "## Base de dados Credito\n",
        "*   Fonte (adaptado): https://www.kaggle.com/laotse/credit-risk-dataset\n"
      ]
    },
    {
      "cell_type": "code",
      "metadata": {
        "colab": {
          "base_uri": "https://localhost:8080/",
          "height": 0
        },
        "id": "nHHtL_t7AgmR",
        "outputId": "8fc8f492-d8b1-433f-9392-cd8054891a38"
      },
      "source": [
        "base_credit = pd.read_csv('/content/credit_data.csv')\n",
        "base_credit"
      ],
      "execution_count": 61,
      "outputs": [
        {
          "output_type": "execute_result",
          "data": {
            "text/html": [
              "<div>\n",
              "<style scoped>\n",
              "    .dataframe tbody tr th:only-of-type {\n",
              "        vertical-align: middle;\n",
              "    }\n",
              "\n",
              "    .dataframe tbody tr th {\n",
              "        vertical-align: top;\n",
              "    }\n",
              "\n",
              "    .dataframe thead th {\n",
              "        text-align: right;\n",
              "    }\n",
              "</style>\n",
              "<table border=\"1\" class=\"dataframe\">\n",
              "  <thead>\n",
              "    <tr style=\"text-align: right;\">\n",
              "      <th></th>\n",
              "      <th>i#clientid</th>\n",
              "      <th>income</th>\n",
              "      <th>age</th>\n",
              "      <th>loan</th>\n",
              "      <th>c#default</th>\n",
              "    </tr>\n",
              "  </thead>\n",
              "  <tbody>\n",
              "    <tr>\n",
              "      <th>0</th>\n",
              "      <td>1</td>\n",
              "      <td>66155.925095</td>\n",
              "      <td>59.017015</td>\n",
              "      <td>8106.532131</td>\n",
              "      <td>0</td>\n",
              "    </tr>\n",
              "    <tr>\n",
              "      <th>1</th>\n",
              "      <td>2</td>\n",
              "      <td>34415.153966</td>\n",
              "      <td>48.117153</td>\n",
              "      <td>6564.745018</td>\n",
              "      <td>0</td>\n",
              "    </tr>\n",
              "    <tr>\n",
              "      <th>2</th>\n",
              "      <td>3</td>\n",
              "      <td>57317.170063</td>\n",
              "      <td>63.108049</td>\n",
              "      <td>8020.953296</td>\n",
              "      <td>0</td>\n",
              "    </tr>\n",
              "    <tr>\n",
              "      <th>3</th>\n",
              "      <td>4</td>\n",
              "      <td>42709.534201</td>\n",
              "      <td>45.751972</td>\n",
              "      <td>6103.642260</td>\n",
              "      <td>0</td>\n",
              "    </tr>\n",
              "    <tr>\n",
              "      <th>4</th>\n",
              "      <td>5</td>\n",
              "      <td>66952.688845</td>\n",
              "      <td>18.584336</td>\n",
              "      <td>8770.099235</td>\n",
              "      <td>1</td>\n",
              "    </tr>\n",
              "    <tr>\n",
              "      <th>...</th>\n",
              "      <td>...</td>\n",
              "      <td>...</td>\n",
              "      <td>...</td>\n",
              "      <td>...</td>\n",
              "      <td>...</td>\n",
              "    </tr>\n",
              "    <tr>\n",
              "      <th>1995</th>\n",
              "      <td>1996</td>\n",
              "      <td>59221.044874</td>\n",
              "      <td>48.518179</td>\n",
              "      <td>1926.729397</td>\n",
              "      <td>0</td>\n",
              "    </tr>\n",
              "    <tr>\n",
              "      <th>1996</th>\n",
              "      <td>1997</td>\n",
              "      <td>69516.127573</td>\n",
              "      <td>23.162104</td>\n",
              "      <td>3503.176156</td>\n",
              "      <td>0</td>\n",
              "    </tr>\n",
              "    <tr>\n",
              "      <th>1997</th>\n",
              "      <td>1998</td>\n",
              "      <td>44311.449262</td>\n",
              "      <td>28.017167</td>\n",
              "      <td>5522.786693</td>\n",
              "      <td>1</td>\n",
              "    </tr>\n",
              "    <tr>\n",
              "      <th>1998</th>\n",
              "      <td>1999</td>\n",
              "      <td>43756.056605</td>\n",
              "      <td>63.971796</td>\n",
              "      <td>1622.722598</td>\n",
              "      <td>0</td>\n",
              "    </tr>\n",
              "    <tr>\n",
              "      <th>1999</th>\n",
              "      <td>2000</td>\n",
              "      <td>69436.579552</td>\n",
              "      <td>56.152617</td>\n",
              "      <td>7378.833599</td>\n",
              "      <td>0</td>\n",
              "    </tr>\n",
              "  </tbody>\n",
              "</table>\n",
              "<p>2000 rows × 5 columns</p>\n",
              "</div>"
            ],
            "text/plain": [
              "      i#clientid        income        age         loan  c#default\n",
              "0              1  66155.925095  59.017015  8106.532131          0\n",
              "1              2  34415.153966  48.117153  6564.745018          0\n",
              "2              3  57317.170063  63.108049  8020.953296          0\n",
              "3              4  42709.534201  45.751972  6103.642260          0\n",
              "4              5  66952.688845  18.584336  8770.099235          1\n",
              "...          ...           ...        ...          ...        ...\n",
              "1995        1996  59221.044874  48.518179  1926.729397          0\n",
              "1996        1997  69516.127573  23.162104  3503.176156          0\n",
              "1997        1998  44311.449262  28.017167  5522.786693          1\n",
              "1998        1999  43756.056605  63.971796  1622.722598          0\n",
              "1999        2000  69436.579552  56.152617  7378.833599          0\n",
              "\n",
              "[2000 rows x 5 columns]"
            ]
          },
          "metadata": {
            "tags": []
          },
          "execution_count": 61
        }
      ]
    },
    {
      "cell_type": "markdown",
      "metadata": {
        "id": "J2imyLpKBb80"
      },
      "source": [
        "## Explorando os Dados"
      ]
    },
    {
      "cell_type": "code",
      "metadata": {
        "colab": {
          "base_uri": "https://localhost:8080/",
          "height": 0
        },
        "id": "w5c9zKLBBeaz",
        "outputId": "56857d62-5098-4c54-a1ed-aa20ef2a04c2"
      },
      "source": [
        "base_credit.head(10)"
      ],
      "execution_count": 62,
      "outputs": [
        {
          "output_type": "execute_result",
          "data": {
            "text/html": [
              "<div>\n",
              "<style scoped>\n",
              "    .dataframe tbody tr th:only-of-type {\n",
              "        vertical-align: middle;\n",
              "    }\n",
              "\n",
              "    .dataframe tbody tr th {\n",
              "        vertical-align: top;\n",
              "    }\n",
              "\n",
              "    .dataframe thead th {\n",
              "        text-align: right;\n",
              "    }\n",
              "</style>\n",
              "<table border=\"1\" class=\"dataframe\">\n",
              "  <thead>\n",
              "    <tr style=\"text-align: right;\">\n",
              "      <th></th>\n",
              "      <th>i#clientid</th>\n",
              "      <th>income</th>\n",
              "      <th>age</th>\n",
              "      <th>loan</th>\n",
              "      <th>c#default</th>\n",
              "    </tr>\n",
              "  </thead>\n",
              "  <tbody>\n",
              "    <tr>\n",
              "      <th>0</th>\n",
              "      <td>1</td>\n",
              "      <td>66155.925095</td>\n",
              "      <td>59.017015</td>\n",
              "      <td>8106.532131</td>\n",
              "      <td>0</td>\n",
              "    </tr>\n",
              "    <tr>\n",
              "      <th>1</th>\n",
              "      <td>2</td>\n",
              "      <td>34415.153966</td>\n",
              "      <td>48.117153</td>\n",
              "      <td>6564.745018</td>\n",
              "      <td>0</td>\n",
              "    </tr>\n",
              "    <tr>\n",
              "      <th>2</th>\n",
              "      <td>3</td>\n",
              "      <td>57317.170063</td>\n",
              "      <td>63.108049</td>\n",
              "      <td>8020.953296</td>\n",
              "      <td>0</td>\n",
              "    </tr>\n",
              "    <tr>\n",
              "      <th>3</th>\n",
              "      <td>4</td>\n",
              "      <td>42709.534201</td>\n",
              "      <td>45.751972</td>\n",
              "      <td>6103.642260</td>\n",
              "      <td>0</td>\n",
              "    </tr>\n",
              "    <tr>\n",
              "      <th>4</th>\n",
              "      <td>5</td>\n",
              "      <td>66952.688845</td>\n",
              "      <td>18.584336</td>\n",
              "      <td>8770.099235</td>\n",
              "      <td>1</td>\n",
              "    </tr>\n",
              "    <tr>\n",
              "      <th>5</th>\n",
              "      <td>6</td>\n",
              "      <td>24904.064140</td>\n",
              "      <td>57.471607</td>\n",
              "      <td>15.498598</td>\n",
              "      <td>0</td>\n",
              "    </tr>\n",
              "    <tr>\n",
              "      <th>6</th>\n",
              "      <td>7</td>\n",
              "      <td>48430.359613</td>\n",
              "      <td>26.809132</td>\n",
              "      <td>5722.581981</td>\n",
              "      <td>0</td>\n",
              "    </tr>\n",
              "    <tr>\n",
              "      <th>7</th>\n",
              "      <td>8</td>\n",
              "      <td>24500.141984</td>\n",
              "      <td>32.897548</td>\n",
              "      <td>2971.003310</td>\n",
              "      <td>1</td>\n",
              "    </tr>\n",
              "    <tr>\n",
              "      <th>8</th>\n",
              "      <td>9</td>\n",
              "      <td>40654.892537</td>\n",
              "      <td>55.496853</td>\n",
              "      <td>4755.825280</td>\n",
              "      <td>0</td>\n",
              "    </tr>\n",
              "    <tr>\n",
              "      <th>9</th>\n",
              "      <td>10</td>\n",
              "      <td>25075.872771</td>\n",
              "      <td>39.776378</td>\n",
              "      <td>1409.230371</td>\n",
              "      <td>0</td>\n",
              "    </tr>\n",
              "  </tbody>\n",
              "</table>\n",
              "</div>"
            ],
            "text/plain": [
              "   i#clientid        income        age         loan  c#default\n",
              "0           1  66155.925095  59.017015  8106.532131          0\n",
              "1           2  34415.153966  48.117153  6564.745018          0\n",
              "2           3  57317.170063  63.108049  8020.953296          0\n",
              "3           4  42709.534201  45.751972  6103.642260          0\n",
              "4           5  66952.688845  18.584336  8770.099235          1\n",
              "5           6  24904.064140  57.471607    15.498598          0\n",
              "6           7  48430.359613  26.809132  5722.581981          0\n",
              "7           8  24500.141984  32.897548  2971.003310          1\n",
              "8           9  40654.892537  55.496853  4755.825280          0\n",
              "9          10  25075.872771  39.776378  1409.230371          0"
            ]
          },
          "metadata": {
            "tags": []
          },
          "execution_count": 62
        }
      ]
    },
    {
      "cell_type": "code",
      "metadata": {
        "colab": {
          "base_uri": "https://localhost:8080/",
          "height": 0
        },
        "id": "pIGLSo5nDH5Q",
        "outputId": "64d9352d-2c2f-499b-a760-e688ac90be5b"
      },
      "source": [
        "base_credit.tail(10)"
      ],
      "execution_count": 63,
      "outputs": [
        {
          "output_type": "execute_result",
          "data": {
            "text/html": [
              "<div>\n",
              "<style scoped>\n",
              "    .dataframe tbody tr th:only-of-type {\n",
              "        vertical-align: middle;\n",
              "    }\n",
              "\n",
              "    .dataframe tbody tr th {\n",
              "        vertical-align: top;\n",
              "    }\n",
              "\n",
              "    .dataframe thead th {\n",
              "        text-align: right;\n",
              "    }\n",
              "</style>\n",
              "<table border=\"1\" class=\"dataframe\">\n",
              "  <thead>\n",
              "    <tr style=\"text-align: right;\">\n",
              "      <th></th>\n",
              "      <th>i#clientid</th>\n",
              "      <th>income</th>\n",
              "      <th>age</th>\n",
              "      <th>loan</th>\n",
              "      <th>c#default</th>\n",
              "    </tr>\n",
              "  </thead>\n",
              "  <tbody>\n",
              "    <tr>\n",
              "      <th>1990</th>\n",
              "      <td>1991</td>\n",
              "      <td>34237.575419</td>\n",
              "      <td>34.101654</td>\n",
              "      <td>2658.090632</td>\n",
              "      <td>0</td>\n",
              "    </tr>\n",
              "    <tr>\n",
              "      <th>1991</th>\n",
              "      <td>1992</td>\n",
              "      <td>26300.446554</td>\n",
              "      <td>45.539385</td>\n",
              "      <td>2317.393678</td>\n",
              "      <td>0</td>\n",
              "    </tr>\n",
              "    <tr>\n",
              "      <th>1992</th>\n",
              "      <td>1993</td>\n",
              "      <td>30803.806165</td>\n",
              "      <td>23.250084</td>\n",
              "      <td>623.024153</td>\n",
              "      <td>0</td>\n",
              "    </tr>\n",
              "    <tr>\n",
              "      <th>1993</th>\n",
              "      <td>1994</td>\n",
              "      <td>54421.410155</td>\n",
              "      <td>26.821928</td>\n",
              "      <td>3273.631823</td>\n",
              "      <td>0</td>\n",
              "    </tr>\n",
              "    <tr>\n",
              "      <th>1994</th>\n",
              "      <td>1995</td>\n",
              "      <td>24254.700791</td>\n",
              "      <td>37.751622</td>\n",
              "      <td>2225.284643</td>\n",
              "      <td>0</td>\n",
              "    </tr>\n",
              "    <tr>\n",
              "      <th>1995</th>\n",
              "      <td>1996</td>\n",
              "      <td>59221.044874</td>\n",
              "      <td>48.518179</td>\n",
              "      <td>1926.729397</td>\n",
              "      <td>0</td>\n",
              "    </tr>\n",
              "    <tr>\n",
              "      <th>1996</th>\n",
              "      <td>1997</td>\n",
              "      <td>69516.127573</td>\n",
              "      <td>23.162104</td>\n",
              "      <td>3503.176156</td>\n",
              "      <td>0</td>\n",
              "    </tr>\n",
              "    <tr>\n",
              "      <th>1997</th>\n",
              "      <td>1998</td>\n",
              "      <td>44311.449262</td>\n",
              "      <td>28.017167</td>\n",
              "      <td>5522.786693</td>\n",
              "      <td>1</td>\n",
              "    </tr>\n",
              "    <tr>\n",
              "      <th>1998</th>\n",
              "      <td>1999</td>\n",
              "      <td>43756.056605</td>\n",
              "      <td>63.971796</td>\n",
              "      <td>1622.722598</td>\n",
              "      <td>0</td>\n",
              "    </tr>\n",
              "    <tr>\n",
              "      <th>1999</th>\n",
              "      <td>2000</td>\n",
              "      <td>69436.579552</td>\n",
              "      <td>56.152617</td>\n",
              "      <td>7378.833599</td>\n",
              "      <td>0</td>\n",
              "    </tr>\n",
              "  </tbody>\n",
              "</table>\n",
              "</div>"
            ],
            "text/plain": [
              "      i#clientid        income        age         loan  c#default\n",
              "1990        1991  34237.575419  34.101654  2658.090632          0\n",
              "1991        1992  26300.446554  45.539385  2317.393678          0\n",
              "1992        1993  30803.806165  23.250084   623.024153          0\n",
              "1993        1994  54421.410155  26.821928  3273.631823          0\n",
              "1994        1995  24254.700791  37.751622  2225.284643          0\n",
              "1995        1996  59221.044874  48.518179  1926.729397          0\n",
              "1996        1997  69516.127573  23.162104  3503.176156          0\n",
              "1997        1998  44311.449262  28.017167  5522.786693          1\n",
              "1998        1999  43756.056605  63.971796  1622.722598          0\n",
              "1999        2000  69436.579552  56.152617  7378.833599          0"
            ]
          },
          "metadata": {
            "tags": []
          },
          "execution_count": 63
        }
      ]
    },
    {
      "cell_type": "code",
      "metadata": {
        "colab": {
          "base_uri": "https://localhost:8080/",
          "height": 0
        },
        "id": "2Nc8l3EyDTkG",
        "outputId": "4aa135d4-236e-406e-b128-f70de191d061"
      },
      "source": [
        "base_credit.describe()"
      ],
      "execution_count": 64,
      "outputs": [
        {
          "output_type": "execute_result",
          "data": {
            "text/html": [
              "<div>\n",
              "<style scoped>\n",
              "    .dataframe tbody tr th:only-of-type {\n",
              "        vertical-align: middle;\n",
              "    }\n",
              "\n",
              "    .dataframe tbody tr th {\n",
              "        vertical-align: top;\n",
              "    }\n",
              "\n",
              "    .dataframe thead th {\n",
              "        text-align: right;\n",
              "    }\n",
              "</style>\n",
              "<table border=\"1\" class=\"dataframe\">\n",
              "  <thead>\n",
              "    <tr style=\"text-align: right;\">\n",
              "      <th></th>\n",
              "      <th>i#clientid</th>\n",
              "      <th>income</th>\n",
              "      <th>age</th>\n",
              "      <th>loan</th>\n",
              "      <th>c#default</th>\n",
              "    </tr>\n",
              "  </thead>\n",
              "  <tbody>\n",
              "    <tr>\n",
              "      <th>count</th>\n",
              "      <td>2000.000000</td>\n",
              "      <td>2000.000000</td>\n",
              "      <td>1997.000000</td>\n",
              "      <td>2000.000000</td>\n",
              "      <td>2000.000000</td>\n",
              "    </tr>\n",
              "    <tr>\n",
              "      <th>mean</th>\n",
              "      <td>1000.500000</td>\n",
              "      <td>45331.600018</td>\n",
              "      <td>40.807559</td>\n",
              "      <td>4444.369695</td>\n",
              "      <td>0.141500</td>\n",
              "    </tr>\n",
              "    <tr>\n",
              "      <th>std</th>\n",
              "      <td>577.494589</td>\n",
              "      <td>14326.327119</td>\n",
              "      <td>13.624469</td>\n",
              "      <td>3045.410024</td>\n",
              "      <td>0.348624</td>\n",
              "    </tr>\n",
              "    <tr>\n",
              "      <th>min</th>\n",
              "      <td>1.000000</td>\n",
              "      <td>20014.489470</td>\n",
              "      <td>-52.423280</td>\n",
              "      <td>1.377630</td>\n",
              "      <td>0.000000</td>\n",
              "    </tr>\n",
              "    <tr>\n",
              "      <th>25%</th>\n",
              "      <td>500.750000</td>\n",
              "      <td>32796.459717</td>\n",
              "      <td>28.990415</td>\n",
              "      <td>1939.708847</td>\n",
              "      <td>0.000000</td>\n",
              "    </tr>\n",
              "    <tr>\n",
              "      <th>50%</th>\n",
              "      <td>1000.500000</td>\n",
              "      <td>45789.117313</td>\n",
              "      <td>41.317159</td>\n",
              "      <td>3974.719419</td>\n",
              "      <td>0.000000</td>\n",
              "    </tr>\n",
              "    <tr>\n",
              "      <th>75%</th>\n",
              "      <td>1500.250000</td>\n",
              "      <td>57791.281668</td>\n",
              "      <td>52.587040</td>\n",
              "      <td>6432.410625</td>\n",
              "      <td>0.000000</td>\n",
              "    </tr>\n",
              "    <tr>\n",
              "      <th>max</th>\n",
              "      <td>2000.000000</td>\n",
              "      <td>69995.685578</td>\n",
              "      <td>63.971796</td>\n",
              "      <td>13766.051239</td>\n",
              "      <td>1.000000</td>\n",
              "    </tr>\n",
              "  </tbody>\n",
              "</table>\n",
              "</div>"
            ],
            "text/plain": [
              "        i#clientid        income          age          loan    c#default\n",
              "count  2000.000000   2000.000000  1997.000000   2000.000000  2000.000000\n",
              "mean   1000.500000  45331.600018    40.807559   4444.369695     0.141500\n",
              "std     577.494589  14326.327119    13.624469   3045.410024     0.348624\n",
              "min       1.000000  20014.489470   -52.423280      1.377630     0.000000\n",
              "25%     500.750000  32796.459717    28.990415   1939.708847     0.000000\n",
              "50%    1000.500000  45789.117313    41.317159   3974.719419     0.000000\n",
              "75%    1500.250000  57791.281668    52.587040   6432.410625     0.000000\n",
              "max    2000.000000  69995.685578    63.971796  13766.051239     1.000000"
            ]
          },
          "metadata": {
            "tags": []
          },
          "execution_count": 64
        }
      ]
    },
    {
      "cell_type": "code",
      "metadata": {
        "colab": {
          "base_uri": "https://localhost:8080/",
          "height": 0
        },
        "id": "HPbUD_u9DY-l",
        "outputId": "c644cde1-c135-427a-84d8-8a77b278ff67"
      },
      "source": [
        "base_credit[base_credit[\"income\"] > 69500]"
      ],
      "execution_count": 65,
      "outputs": [
        {
          "output_type": "execute_result",
          "data": {
            "text/html": [
              "<div>\n",
              "<style scoped>\n",
              "    .dataframe tbody tr th:only-of-type {\n",
              "        vertical-align: middle;\n",
              "    }\n",
              "\n",
              "    .dataframe tbody tr th {\n",
              "        vertical-align: top;\n",
              "    }\n",
              "\n",
              "    .dataframe thead th {\n",
              "        text-align: right;\n",
              "    }\n",
              "</style>\n",
              "<table border=\"1\" class=\"dataframe\">\n",
              "  <thead>\n",
              "    <tr style=\"text-align: right;\">\n",
              "      <th></th>\n",
              "      <th>i#clientid</th>\n",
              "      <th>income</th>\n",
              "      <th>age</th>\n",
              "      <th>loan</th>\n",
              "      <th>c#default</th>\n",
              "    </tr>\n",
              "  </thead>\n",
              "  <tbody>\n",
              "    <tr>\n",
              "      <th>150</th>\n",
              "      <td>151</td>\n",
              "      <td>69579.929211</td>\n",
              "      <td>57.756243</td>\n",
              "      <td>10868.241472</td>\n",
              "      <td>0</td>\n",
              "    </tr>\n",
              "    <tr>\n",
              "      <th>325</th>\n",
              "      <td>326</td>\n",
              "      <td>69958.705541</td>\n",
              "      <td>30.536020</td>\n",
              "      <td>8755.691977</td>\n",
              "      <td>1</td>\n",
              "    </tr>\n",
              "    <tr>\n",
              "      <th>346</th>\n",
              "      <td>347</td>\n",
              "      <td>69566.684349</td>\n",
              "      <td>52.967088</td>\n",
              "      <td>9875.037183</td>\n",
              "      <td>0</td>\n",
              "    </tr>\n",
              "    <tr>\n",
              "      <th>422</th>\n",
              "      <td>423</td>\n",
              "      <td>69995.685578</td>\n",
              "      <td>52.719673</td>\n",
              "      <td>2084.370861</td>\n",
              "      <td>0</td>\n",
              "    </tr>\n",
              "    <tr>\n",
              "      <th>1057</th>\n",
              "      <td>1058</td>\n",
              "      <td>69929.010996</td>\n",
              "      <td>51.394448</td>\n",
              "      <td>12427.835703</td>\n",
              "      <td>0</td>\n",
              "    </tr>\n",
              "    <tr>\n",
              "      <th>1350</th>\n",
              "      <td>1351</td>\n",
              "      <td>69592.010828</td>\n",
              "      <td>63.238625</td>\n",
              "      <td>13025.056571</td>\n",
              "      <td>0</td>\n",
              "    </tr>\n",
              "    <tr>\n",
              "      <th>1377</th>\n",
              "      <td>1378</td>\n",
              "      <td>69939.329678</td>\n",
              "      <td>55.637621</td>\n",
              "      <td>2225.224533</td>\n",
              "      <td>0</td>\n",
              "    </tr>\n",
              "    <tr>\n",
              "      <th>1378</th>\n",
              "      <td>1379</td>\n",
              "      <td>69755.320163</td>\n",
              "      <td>44.543682</td>\n",
              "      <td>13766.051239</td>\n",
              "      <td>0</td>\n",
              "    </tr>\n",
              "    <tr>\n",
              "      <th>1610</th>\n",
              "      <td>1611</td>\n",
              "      <td>69695.150449</td>\n",
              "      <td>26.424483</td>\n",
              "      <td>8418.253160</td>\n",
              "      <td>1</td>\n",
              "    </tr>\n",
              "    <tr>\n",
              "      <th>1902</th>\n",
              "      <td>1903</td>\n",
              "      <td>69852.058722</td>\n",
              "      <td>62.202313</td>\n",
              "      <td>9246.265058</td>\n",
              "      <td>0</td>\n",
              "    </tr>\n",
              "    <tr>\n",
              "      <th>1913</th>\n",
              "      <td>1914</td>\n",
              "      <td>69992.332712</td>\n",
              "      <td>41.771231</td>\n",
              "      <td>52.872190</td>\n",
              "      <td>0</td>\n",
              "    </tr>\n",
              "    <tr>\n",
              "      <th>1996</th>\n",
              "      <td>1997</td>\n",
              "      <td>69516.127573</td>\n",
              "      <td>23.162104</td>\n",
              "      <td>3503.176156</td>\n",
              "      <td>0</td>\n",
              "    </tr>\n",
              "  </tbody>\n",
              "</table>\n",
              "</div>"
            ],
            "text/plain": [
              "      i#clientid        income        age          loan  c#default\n",
              "150          151  69579.929211  57.756243  10868.241472          0\n",
              "325          326  69958.705541  30.536020   8755.691977          1\n",
              "346          347  69566.684349  52.967088   9875.037183          0\n",
              "422          423  69995.685578  52.719673   2084.370861          0\n",
              "1057        1058  69929.010996  51.394448  12427.835703          0\n",
              "1350        1351  69592.010828  63.238625  13025.056571          0\n",
              "1377        1378  69939.329678  55.637621   2225.224533          0\n",
              "1378        1379  69755.320163  44.543682  13766.051239          0\n",
              "1610        1611  69695.150449  26.424483   8418.253160          1\n",
              "1902        1903  69852.058722  62.202313   9246.265058          0\n",
              "1913        1914  69992.332712  41.771231     52.872190          0\n",
              "1996        1997  69516.127573  23.162104   3503.176156          0"
            ]
          },
          "metadata": {
            "tags": []
          },
          "execution_count": 65
        }
      ]
    },
    {
      "cell_type": "code",
      "metadata": {
        "colab": {
          "base_uri": "https://localhost:8080/",
          "height": 0
        },
        "id": "2orlWR1UF2iM",
        "outputId": "82b5a6d7-7198-4ee3-9e81-af8c9259ebfa"
      },
      "source": [
        "base_credit = base_credit.rename(columns={\"c#default\" : \"default\"})\n",
        "base_credit"
      ],
      "execution_count": 66,
      "outputs": [
        {
          "output_type": "execute_result",
          "data": {
            "text/html": [
              "<div>\n",
              "<style scoped>\n",
              "    .dataframe tbody tr th:only-of-type {\n",
              "        vertical-align: middle;\n",
              "    }\n",
              "\n",
              "    .dataframe tbody tr th {\n",
              "        vertical-align: top;\n",
              "    }\n",
              "\n",
              "    .dataframe thead th {\n",
              "        text-align: right;\n",
              "    }\n",
              "</style>\n",
              "<table border=\"1\" class=\"dataframe\">\n",
              "  <thead>\n",
              "    <tr style=\"text-align: right;\">\n",
              "      <th></th>\n",
              "      <th>i#clientid</th>\n",
              "      <th>income</th>\n",
              "      <th>age</th>\n",
              "      <th>loan</th>\n",
              "      <th>default</th>\n",
              "    </tr>\n",
              "  </thead>\n",
              "  <tbody>\n",
              "    <tr>\n",
              "      <th>0</th>\n",
              "      <td>1</td>\n",
              "      <td>66155.925095</td>\n",
              "      <td>59.017015</td>\n",
              "      <td>8106.532131</td>\n",
              "      <td>0</td>\n",
              "    </tr>\n",
              "    <tr>\n",
              "      <th>1</th>\n",
              "      <td>2</td>\n",
              "      <td>34415.153966</td>\n",
              "      <td>48.117153</td>\n",
              "      <td>6564.745018</td>\n",
              "      <td>0</td>\n",
              "    </tr>\n",
              "    <tr>\n",
              "      <th>2</th>\n",
              "      <td>3</td>\n",
              "      <td>57317.170063</td>\n",
              "      <td>63.108049</td>\n",
              "      <td>8020.953296</td>\n",
              "      <td>0</td>\n",
              "    </tr>\n",
              "    <tr>\n",
              "      <th>3</th>\n",
              "      <td>4</td>\n",
              "      <td>42709.534201</td>\n",
              "      <td>45.751972</td>\n",
              "      <td>6103.642260</td>\n",
              "      <td>0</td>\n",
              "    </tr>\n",
              "    <tr>\n",
              "      <th>4</th>\n",
              "      <td>5</td>\n",
              "      <td>66952.688845</td>\n",
              "      <td>18.584336</td>\n",
              "      <td>8770.099235</td>\n",
              "      <td>1</td>\n",
              "    </tr>\n",
              "    <tr>\n",
              "      <th>...</th>\n",
              "      <td>...</td>\n",
              "      <td>...</td>\n",
              "      <td>...</td>\n",
              "      <td>...</td>\n",
              "      <td>...</td>\n",
              "    </tr>\n",
              "    <tr>\n",
              "      <th>1995</th>\n",
              "      <td>1996</td>\n",
              "      <td>59221.044874</td>\n",
              "      <td>48.518179</td>\n",
              "      <td>1926.729397</td>\n",
              "      <td>0</td>\n",
              "    </tr>\n",
              "    <tr>\n",
              "      <th>1996</th>\n",
              "      <td>1997</td>\n",
              "      <td>69516.127573</td>\n",
              "      <td>23.162104</td>\n",
              "      <td>3503.176156</td>\n",
              "      <td>0</td>\n",
              "    </tr>\n",
              "    <tr>\n",
              "      <th>1997</th>\n",
              "      <td>1998</td>\n",
              "      <td>44311.449262</td>\n",
              "      <td>28.017167</td>\n",
              "      <td>5522.786693</td>\n",
              "      <td>1</td>\n",
              "    </tr>\n",
              "    <tr>\n",
              "      <th>1998</th>\n",
              "      <td>1999</td>\n",
              "      <td>43756.056605</td>\n",
              "      <td>63.971796</td>\n",
              "      <td>1622.722598</td>\n",
              "      <td>0</td>\n",
              "    </tr>\n",
              "    <tr>\n",
              "      <th>1999</th>\n",
              "      <td>2000</td>\n",
              "      <td>69436.579552</td>\n",
              "      <td>56.152617</td>\n",
              "      <td>7378.833599</td>\n",
              "      <td>0</td>\n",
              "    </tr>\n",
              "  </tbody>\n",
              "</table>\n",
              "<p>2000 rows × 5 columns</p>\n",
              "</div>"
            ],
            "text/plain": [
              "      i#clientid        income        age         loan  default\n",
              "0              1  66155.925095  59.017015  8106.532131        0\n",
              "1              2  34415.153966  48.117153  6564.745018        0\n",
              "2              3  57317.170063  63.108049  8020.953296        0\n",
              "3              4  42709.534201  45.751972  6103.642260        0\n",
              "4              5  66952.688845  18.584336  8770.099235        1\n",
              "...          ...           ...        ...          ...      ...\n",
              "1995        1996  59221.044874  48.518179  1926.729397        0\n",
              "1996        1997  69516.127573  23.162104  3503.176156        0\n",
              "1997        1998  44311.449262  28.017167  5522.786693        1\n",
              "1998        1999  43756.056605  63.971796  1622.722598        0\n",
              "1999        2000  69436.579552  56.152617  7378.833599        0\n",
              "\n",
              "[2000 rows x 5 columns]"
            ]
          },
          "metadata": {
            "tags": []
          },
          "execution_count": 66
        }
      ]
    },
    {
      "cell_type": "markdown",
      "metadata": {
        "id": "KlAl3OT9D4gE"
      },
      "source": [
        "## Vizualizando os dados"
      ]
    },
    {
      "cell_type": "code",
      "metadata": {
        "colab": {
          "base_uri": "https://localhost:8080/"
        },
        "id": "NTLv4RgRDu0H",
        "outputId": "242623fc-9810-4691-ec53-8affd5cff801"
      },
      "source": [
        "base_credit[\"default\"].unique()"
      ],
      "execution_count": 67,
      "outputs": [
        {
          "output_type": "execute_result",
          "data": {
            "text/plain": [
              "array([0, 1])"
            ]
          },
          "metadata": {
            "tags": []
          },
          "execution_count": 67
        }
      ]
    },
    {
      "cell_type": "code",
      "metadata": {
        "colab": {
          "base_uri": "https://localhost:8080/",
          "height": 0
        },
        "id": "R6M-M9g9EAdf",
        "outputId": "f89271a1-8aaa-4067-b654-d78507a24f91"
      },
      "source": [
        "sns.countplot(x = base_credit[\"default\"])\n",
        "plt.show()"
      ],
      "execution_count": 68,
      "outputs": [
        {
          "output_type": "display_data",
          "data": {
            "image/png": "[encoded data removed]",
            "text/plain": [
              "<Figure size 432x288 with 1 Axes>"
            ]
          },
          "metadata": {
            "tags": [],
            "needs_background": "light"
          }
        }
      ]
    },
    {
      "cell_type": "code",
      "metadata": {
        "colab": {
          "base_uri": "https://localhost:8080/",
          "height": 0
        },
        "id": "6mZjouIQEZkd",
        "outputId": "df23f1f9-e384-4b42-c558-bb33cbd59c95"
      },
      "source": [
        "plt.hist(x = base_credit[\"age\"])\n",
        "plt.show()"
      ],
      "execution_count": 69,
      "outputs": [
        {
          "output_type": "display_data",
          "data": {
            "image/png": "[encoded data removed]",
            "text/plain": [
              "<Figure size 432x288 with 1 Axes>"
            ]
          },
          "metadata": {
            "tags": [],
            "needs_background": "light"
          }
        }
      ]
    },
    {
      "cell_type": "code",
      "metadata": {
        "colab": {
          "base_uri": "https://localhost:8080/",
          "height": 0
        },
        "id": "8PSSwkzxE1SQ",
        "outputId": "55469281-a060-4584-e68c-00ad764c1fe5"
      },
      "source": [
        "plt.hist(x = base_credit[\"loan\"])\n",
        "plt.show()"
      ],
      "execution_count": 70,
      "outputs": [
        {
          "output_type": "display_data",
          "data": {
            "image/png": "[encoded data removed]",
            "text/plain": [
              "<Figure size 432x288 with 1 Axes>"
            ]
          },
          "metadata": {
            "tags": [],
            "needs_background": "light"
          }
        }
      ]
    },
    {
      "cell_type": "code",
      "metadata": {
        "colab": {
          "base_uri": "https://localhost:8080/",
          "height": 0
        },
        "id": "y_rLhwGBFBGR",
        "outputId": "215c863d-317a-456b-a6ba-a96aed142aaf"
      },
      "source": [
        "grafico = px.scatter_matrix(base_credit, dimensions=['age', 'income', 'loan'], color= \"default\")\n",
        "grafico.show()\n",
        "plt.show()"
      ],
      "execution_count": 71,
      "outputs": [
        {
          "output_type": "display_data",
          "data": {
            "text/html": [
              "<html>\n",
              "<head><meta charset=\"utf-8\" /></head>\n",
              "<body>\n",
              "    <div>\n",
              "            <script src=\"https://cdnjs.cloudflare.com/ajax/libs/mathjax/2.7.5/MathJax.js?config=TeX-AMS-MML_SVG\"></script><script type=\"text/javascript\">if (window.MathJax) {MathJax.Hub.Config({SVG: {font: \"STIX-Web\"}});}</script>\n",
              "                <script type=\"text/javascript\">window.PlotlyConfig = {MathJaxConfig: 'local'};</script>\n",
              "        <script src=\"https://cdn.plot.ly/plotly-latest.min.js\"></script>    \n",
              "            <div id=\"8dd0bfe7-0292-45b9-b247-ddbc3392722f\" class=\"plotly-graph-div\" style=\"height:525px; width:100%;\"></div>\n",
              "            <script type=\"text/javascript\">\n",
              "                \n",
              "                    window.PLOTLYENV=window.PLOTLYENV || {};\n",
              "                    \n",
              "                if (document.getElementById(\"8dd0bfe7-0292-45b9-b247-ddbc3392722f\")) {\n",
              "                    Plotly.newPlot(\n",
              "                        '8dd0bfe7-0292-45b9-b247-ddbc3392722f',\n",
              "                        [{\"dimensions\": [{\"axis\": {\"matches\": true}, \"label\": \"age\", \"values\": [59.017015066929204, 48.117153104860286, 63.10804949188599, 45.751972352154596, 18.5843359269202, 57.4716071025468, 26.809132419060894, 32.8975483207032, 55.496852539479704, 39.7763780555688, 25.679575353860894, 60.4719358547591, 26.3550438545644, 61.576775823254096, 39.2015528911725, -28.218361321371003, 39.5745303500444, 60.84831793932239, 61.6905707078986, 26.076093018055, 31.761354170739693, -52.423279919661596, 48.5769745339639, 51.9706241027452, 48.84092176985, 27.031741308979697, -36.4969755136408, 55.839921845123214, null, 54.51094756368551, null, null, 38.1319074640051, 38.6615042379126, 36.672020919621, 20.666778734419502, 58.185017302632296, 50.2250059167854, 18.840525757987105, 32.6760442531668, 32.8966930676252, 62.641302851960106, 49.0404332359321, 25.252330708783106, 47.3218990601599, 18.130038363393396, 47.25073103467, 50.088671288918704, 57.9287192984484, 46.308240193408004, 35.7086517671123, 29.2460566032678, 54.9592871875502, 47.7150637004524, 49.3663711971603, 50.09815906733271, 23.4436241723597, 31.9685264034197, 20.8376339208335, 36.84780068183321, 53.7450604746118, 47.944121700245894, 62.0238024718128, 34.4748710067943, 25.107524048071397, 41.5271887867711, 60.54107743361961, 22.242097743786893, 21.598676353692998, 49.56597727723421, 52.3838734384626, 21.2164916703478, 33.1831062319688, 44.825715307612, 28.6063759573735, 51.0129371876828, 60.28875682642679, 56.851330957375495, 61.22928542876621, 50.074924274347715, 43.8309230962768, 53.83952000364661, 43.0279434239492, 24.038265345152503, 33.656441235914805, 19.777385845780397, 25.5850369762629, 19.2124481862411, 27.561712404713006, 25.063367417547894, 61.440913001541006, 59.3338370760903, 56.494410405401105, 63.3794076466002, 55.366188046522396, 28.839542468544106, 63.16991394385701, 63.735710240900495, 20.240621272008894, 24.179470323026198, 36.6515586250462, 47.976308161392794, 49.922603716142504, 25.7084823274054, 45.6552049978636, 44.2948713297956, 29.9100334881805, 34.7392676644959, 44.3150380225852, 35.5140173663385, 19.5157164894044, 53.0476547656581, 20.991243356373197, 29.2350565218367, 38.6606185785495, 47.4687409927137, 59.6751149813645, 26.585778484120997, 38.587783391121796, 29.9045216715895, 35.341948841698496, 23.8219211781397, 29.325901472941, 21.375033318065103, 18.477425018791106, 22.5358841912821, 22.8269377253018, 59.5229867356829, 53.410862499848, 46.7538959244266, 45.0769692314789, 24.3771287729032, 29.4230185477063, 53.3095358414575, 32.4756210590713, 48.3449929575436, 53.582279865164296, 24.7831077934243, 38.1160166831687, 21.2076896023937, 22.569568357430395, 37.3097529392689, 26.1922096619383, 50.2377849854529, 39.048409874551, 26.101500419899807, 58.8569274861366, 49.1538267019205, 60.52500645350661, 40.8329182346351, 57.756243164651096, 44.048516512848394, 51.1677144751884, 29.1121819927357, 32.4718877156265, 46.154191521462096, 55.2345850714482, 27.9096519639716, 47.1057667518035, 41.4163357610814, 58.3484551762231, 31.081884507089896, 60.5296831950545, 33.1156532461755, 27.873486188706003, 43.8394727888517, 29.297398745548, 21.108773565851198, 42.8286152952351, 28.9702452290803, 53.898080206010505, 60.4021064555272, 49.3904022299685, 50.5067522143945, 43.725447806064, 63.376233011949786, 57.5810503219254, 33.0152727491222, 23.611053848173494, 19.6300378022715, 26.723162444774104, 44.9388158493675, 51.460875617805904, 60.5169084747322, 20.5836314358748, 26.042092686519, 54.0104153105058, 56.72462562192229, 55.59654947882521, 45.5540205067955, 29.0720967198722, 52.5870399242267, 44.2215166972019, 53.868651077616995, 44.774380587507, 23.7774331844412, 53.6956359203905, 28.653283655177802, 33.4312054850161, 53.6699082404375, 52.42442217422651, 26.2068803249858, 37.2764920084737, 62.44209669111301, 28.4456774769351, 37.9454801897518, 61.5248488285579, 46.6789695257321, 48.6236102138646, 42.0493419757113, 42.7752558849752, 56.15141838463021, 31.9281536792405, 25.4631600710563, 37.027752841822796, 53.40508336713541, 20.1618777224794, 50.979134705849, 61.260144198779, 36.2151896632276, 60.93758158152921, 55.1925993468612, 41.2619462260045, 50.9284318452701, 41.3531710146926, 27.3018002295867, 31.9096907987259, 48.07852007215839, 20.2281011762097, 22.918212262913602, 52.300504095852396, 47.2954547600821, 48.9632109752856, 25.5143896490335, 58.6383316046558, 22.4861360387877, 54.964873311575495, 45.424993005115496, 57.9306961889379, 63.4214554904029, 53.5338888033293, 27.8029975118116, 40.446167938876904, 18.396969827823305, 21.8976978017017, 37.399069886189, 50.4129322776571, 44.7227962231264, 26.310194327030306, 60.6666585183702, 24.7795283021405, 58.4878998775966, 51.29419703828171, 39.7397662643343, 45.01979642966759, 53.6151803117245, 43.5143038420938, 55.2220663037151, 29.9207484745421, 36.6687041711994, 60.104818883352, 57.3796501425095, 54.530172400642215, 29.421412573196, 47.0052601420321, 62.02213807310911, 53.082214448601, 52.339376373216496, 39.0091894618236, 55.54762961110099, 40.8445077631623, 25.1596109354869, 50.108486676123, 23.238169600255798, 56.6005673469044, 25.6021726368926, 45.1232806812041, 19.8196311858483, 30.4140330967493, 49.0278497678228, 57.6437090644613, 33.2456503002904, 55.587210861500395, 61.9842032282613, 40.4054552190937, 50.0046984688379, 41.9700667927973, 46.4470364344306, 48.120799149386606, 45.1209932160564, 40.80560310883449, 43.5972086614929, 53.362340441439294, 37.778664294630296, 19.716176087502397, 22.6446692147292, 47.704288747627295, 21.495505332946802, 51.69305562227961, 21.0219965986907, 55.171019956003896, 32.553030352108195, 57.9016834627837, 55.3668996649794, 50.3134648902342, 27.080390626099, 21.1448488398455, 33.006359541323, 20.3008601283655, 62.0016749538481, 53.576940739993, 51.932268046774, 37.2856837031431, 47.969675232190596, 52.4367397828028, 54.6232338510454, 46.5799600426108, 25.8665337795392, 20.0109276962467, 58.5191334835254, 34.2942604152486, 21.282783722970606, 43.1939415303059, 61.9533737506717, 62.049800970125894, 30.5360198994167, 45.51997723802921, 33.8955782176927, 39.415470788721, 42.09009227762, 20.105458715930602, 48.9125574673526, 49.75058566872029, 50.2041390226223, 26.563716534059505, 44.872607807628796, 62.428466856945285, 59.436500572133795, 58.84065674990421, 52.4860697872937, 54.6319151935168, 47.191410086117706, 27.8844150044024, 26.6664690533653, 56.9579610438086, 30.2678123456426, 52.967087706551, 51.3580610542558, 51.01624041982, 19.9466844960116, 60.7300558583811, 52.3828332629055, 32.4029204347171, 18.8303362894803, 28.155320470687, 43.0130229773931, 42.7513535995968, 62.9096049447544, 32.2862543463707, 40.039270239416496, 53.28803373547271, 24.2041407017969, 27.0641977209598, 54.948061559814995, 52.899213241878904, 61.8106158780865, 22.492923848331, 50.52642975049089, 28.6317861331627, 53.03869686415422, 37.737854486797, 55.73920069914311, 52.8386391988024, 55.42913449741901, 59.245984996668994, 29.7744096326642, 31.596858642529696, 56.84083063574511, 38.98900888860229, 35.5919052129611, 33.4840662707575, 56.311668782029294, 45.7314004921354, 56.5173067129217, 53.550199660006896, 29.115531621500807, 42.307918459176996, 62.065251282881896, 49.363881094846896, 49.0651086377911, 51.0198048097081, 40.8477560305037, 23.5107674831524, 23.513042524457003, 31.1392572042532, 57.6342398361303, 28.2175287632272, 49.6584056043066, 54.83645980479201, 23.3115743244998, 44.808841190300896, 53.2058221558109, 18.6630267929286, 46.0507889031433, 63.9249755814672, 22.9843944823369, 47.5405059303157, 28.5899873124436, 47.7617399827577, 51.0563588943332, 44.206686655525104, 50.4029816468246, 18.075335860718, 63.0159466909245, 30.249871416483106, 27.0216773641296, 37.7780147739686, 53.7525228345767, 36.5013708979823, 43.9410412409343, 40.9114946299233, 28.188530517276398, 52.719673210755, 45.3058510269038, 48.1095946743153, 34.393706864211694, 35.0154038900509, 18.8429928976111, 25.8393941298127, 25.2598693897016, 46.7659284593537, 50.043820101302096, 24.4183572856709, 25.4163910276257, 24.849960332736398, 32.4554232852533, 39.955194065813, 44.409974959213294, 44.9651258219965, 56.62695133779199, 28.818273770157198, 60.058777673635596, 47.0027460702695, 57.442219358403214, 20.1403118157759, 47.151148673147, 20.709892833139698, 53.9356266343966, 55.1507588205859, 24.8449592967518, 39.96390620013701, 35.775600387714796, 27.515368877910102, 18.326122155413, 30.888892731163697, 47.839100137352894, 52.3358155498281, 33.2805235567503, 26.382710393052502, 63.800670907367, 42.9319930765778, 47.331397120375215, 39.7047263034619, 38.2274417518638, 27.9331710166298, 56.6321662031114, 32.4135985886678, 42.73457771632821, 21.2967032683082, 44.2378814583644, 58.568876066710786, 40.3611400881782, 32.1632712800056, 21.9063058434986, 49.4130304073915, 19.3715205355547, 36.0744793792255, 58.74748469516629, 55.1259217481129, 53.3427248103544, 29.315767397638396, 62.369888597168, 30.6282073752955, 18.5286279926077, 60.7552497629076, 20.0963994744234, 28.758801679126897, 55.2648774106055, 32.5332560278475, 28.7354316161945, 28.62581917550411, 46.9182215244509, 21.274210639298, 49.004692913033104, 47.1836194796488, 26.651837771758398, 54.308926813304396, 31.7322647487745, 61.481522549875095, 21.3731215777807, 23.9513885802589, 41.553842225112, 40.9803287507966, 34.6683487799019, 42.3945969995111, 36.563092165160896, 47.30828613741321, 41.8198233190924, 61.6451227366924, 60.5821975269355, 36.9707166915759, 27.3041244307533, 27.6310877874494, 49.7740637762472, 55.9030230478384, 47.178784891031704, 33.0735146761872, 25.517999139614396, 57.5200941171497, 26.766311223153, 62.2943905089051, 26.494169670157103, 38.2525118570775, 23.973829543218002, 25.618240618147002, 55.71713443286721, 59.8524872446433, 54.303912614472196, 20.5874274233356, 45.573993484024, 54.181295569520394, 45.890282799489796, 51.944008814171, 28.5319973430596, 19.497102680616106, 25.0643792431802, 58.527180749457294, 55.518926667049506, 37.3942870064639, 51.146827210206496, 50.3192126206122, 41.45419508824121, 35.7711543226615, 52.089202798902996, 18.4162362311035, 38.04052822338421, 42.8901015482843, 27.5303214336745, 53.54481968609621, 25.301877188030602, 32.1782629601657, 58.9949772898108, 21.874746390152698, 56.8378381496295, 22.3484194725752, 42.2750075273216, 62.319164680317, 59.362512473482596, 47.0350984968245, 49.7294325656258, 27.9384801317938, 38.457559687551104, 53.543408808764106, 54.1049066702835, 59.6337369862013, 43.8106586406939, 45.928971621673604, 32.5093102375977, 62.8294148314744, 33.6821509548463, 28.155084246303897, 47.068105542101, 58.907327611930704, 46.438223131466714, 34.058644853998, 55.542362715583295, 27.4332205634564, 63.4005892067216, 60.9125613430515, 53.403433673549394, 19.8870530799031, 21.6623410205357, 34.0100260181352, 19.304691826459, 50.3030429887585, 20.2576053403318, 54.8174662012607, 27.1962682502344, 35.6521986378357, 48.058599114418, 33.945671624504, 44.3560899454169, 56.1940032062121, 27.465280933305607, 57.0969364880584, 18.6478525786661, 36.4082663068548, 24.3935543466359, 41.875001901295, 47.2234288896434, 39.281433168798706, 41.9411697583273, 61.3126543858089, 51.1412676903419, 32.2450079689734, 62.130755460355395, 62.9481293545105, 53.674341003410504, 31.7648890004493, 23.986563928891, 22.2630956131034, 37.5427567730658, 55.3610418764874, 57.5421556280926, 49.31063445238401, 42.765559321735104, 41.0849091280252, 46.598513542208785, 38.6837404002436, 41.994010291062295, 40.3030153843574, 63.5151151381433, 49.5150355361402, 38.491628350224296, 22.5428407723084, 48.9172136238776, 54.44842475513, 34.4429727895185, 23.076034987811, 33.8505223579705, 50.4237628807314, 21.721358859445896, 36.350075381808, 53.9306910806336, 55.8490920122713, 49.3399269720539, 30.9835570501164, 32.5968318535015, 19.329107891302602, 53.63820349238811, 50.8955430407077, 62.6893636430614, 51.647062854841394, 47.2466262932867, 25.529610356316, 42.6711944923736, 23.0814173929393, 26.6271984525956, 27.131530206184802, 23.9729682495818, 35.7160736531951, 53.4286878337152, 44.1091034938581, 31.696455666329694, 55.2125356951728, 21.420160175766803, 58.0816884133965, 44.453362821601296, 57.21959191840139, 55.158467172645, 62.2016585152596, 60.544598072301596, 42.404940330889104, 23.181443628389395, 53.367754463106394, 48.977448035497204, 35.0865972880274, 26.3497418938205, 52.5336985392496, 48.6514598648064, 51.388218862470204, 38.92128903651611, 27.8079414837994, 41.7177590057254, 29.421142429579, 38.8767124265432, 34.5964918844402, 24.686733096838, 44.6286484147422, 33.929424236528604, 48.3197407145053, 28.818521979264894, 62.770110633689896, 63.6253054803237, 41.4688852438703, 43.88730905111879, 43.905429022852296, 51.4895268101245, 41.8526130542159, 59.4719182071276, 57.705559293273794, 53.37901060422879, 61.388971141073895, 36.9204115439206, 21.2391576226801, 22.983635846059798, 25.925025629345303, 18.3097456344403, 34.2207668605261, 42.624393875245, 61.3719132794067, 30.651823387481297, 26.5513867693953, 43.5236232024617, 33.8001351165585, 42.3772462992929, 63.31227526022121, 24.264855359215304, 45.886541584041005, 40.8733375482261, 27.3703380203806, 43.956171318423, 29.7081892956048, 35.2983984411694, 24.3516025198624, 46.5357845406979, 54.6203531795181, 35.8306517112069, 48.185907284729204, 59.003768304828604, 53.4446602477692, 56.9954393552616, 57.278290571644895, 37.217654004692996, 40.296722322236704, 59.6770221912302, 32.3617921588011, 25.302530789282198, 41.8136523533612, 46.3294121143408, 59.1448074136861, 25.5482243257575, 45.6444349931553, 40.5488618090749, 42.0974981090985, 26.561012302525306, 44.41273214202371, 56.0316035267897, 32.3916598488577, 55.5812039119191, 25.5955243813805, 39.7149895974435, 48.2406478086486, 40.2791402386501, 25.856677569914602, 44.4978791652247, 41.6325453221798, 29.0336793586612, 47.0737268491648, 29.2626339835115, 22.168262908235196, 60.6552104717121, 44.5296706766821, 22.300125380978, 51.1797121162526, 34.405086162034394, 54.0833714376204, 58.4260793160647, 22.1093805856071, 56.5669315373525, 61.836844710167505, 37.664198640268296, 38.3059819466434, 25.656281858217, 30.752315645571798, 43.20724464952949, 47.7751709497534, 45.4156241421588, 31.125332410913, 34.5148812653497, 40.388842944987104, 54.94011866487561, 53.1073599536903, 44.3926223418675, 53.700273237656795, 49.7139043789357, 60.276389340404386, 42.3012538384646, 47.4181083911099, 60.5793527024798, 33.804503521882, 49.674219635780894, 35.0941635370255, 52.640624420251704, 22.344923628028496, 39.0386727838777, 34.7009895360097, 31.6031620721333, 41.2409060192294, 19.9594523082487, 25.3291227403097, 40.5675955507904, 29.636369307525506, 59.486848228611095, 30.280927554238602, 45.829426520969704, 59.6917192977853, 32.2145080873743, 56.4096822156571, 51.9397291215137, 25.9064452042803, 40.774305584374794, 32.4735058033839, 53.2281321543269, 46.479153247084504, 47.1273699835874, 35.8507148684002, 36.0585051872768, 59.70451917639, 53.198278944473714, 41.9440537178889, 49.5572698125616, 44.557108595036, 60.5802186657675, 58.79376695957029, 28.948204752989106, 30.676849837880606, 57.5763008045033, 55.8568540653214, 31.000768078491106, 45.038576235994704, 20.118845096323604, 46.169014772865886, 52.24667844874779, 47.4213283620775, 41.2400346901268, 33.403173910453894, 62.136373864952496, 47.7529402710497, 56.7655671010725, 22.9615335506387, 57.486955132801114, 58.7940956773236, 29.1899978881702, 42.1331095667556, 54.66582085750999, 48.09680230356749, 34.7233597366139, 20.560396471526502, 29.5495097753592, 25.1471019247547, 32.072008041665, 40.1948889852501, 54.663929305970704, 60.1660164748318, 57.86806021630761, 25.976458594203, 54.910971514880714, 34.3504997366108, 23.125877250917306, 35.979010198731, 54.3924881364219, 59.0226465594023, 28.733358708676, 42.9149115667678, 47.149545804597395, 58.1365677523427, 32.4746129391715, 61.9599347501062, 24.7884375578724, 18.695798727683695, 24.3714581453241, 30.485230318270602, 28.616509240120607, 47.7227678541094, 54.142548226751394, 35.4718469656073, 35.2682511825114, 41.1508777858689, 21.699699527584, 21.8542913463898, 53.8968184147961, 22.7386025083251, 53.5978628238663, 36.3746234392747, 45.471049905289, 48.2885851110332, 42.7969214715995, 22.146262606140198, 46.8319495972246, 26.3031469769776, 40.6168506052345, 60.97094455920161, 42.782855549827204, 48.285030242521294, 20.5852316911332, 29.3008653833531, 22.484048533253397, 34.4796788198873, 22.7896366892383, 36.5523909307085, 44.9091980499215, 39.94416068634021, 32.3969839904457, 63.487873623613304, 36.6745834872127, 46.012343159876785, 20.9326715869829, 63.3739421730861, 41.5310972742736, 52.08290527062489, 19.1351382303983, 18.621307099238, 58.9409142830409, 27.8009201702662, 37.7403956875205, 33.5597739792429, 35.7043567909859, 25.5863821250387, 25.853856789879494, 19.2075996422209, 37.6196372602135, 25.0547269559465, 44.44565129932021, 55.0097213611007, 55.1564379627816, 48.898758229799604, 29.36146192858, 55.2882977472618, 45.0321259801276, 60.3773854388855, 51.3064918876626, 29.3964444613084, 51.37341726711021, 62.6251084581017, 38.952739545609795, 46.47670398280021, 42.88355929171671, 63.189986590296, 20.4049915121868, 28.1087074321695, 54.0686636208557, 54.2647477448918, 18.874357114546, 63.885043743066504, 42.8418413973413, 52.0858715916984, 19.0816236077808, 35.3614920396358, 36.298051288351395, 50.241487954743214, 60.807017668150394, 63.930734686087796, 49.6374590154737, 28.9600249473006, 36.3568546553142, 18.6712893769145, 27.291971609462102, 55.4090137514286, 35.5224991776049, 27.993409112561498, 34.9126990740187, 31.054548121523105, 39.1573059842922, 28.3068615505472, 31.390791157260495, 62.3285863017663, 33.6895613595843, 23.282966454979, 57.2635917728767, 50.6512996880338, 19.2277783197351, 61.1649569645524, 20.8043047981337, 55.696529349777784, 20.9909665295854, 23.4877088945359, 27.5284397248179, 54.3172402922064, 33.0913530015387, 43.8954665251076, 53.495394564233706, 43.8804593579844, 55.3661617422476, 32.6511982483789, 29.350288588088002, 18.2999803973362, 20.1268885387108, 58.5713950437494, 62.19707881892101, 45.6872204705141, 26.854012909811, 20.039864229969695, 26.6331468173303, 30.3998898901045, 35.602517284918605, 24.707618969492607, 22.9110705880448, 21.603231470100603, 24.2437830967829, 44.0273743555881, 58.1195471086539, 48.3510828255676, 45.7291535651311, 27.2101574214175, 51.548922783695204, 35.538517334964105, 39.7981913359836, 21.402402616106, 19.6025430983864, 41.6018864475191, 32.1452214065939, 56.5100399320945, 49.325769520830406, 21.3804285540245, 19.1324464869685, 52.6268528900109, 26.449336839839802, 35.134836907498496, 40.8246740507893, 33.0311115211807, 60.9422627035528, 22.939635145478, 32.812187960837, 23.4413330657408, 22.8642844832502, 23.1808664123528, 62.3589558079839, 22.583609924186, 45.0493739051744, 31.549317500088396, 29.9771178071387, 48.3584494683892, 51.04678128939121, 51.029204678721705, 24.2270476552658, 63.384797013364704, 53.6232994752936, 40.368115155026295, 49.45591010246429, 56.6310642831959, 42.5880697602406, 30.999616120476304, 25.568741328083, 51.4329729834571, 53.7629200383089, 57.6864224728197, 51.9394795414992, 54.7213634261861, 18.306216438300897, 21.4227129220963, 38.5789446192794, 40.901724176947, 23.5900381784886, 52.17576008895411, 47.6355769587681, 30.330982693470997, 54.6567751751281, 34.669146894011604, 36.3117125998251, 48.05355677986521, 39.6313519426621, 56.385251584928504, 49.499960873275995, 38.24401685083279, 54.62546357745301, 59.9902563230135, 51.39444844517861, 56.909707329701604, 49.296121936291506, 32.8389940196648, 60.064201827161, 39.2296556243673, 28.2461758642457, 38.2803032551892, 26.629377369768896, 58.579258533194704, 23.953435258474197, 18.393829551525396, 25.405445643235, 42.608860772568704, 48.6518424763344, 58.0985400285572, 49.192422698717614, 25.3775038844906, 61.0133191822097, 19.0578916789964, 31.013961953576693, 50.611599714960896, 28.5471422006376, 38.6421196153387, 19.6645014896058, 18.8336203182116, 39.8353766053915, 43.7330526653677, 19.7837881306186, 24.4703706367873, 22.364457368850694, 33.357946901582196, 50.015552088152596, 21.1852940614335, 38.9109068377875, 34.5792021681555, 20.6656169872731, 39.1940755369142, 48.3993084896356, 46.3105889745057, 33.359457094688004, 34.9257164876908, 51.5582860666327, 59.1146443360485, 18.9473467003554, 32.5243454012088, 34.645415822044, 44.13723421283071, 52.6403490179218, 36.2273041848093, 23.9998828670941, 61.188782650511705, 37.691731847357, 38.82036029454321, 34.260301864240304, 46.9718112898991, 35.716812186408795, 24.4157260977663, 54.2687055743299, 62.906922337133395, 40.495646783150704, 28.0293198991567, 53.31978979613629, 35.918783873319605, 40.7079118597321, 34.2933534532785, 62.7825701418333, 62.232158921659, 46.5175069789402, 21.6304703606293, 31.7951883119531, 52.3746292958967, 31.4007989270613, 57.3202461791225, 43.313461889512794, 48.322055608499795, 57.991085652262, 19.0065262741409, 42.1971366778016, 34.7514377613552, 30.132575557101497, 52.20588011154899, 30.9311519302428, 42.1106091835536, 40.0412224857137, 53.798252495005705, 52.9778436059132, 22.0062600099482, 54.55607190448789, 57.833364835009, 36.6181475799531, 48.0214726761915, 24.6534822979011, 45.35669021774079, 54.1529471762478, 59.559924845583716, 50.1174370483495, 47.9328826097772, 26.909398734569503, 57.7825545510277, 19.3611887819134, 37.8746449518949, 23.816679108887897, 37.31044758204371, 41.6010754276067, 29.380949851125497, 32.1142866155133, 53.855563072953395, 52.2326373639517, 42.6429535117932, 57.5066961911507, 41.92236195551229, 49.692794545088, 52.8210372370668, 38.684920226223795, 37.802182244136894, 52.401542617473794, 20.6262163859792, 44.6922360216267, 49.4034802741371, 36.1928164209239, 57.5202533886768, 36.5730408038944, 47.893444801215104, 56.673720970284215, 25.971044015605006, 38.251363176386796, 24.9149514483288, 32.0903953830712, 28.990415092092, 40.3313677939586, 62.327230100054294, 27.050294155255, 54.15061886236071, 45.861661574337596, 57.1412841030397, 56.0537720862776, 52.88850155426189, 31.8024259502999, 45.416229172609704, 36.33953380445021, 62.0411404804327, 34.4963862220757, 33.0618317760527, 18.8531892849132, 19.4274257733487, 32.270279629621704, 49.428864156361705, 24.0740541960113, 54.7285039871931, 44.211523932404795, 47.952311197761404, 53.85620698146521, 33.471181642264106, 27.346331781707697, 46.79353807307779, 59.798669480253, 32.622299618087695, 59.7523865732364, 49.93586833216251, 18.813098603393897, 47.79338271869351, 34.3825240558945, 55.2906857491471, 58.8616898772307, 60.759744698647395, 32.516422502230895, 44.126585404854296, 31.8068806584924, 20.1184142031707, 41.7040518331341, 49.324420366436215, 47.3888703114353, 20.287295401561998, 34.8313612546772, 32.1432149559259, 36.99394877487789, 56.2570123546757, 28.1551284473389, 27.9032980892807, 20.9865613454022, 60.3747715908103, 34.567089017480605, 45.1165599925444, 35.7456523925066, 29.665795951150397, 27.075747632421603, 27.441609795671, 43.81722831539809, 51.5822805562057, 34.851817262359, 33.2614089385606, 37.8379998626187, 35.7657792968675, 27.147057728841897, 20.254605967551502, 43.8322064899839, 53.0562619292177, 33.6267267125659, 59.8920270679519, 63.2171484744176, 60.4551652302034, 29.3425137042068, 60.4467903710902, 26.9233536557294, 61.6792429047637, 22.656479598488694, 52.7144841141999, 23.350987263955197, 38.290174844674794, 34.6964232595637, 30.9688468878157, 41.0516049601138, 55.0915878899395, 19.613058435730604, 59.1216496378183, 61.739379307255106, 37.1631140722893, 55.6415401669219, 54.7489202921279, 51.1416294490919, 23.498164993710798, 57.83494209544729, 22.5268648453057, 23.7231658161618, 20.609764122404197, 23.2542530363426, 47.7453528800979, 35.0276599256322, 61.0521709173918, 29.7553181806579, 31.2778618824668, 53.762358619831495, 27.866907121148, 39.236582591663996, 26.7145613217726, 19.534981993027, 42.63495588768271, 57.120660287793704, 28.4618167453445, 53.76303351297971, 26.159438316244607, 63.1713196481578, 41.9223259263672, 29.5288083860651, 22.851220672950106, 47.4598436788656, 31.493049539625602, 22.334487610496602, 49.6160042271949, 43.3650562143885, 56.940966158174, 21.989767443854397, 19.9765913961455, 26.92821499845011, 37.070500629954, 48.450839356519296, 41.0178787028417, 29.550940380897398, 31.0870394702069, 21.085867640562398, 60.9443494593725, 57.666153101250494, 61.1350629273802, 33.7045991150662, 20.826679904013893, 61.6142461770214, 23.7205218081363, 18.446023380383803, 62.64878625748681, 27.313371989876, 19.2439025938511, 63.054397157393396, 21.2805633465759, 45.190938007086494, 29.2741105407476, 45.6285682567395, 45.544928309973294, 41.936381030827796, 56.167668717913294, 47.4495290615596, 31.5454680258408, 35.4157032864168, 43.1167432819493, 42.0474876314402, 43.7008667183109, 55.1945837023668, 59.0291022560559, 63.5581642580219, 30.036760843824602, 45.5363250342198, 53.111927493941, 52.73927400819961, 63.2386250044219, 31.077654027845696, 48.414803271181896, 50.0691045392305, 22.2880102167837, 28.1742570637725, 35.8519781911746, 57.0178458099253, 41.85424767853689, 31.6172848115675, 18.812804243993, 34.511520112399, 34.4063696628436, 44.88061703089622, 43.6035659527406, 29.732926420401807, 51.806886471808006, 34.6052206088789, 60.277962766587706, 19.8465041620657, 51.349799466319396, 21.042197778355305, 34.5598100377247, 34.9966813726351, 53.5404433552176, 25.4830486518331, 39.8577877297066, 55.6376212476753, 44.5436822762713, 22.6563397445716, 27.9972893036902, 50.7146625304595, 56.6356326374225, 19.2896285057068, 24.4328114953823, 50.2829601247795, 21.014208402019, 41.6103968122043, 37.2548939283006, 53.690633235033594, 57.08784007141371, 53.2772130607627, 60.2912226915359, 54.62814034800979, 35.6298775435425, 63.330431796610405, 23.3420981327072, 59.318140267860095, 21.210909305606002, 24.278338806237997, 55.8614724469371, 47.7825802192092, 49.40990043431521, 47.984505509491996, 61.671458660159296, 50.418526894878596, 55.7820571959019, 60.2551426086575, 58.1846541729756, 35.1387838018127, 22.291961919982, 19.8195440261625, 62.8707484649494, 61.5062966248952, 34.4421687847935, 26.917833163868604, 45.4752244236879, 55.6615202557296, 44.1412975378335, 62.5851672696881, 63.079507361631784, 43.120141460094615, 35.5881441300735, 59.206105916760905, 62.72826527711, 56.771530738566106, 52.075268419925095, 63.2965331692249, 57.385184686165296, 32.6733948793262, 48.5161607107148, 54.3271856321953, 60.6873638918623, 41.48682721192021, 36.157751087564996, 29.545486581511803, 58.890320238191606, 18.2502651894465, 54.0021256082691, 24.597573836334, 21.5834590201266, 35.9191078357399, 52.530102157965295, 23.915705407038303, 50.132754800841205, 62.8858099970967, 52.905079930555104, 36.4609444406815, 56.7899114075117, 38.4789186194539, 22.399109780788397, 38.93593926448371, 43.2022035038099, 27.291530027519894, 48.0852702674456, 43.6187472892925, 47.886393541935796, 43.287673139944715, 42.954194752033786, 28.9432969815098, 43.6860980782658, 56.490556250792, 36.2045733071864, 33.7556324498728, 30.142012033611497, 21.8403608766384, 37.47767832642421, 63.2944037974812, 33.5187431662343, 51.051450930070104, 25.546307830139998, 27.8468346674927, 35.65403369301929, 36.7371304794215, 32.816768867429296, 59.26477079000321, 24.174516219180106, 59.429795145522796, 37.2917711720802, 29.209119285922494, 23.1489815721288, 54.8293015290983, 41.2806041608565, 44.1414116015658, 42.6630315240473, 61.0876121469773, 41.834137139376296, 21.4743404272012, 48.972523716744, 29.3780835419893, 63.113496308215, 43.6411619479768, 33.628850525710696, 37.5065867779776, 42.756973792798796, 24.6631496008486, 30.1014204891399, 27.294051585719, 49.1308748191223, 62.585855379235, 43.6283751251176, 47.7818413753994, 43.93942570220679, 49.124152299016714, 60.8484243666753, 54.6984751406126, 26.0328495185822, 39.174613640178, 21.8256042641588, 42.0537312338129, 21.355885541066502, 49.840941323898704, 33.8635710026138, 32.0986736253835, 28.410776470322197, 62.2347470652312, 18.605122473090894, 43.372344576288, 39.39309718227009, 43.4194350652397, 46.099209739361, 53.2545798174106, 18.713332561776, 36.1980030969717, 32.4015455972403, 24.640143856406198, 45.146788359619705, 41.412175883539, 19.009670652449106, 19.0216423212551, 44.363808075897396, 52.1849490096793, 23.876815125811802, 32.3065359489992, 31.3281223042868, 34.7410444347188, 38.037175831385, 40.6219201330096, 49.6576160262339, 35.260340718086795, 29.13702617678789, 49.911707181017796, 54.5151493181475, 56.2984954169951, 39.961768785025896, 36.4170332560316, 21.054199264384803, 28.0218697916716, 28.476944413036104, 41.1717944289558, 49.055773179978104, 30.5151092219166, 22.1605025473982, 28.4226720966399, 30.8335623210296, 54.7025232999586, 26.4306427794509, 46.0273932213895, 36.286159678362296, 35.76410817215221, 27.480954650323802, 27.398472916334896, 45.19554598908871, 18.9570020614192, 36.9153439118527, 51.7472122898325, 22.540735562797604, 39.1758576631546, 32.704374910332305, 43.277520182542496, 56.325616270303705, 25.805651593022, 28.379293691366897, 19.2805354306474, 30.1578542543575, 39.30174824083221, 62.6558653847314, 31.8223280687816, 39.9287241469137, 38.4758883691393, 21.0349717177451, 54.548703772947206, 58.612272090278594, 25.6901291194372, 26.7274004640058, 31.9483236707747, 45.782717915251894, 23.6371360039338, 60.9173057088628, 24.6220297645777, 24.5644754115492, 51.73379038367421, 46.755072151776396, 23.7183924899437, 45.697216598317006, 36.3704711874016, 58.3921971502714, 50.963954247534296, 35.8824849808589, 59.0371277481318, 51.528140125330495, 30.0824641142972, 34.5552007704973, 34.9015168333426, 18.229629389476, 59.4368922766298, 56.4190945834853, 26.991351277101803, 20.1755322436802, 26.7719294563867, 26.4244834128767, 27.9570272588171, 24.8086569984443, 42.7518386649899, 36.609622445888796, 25.9131900230423, 34.3344714795239, 41.515260858461296, 58.0628085201606, 42.343177925795295, 51.1457220236771, 24.6941230664961, 18.413736339658502, 26.851987544912802, 37.185845421161495, 33.5510297357105, 48.610681030899286, 29.823620389681306, 34.2960922359489, 39.227083160542, 18.1760434475727, 51.912932369858, 22.6691616862081, 18.4508251422085, 20.1080088275485, 29.5248576789163, 57.21906913165, 18.4288676595315, 23.974000670947103, 41.153689483646296, 30.076033597346395, 43.91195050161329, 62.43771619396279, 32.8272838406265, 53.4156972491182, 19.297853528987602, 48.1487081670202, 27.4822348952293, 41.2967821788043, 19.5239827041514, 51.6550989500247, 25.9961206219159, 32.893709717318394, 38.979567678179606, 58.7095565763302, 61.0508843427524, 52.96198772965001, 61.6453948724084, 43.912746462971, 56.8136033872142, 52.168664039578296, 58.440507242921704, 35.4146975870244, 53.1107936897315, 44.1555712055415, 21.953589855227605, 47.432411029934904, 22.7890518046916, 60.939410349819795, 48.36229289136829, 37.44105071621021, 19.877511996775894, 39.0771388872527, 19.3824147786945, 62.2749227751046, 22.194990343414197, 19.179906499572105, 47.8461147677153, 55.5069526312873, 44.276950193103396, 40.7064615902491, 45.188193826470496, 33.9493660898879, 18.055874488782106, 52.1840196205303, 57.2866714606062, 20.4952215258963, 56.838900666683905, 56.4301745630801, 51.522295596077996, 27.1762848948129, 46.99845732748511, 52.15906047308821, 58.932584867347, 32.102719482034395, 46.0562726054341, 28.354908418376002, 25.669949863571702, 54.6583339176141, 45.3162111518905, 36.690029055345796, 60.15632703388111, 53.260111544281216, 26.7789781559259, 33.6592989233322, 19.673241277690998, 22.403576805721997, 44.3261667871848, 23.4349054512568, 52.4298810074106, 50.17342698248101, 50.065782949794105, 49.176189694553614, 57.9326121918857, 58.363808711525095, 40.2325591379777, 19.372464833315497, 37.9000043827109, 37.459188552573295, 41.9621296385303, 25.0234321518801, 47.195193981751785, 23.456651375163304, 53.3503221618012, 50.649407097604104, 27.3684103004634, 33.8957485635765, 30.230243618600106, 27.471521140541896, 51.1302135973237, 47.6798677346669, 28.797041818499604, 21.4095960748382, 29.910983558744196, 23.47849796433, 48.869063177611714, 38.40550486650321, 58.6236949465238, 22.0975798517466, 32.3002068898641, 34.3790548262186, 19.617209166754, 61.7265654839575, 27.838848117739, 35.9414662765339, 55.127708339597994, 19.084409590344894, 57.6264127613977, 62.2650460018776, 37.871756194159396, 56.3502777488902, 36.4777576490305, 18.055188510566897, 56.6535365092568, 27.828579597175107, 30.749477461446094, 46.0343616371974, 36.70069066202271, 41.936056522186796, 40.5589190921746, 26.6529626757838, 34.2069418113679, 34.4308087760583, 49.9913307242095, 41.75835441658271, 55.1760833254084, 19.5034356811084, 59.7626620447263, 35.5975403040648, 57.6274173790589, 24.597318194340897, 63.2516524642706, 56.7387455981225, 32.5319016040303, 30.5573441837914, 54.6462766956538, 60.248191382735996, 36.327199691440896, 42.8456656918861, 63.4341880124994, 22.8258572579361, 55.812752560246714, 28.8766067125835, 62.779426620341795, 46.5050383456983, 43.06626362213861, 50.0954817184247, 62.2207088721916, 19.8994022835977, 61.5984211568721, 18.7455757549033, 61.1675705555826, 29.8748918231577, 58.003529137931785, 31.792708855588003, 54.7452039136551, 31.5268535530195, 53.411577749066105, 34.1997820041142, 41.304637453518794, 44.7433101194911, 49.0379870776087, 43.3228068151511, 55.05304128862921, 51.7988581843674, 61.84653541492301, 23.430980812758197, 34.795262857340305, 63.64065152918921, 21.127010439522603, 57.9731614631601, 35.8244426706806, 61.8922501667403, 48.7978129191324, 20.321645560674398, 36.827119524124996, 25.2988648773171, 46.47308182204139, 50.070416539907505, 41.571390764322096, 43.91861469391729, 45.583265012595795, 35.1091779656708, 59.7079242304899, 27.9200100218877, 39.0781830362976, 40.6872983798385, 35.9713375223801, 62.121249806601604, 27.3626951933838, 44.9191522900946, 45.5444554327987, 37.5969303091988, 54.700845524203, 19.487914884463, 28.5721331895329, 60.8050912762992, 63.8639845149592, 31.6079666293226, 61.3012934881262, 25.8950840602629, 36.7296103164554, 32.718134177383, 30.544511467684107, 55.048935229890006, 42.5163445896469, 22.926914404612003, 57.8824586365372, 30.763360913377294, 30.5854479665868, 46.452797038480604, 63.887140834238394, 58.0165700819343, 45.8798310379498, 59.506367242895095, 29.0203788527288, 23.788303747307506, 18.746455994900305, 43.0559086166322, 40.7735017831437, 26.9590053195134, 33.0920195085928, 45.883906444069005, 33.932393310125896, 25.212564835790506, 50.2212005364709, 27.404480647761396, 22.223386954050497, 42.3725129328668, 62.1931477542967, 50.788111852016286, 59.9558734656312, 18.5080935861915, 41.5761699704453, 29.417216334492, 62.840849126223496, 24.1914257979952, 60.1881995359436, 52.0275973733515, 54.224563381169006, 28.0602953033522, 37.9053184995428, 25.684226048179003, 26.940717251040002, 24.314280502498107, 45.85982714034621, 48.8180328309536, 39.6707891300321, 61.6792393168435, 63.2186164692976, 52.15536584705111, 36.42561073089021, 23.3653235542588, 20.6223270054907, 43.041728856042006, 39.4359148116782, 53.9390205498785, 33.6877787308767, 56.889189159963294, 46.5478702839464, 39.6432714527473, 52.05179370753471, 62.202313144691296, 21.3656869572587, 43.6701637604274, 61.1583992317319, 41.003400320187204, 55.8271972807124, 24.9919104841538, 59.2044248851016, 44.3864208948798, 27.4762682910077, 36.9184383805841, 41.771231430117, 32.1715747234412, 28.241796202491997, 35.7616833699867, 54.8654459267855, 56.6414742642082, 58.10209089145061, 59.858434816822395, 52.390862160828, 52.241514124907596, 27.217440214008107, 33.306685289368, 45.157120659481706, 60.261359328404104, 56.032364883460104, 24.9290873506106, 36.2786843804643, 19.9825388290919, 41.2224626955576, 32.3261754103005, 38.099812350235894, 51.893820225726785, 59.917643554508714, 28.845958323217893, 28.4463765965775, 36.0016917237081, 55.5330095859244, 18.6590213244781, 44.7719354680739, 45.5427551227622, 24.187499135267, 41.0729347174056, 27.1292334017344, 51.077324590180105, 36.9842769200914, 33.0994235407561, 43.7188643151894, 60.7262946041301, 40.1050568986684, 41.3171591130085, 18.701733683235897, 42.9807849037461, 61.304800246376494, 48.5166189149022, 52.314565026667005, 28.5496045635082, 56.355426607187795, 57.40525788953529, 37.165156937670005, 40.74341282015671, 23.694589723832895, 28.198256640695, 39.230477804318106, 34.915516287554105, 38.6710497550666, 51.757359795738, 43.20699110673739, 47.694519858341714, 30.3081837417558, 54.9693128112704, 47.466485101264, 31.344047871883998, 54.2359153465368, 47.6044022589922, 31.1926267999224, 40.5189625560306, 48.148403590079404, 52.5807728450745, 43.9994611074217, 45.9931990671903, 33.3271440174431, 60.8869659984484, 39.14222532371061, 38.622259384486796, 20.542408631648893, 24.2706115185283, 25.252609259914603, 34.1016539284028, 45.53938521957021, 23.250084119383203, 26.8219283991493, 37.751622236333795, 48.5181794138625, 23.162104470655304, 28.0171668957919, 63.97179584112021, 56.1526170284487]}, {\"axis\": {\"matches\": true}, \"label\": \"income\", \"values\": [66155.9250950813, 34415.1539658196, 57317.1700630337, 42709.534200839706, 66952.68884534019, 24904.064140282597, 48430.3596126847, 24500.1419843175, 40654.8925372772, 25075.872770976293, 64131.4153722487, 59436.847122851796, 61050.3460792825, 27267.9954580963, 63061.960174236396, 50501.7266888171, 43548.6547113396, 43378.1751943752, 20542.365072760702, 58887.3575488105, 23000.7840017788, 32197.6207010448, 23329.3194137514, 27845.8008938469, 65301.9840293564, 47451.6301229596, 63287.038907874405, 45727.4598698132, 59417.805406265, 58842.8913080133, 48528.8527957164, 23526.3025551103, 67252.9006074183, 58886.8512935005, 57584.9737902172, 26289.9723066948, 25952.3814707063, 32464.091880247, 60921.0631041788, 26578.5366925411, 66260.1215578616, 58787.455239798895, 62545.7087112591, 24381.9534475915, 67852.1058685146, 41725.6128555164, 41896.9715991989, 44379.7296541743, 28416.899375151803, 68427.163111046, 35975.7949295454, 57596.3540980592, 29681.8830934353, 51656.938674859695, 24912.8426820971, 47761.8240681477, 22248.1792024337, 29724.4768752716, 52143.8236744143, 56577.7228609659, 37660.770716611296, 37403.7953955121, 31652.6937345043, 32727.700732648398, 69078.6048118025, 40622.194872703396, 37521.0171728395, 30735.808499157403, 24857.6948815025, 33180.2015937865, 66628.2600886188, 38564.932129811496, 33704.5084964484, 57018.484831787595, 40526.9027850591, 50827.9805234633, 40775.8115953766, 55467.15141274031, 38789.0293891542, 58074.8401279561, 57814.1063381918, 45190.72918221349, 36801.9071803428, 68811.7794157006, 30483.2955286838, 44930.39417313409, 43671.4565544389, 27612.9148015752, 53607.326925266505, 33036.6831202991, 64275.834888685495, 30673.8375034183, 58793.6143088154, 21053.4906177782, 42095.4222022556, 50360.6787929311, 41970.7244774327, 51663.41017931701, 53601.81243624541, 43439.98872675, 51461.0531670041, 41285.1723073982, 62895.7497701049, 57296.1608227342, 60844.092494808094, 47634.5495483838, 23998.3236929402, 63391.6159672663, 21534.5512190834, 28255.6525128894, 36496.1339323781, 41631.6662961617, 68762.4166649766, 30075.264924671494, 41302.6741752401, 39703.759427648, 63161.0920350067, 63062.1420964599, 34507.5279055163, 27954.7077650204, 37369.3820601329, 43912.062740419104, 22766.7745016515, 21603.3057007007, 61952.906688675306, 36116.3650918752, 26157.7772721648, 26458.3832048811, 69156.3037736341, 39441.4447643794, 60119.0658099949, 55613.4854606353, 37049.3862358853, 23122.0649252646, 48790.1324336417, 59132.6851560734, 55305.5748273619, 26037.4636435881, 64899.8050298542, 27089.124317280897, 45341.4746373892, 24865.7980747521, 28239.5432051271, 52730.0805016421, 28982.0581488311, 36221.2660070509, 33551.1243715882, 43891.3559704088, 45148.885720409504, 58481.012161355495, 69579.9292111769, 52743.3085651137, 65635.6615293771, 34559.907035436496, 60218.531526625186, 51689.54853899781, 47541.614335495986, 62905.793024692684, 65632.6045794412, 31847.8537187912, 27947.440282441694, 62246.7272495851, 40154.6885655262, 58627.5548837148, 33441.0510654561, 55603.7867954001, 31046.3789664209, 44708.099872805185, 23340.2706962079, 24830.181971192404, 31422.7473852225, 60477.233845740586, 26039.0214901417, 36186.8480732664, 39772.1187258139, 34730.1640710793, 23118.4833147563, 50072.8476257063, 67465.06238589059, 38625.6320099346, 45227.482826449006, 64901.897734962404, 40543.9135432243, 27793.2667220011, 61167.774819769, 64619.6646196768, 37593.7578664161, 35032.6495990157, 58364.4649758935, 56945.8104134537, 27204.8485511914, 21648.261025548, 31077.8568894602, 42522.9224073701, 31769.247718621, 35556.779911276004, 52908.824237529196, 35045.1314053498, 44488.1644845009, 41679.9371177331, 54619.9471969157, 38053.6231258884, 64718.661776278204, 43159.0849696659, 29445.510501973306, 25817.389884032295, 66356.8567414768, 56676.157999318086, 61000.0427742489, 58906.2516856939, 49589.1537214629, 40141.6035415605, 31659.7282118164, 62658.221628516905, 39264.4834984094, 46643.1264812127, 30515.372117515697, 65077.322027646, 60871.869004331515, 25011.103895958506, 68407.1855084039, 43727.439343929305, 45788.747100159504, 65705.0108234398, 32434.7025062889, 58121.66857533161, 62498.5072459094, 26090.725876856603, 64780.93853686, 65588.4034163319, 65743.7036675401, 37164.521582890295, 65176.5297795646, 34615.542173851296, 59079.4650535099, 56267.1716371551, 34862.8212860785, 60521.3641002774, 42276.7829080112, 38451.1777129956, 45985.10865354911, 51000.4224418662, 31523.1077652425, 28648.676751181494, 27514.427963178598, 27441.0003842786, 67709.2415909283, 38600.7071868517, 30950.295405928, 27083.822868298706, 21512.7452672459, 34796.0035596043, 27089.3928408623, 25259.4016306102, 47007.3135849088, 20358.665024396, 67900.2265259624, 54418.470994569405, 51288.5546940379, 28199.601632077203, 22199.615142308197, 50514.4696263596, 34414.2403383739, 37633.087432477594, 55235.5040726252, 45587.5518429093, 52757.7949385159, 41174.8081259429, 25685.535201337203, 28145.302999764703, 52094.218372367315, 33552.3859760724, 37400.9337672032, 21605.7250904851, 57562.891736160986, 62288.539605215185, 22767.264202702798, 20943.0433274247, 20622.860097792, 48436.664631590196, 27574.634184129503, 62889.362142887, 37683.2004915923, 54974.455495830596, 56326.0866724886, 65670.8834390156, 50730.7333918288, 64184.9157912657, 66179.3241091073, 24969.5268040523, 54925.518266390995, 67879.2480193079, 67787.526762113, 31657.619301695402, 36559.1350290924, 57787.565658800304, 42521.726007107594, 51935.1806305349, 45677.8761278838, 51363.5958125815, 27218.561030458706, 43677.6292207651, 21533.595507498798, 28010.190934874103, 51589.2827464268, 50480.952688958496, 43957.35058235, 61878.346551675306, 60153.3369673416, 33388.5833434761, 41310.4017777368, 25576.9539321773, 51455.0984534435, 48134.1569265351, 51348.5273043625, 20532.8237311915, 33297.2140214406, 55858.5492358543, 43777.5184796192, 27789.519056677796, 36132.423875387794, 20145.9885970689, 63108.7073870003, 26581.6145273857, 62040.889628697194, 69958.7055412121, 38082.5195158832, 45183.054176159196, 36242.447961121805, 44527.2589032538, 40496.2558229454, 24698.669305071202, 60560.3055260144, 48018.211456947, 30216.2519586273, 61742.239950690404, 47288.4266683832, 24658.8993165642, 64644.3481021561, 57517.7241396159, 52945.5477884039, 36366.9904111885, 62113.7295663357, 62279.5195016079, 61799.0849586204, 50139.7400093265, 69566.6843489744, 44897.4883696064, 22572.3027647473, 37123.0796375312, 68744.788649492, 21081.1941814609, 58828.2921165228, 46706.4588610083, 32312.8533829004, 60778.7650241517, 30948.0415470898, 60122.011571656905, 43321.6811204329, 47904.3412418105, 58597.3832453601, 66091.9059114531, 47316.7013772763, 40872.6397715509, 35154.4934837148, 32222.8188090958, 40447.67296174541, 48463.2045542821, 42843.0991293862, 50310.422438196794, 57565.1999609545, 55066.1829696037, 46065.948209725306, 38309.585656970696, 54472.144756000496, 58695.0943968259, 54748.9123116247, 46328.171917702995, 49633.327468764, 66339.78387573731, 62650.719662196905, 27646.780053619303, 21437.6157545485, 50648.1984443963, 29670.6718439236, 20258.538662456, 34475.2179738134, 28926.432463340498, 20660.6689537875, 24987.934092059702, 29672.5608105771, 23241.5998866782, 24217.2287590802, 65574.0933422931, 55994.4587922655, 67369.3321226165, 23305.7714928873, 35195.4663451761, 27135.072618257294, 24037.1651411988, 51625.3132303245, 50705.7662634179, 58079.1569012217, 62192.4670692533, 62553.6684109829, 68147.9573179968, 27619.6614070795, 65330.1928355359, 26680.1458364353, 46104.5989114791, 44904.59764376281, 52934.5944337547, 43509.7577562556, 22118.3573291637, 56275.4100235179, 48630.9795337729, 64272.6999986917, 24349.002952221803, 34332.3152558878, 64940.241088625, 30595.7480147481, 53422.2162491642, 69995.6855783239, 48270.796244032696, 27028.155587613597, 23519.866091664902, 37302.0833986811, 55601.2718519196, 62678.6454510875, 41602.4339781143, 27533.001329284198, 30594.1765592434, 47846.9459037296, 55273.2750005089, 23086.2554092892, 29621.2748787366, 47533.92094746231, 62519.184178672695, 50878.959037363486, 58580.9595114551, 69445.64944598821, 60929.172351025, 35496.6654954478, 33572.423497680604, 55306.9143486209, 34141.9276362285, 40453.8909485564, 69088.7774154544, 30885.6922015548, 58683.2263204269, 60675.8121564053, 68460.68002516401, 63653.8399080746, 42522.5757574663, 54140.429133549296, 47548.362617380895, 24114.012257196002, 20686.2390902825, 21412.3086119071, 69391.1465979181, 32319.262220989902, 52862.94713616369, 48383.2761459053, 36430.5384038016, 44268.8940139487, 63806.3292531297, 46195.7771726884, 23743.1607721373, 22089.8374845274, 54707.2885138914, 23203.647187911, 25342.250678222597, 31645.632819272596, 32306.8084008992, 61262.816323433086, 26388.7272961438, 53009.4254342839, 58163.540675304816, 38665.033928118595, 25289.047223050096, 66049.9340319075, 56282.982525881394, 35778.6152325571, 29174.240310676407, 55934.432561043606, 32256.8615246564, 68052.8069194406, 26957.053870428397, 48685.042017605185, 38288.0710810423, 42468.0208251812, 55377.7730255388, 54231.7027854733, 53283.258706796914, 52534.78547558191, 47847.515628673085, 59998.253271915, 58684.5130124129, 49114.787932485306, 57179.40200585871, 69395.1164768077, 43963.7380116619, 66326.4724705368, 35886.7268357426, 35578.2341142185, 48689.0004295856, 56510.8353551477, 50275.8999634534, 56665.4940880835, 42912.090539466604, 22169.7292220779, 35919.8073204607, 61987.6852654852, 30044.6835160255, 61528.2724192366, 31196.4917741716, 66003.95999150349, 56960.673844441786, 41315.1078904048, 64913.343840744295, 32804.904486984, 25789.2097975127, 31908.354307524904, 56050.3025818616, 66505.7756868191, 57504.07174229621, 44619.111488573304, 21158.935285639, 22765.1909156702, 25052.820255514198, 61006.107302382596, 62321.242473553895, 49604.544211179, 48433.3734889515, 57590.283283498095, 62691.7013712227, 51121.6568690725, 22516.5403494611, 60857.2350512259, 62908.35747960951, 49665.633838158086, 65322.8010679595, 20598.9265628159, 55476.6569798812, 26218.4948474169, 40794.8702271096, 53719.6511100046, 20715.535634663, 57163.8523996808, 33751.205313019505, 44832.564720418304, 51035.6334550306, 53493.4860118665, 58205.67999500781, 47439.9407557212, 47586.2277136184, 26100.8512624539, 45326.4036728069, 24391.7562346905, 53741.371019277685, 40053.7222670391, 53033.864130265996, 25176.502012182, 31210.8470173553, 23532.276302576094, 63776.77078591661, 52278.765004593886, 56015.8132156357, 56110.9399353154, 57856.8082349375, 30187.0918646455, 30786.8719263934, 22279.2997653596, 42476.2655328959, 58147.7998569608, 36266.2118673325, 39045.4971627332, 64467.803684528895, 36594.8066744022, 58797.762861940995, 66653.2709309831, 48271.4983797632, 30991.4319240488, 45446.5183359571, 37142.738890834196, 58320.808892604015, 24825.540678575602, 20511.4294355735, 48326.3208926655, 55441.358794923886, 60496.907918714, 25296.1542271078, 50414.3203189597, 67984.0403771959, 50382.399773225196, 49413.2985407487, 61464.8206438869, 53784.0495747514, 35993.2879265398, 63402.004684321604, 40484.9713249132, 26168.0122744292, 60044.2815152928, 23984.5509454608, 40359.7011859529, 33583.8910820894, 68038.7920164503, 45652.0592723973, 34399.2097815499, 57628.438917454296, 24294.6768924594, 52218.88251136991, 50061.7677392438, 49352.274222765096, 21087.3555438593, 23812.252683565, 49395.1664934866, 33338.9439899474, 29668.320720084, 45936.5972015075, 55948.0677172542, 53239.5007135347, 43694.0344446339, 24078.0724957585, 50258.5530211218, 41816.6568316519, 36892.7162187174, 23886.5676149726, 48757.7650509775, 34601.6826620325, 52986.004545819014, 50740.9510249272, 53096.9913979061, 38500.000645872205, 41004.2623570189, 63585.364590399004, 31823.6810551025, 26242.6336226054, 63531.2459943816, 64751.1465405114, 31091.276304796294, 66871.2673638947, 25098.6528280191, 33720.5892242491, 28182.5232948177, 27334.5697135665, 68694.8431818746, 46195.62166510151, 34488.2098538801, 57827.6631003246, 20346.4690526016, 60480.9757950716, 51915.6797835603, 54625.506983138606, 48305.4270897992, 28577.964513097002, 53400.8270059712, 43414.4878922962, 47526.23412525281, 46082.072162535, 32195.5925249495, 49067.0912945643, 21293.4771250002, 52100.917387288086, 48334.3877759762, 58507.623551413395, 27521.040341816803, 63914.2253715545, 28598.8326463848, 23298.466745764, 35697.5541380234, 40376.1635813862, 56534.96684273701, 36088.938608299904, 34158.6339683272, 29732.057619839903, 41736.20153917, 42236.4560933784, 28796.850836370097, 55097.38848079, 40916.564145591095, 20908.335100393702, 57999.772385228396, 57746.5815865435, 55116.23451486231, 57765.521160326905, 45200.992799364, 42435.1894925348, 46365.573517978206, 57187.7008932643, 66539.9275999516, 25244.726699311293, 54780.345612671204, 59253.1214631163, 48540.3415444307, 30415.105079300698, 48768.6992436647, 52299.2180823348, 42242.489119526, 28218.9652719535, 40208.1318595447, 61419.6728379466, 51282.5052416883, 36017.9027472623, 57575.0097911805, 53330.767136067196, 39834.519841242596, 62469.428374897696, 40334.6167341806, 47542.8027031012, 55883.622861001604, 29163.015882950298, 47786.14106355231, 29736.3105043769, 50831.427534576505, 62030.0459954888, 54049.0127447993, 34336.0175890848, 31895.7153055817, 51894.5400998928, 37616.7108584195, 22076.948003377798, 56252.95370584349, 26316.758494358506, 23120.8796077408, 39033.032713923596, 32420.818151440497, 68827.24432973191, 58092.2048934735, 43538.856115192204, 64040.484179277, 34395.2292157337, 57405.5149266496, 22581.133972853397, 27952.945982106, 54022.9128370993, 63546.1647575721, 60713.4303008206, 44519.329471513614, 40997.798989992596, 63661.38332989071, 34429.1467382573, 29181.8614280783, 52510.4382354766, 37536.3472430035, 35683.7449525483, 45622.2907104529, 67385.40317630401, 69411.7925292812, 48322.5140650757, 40836.588810197994, 38035.9513266012, 42696.9713694416, 24181.69478653, 33194.4026448764, 32541.461526416202, 38381.4130607061, 25921.9125309028, 58810.971728526114, 63025.7440777496, 29954.0045135655, 40641.523017547996, 43940.91070164, 65166.972873266786, 58820.3820562921, 50719.7630754672, 46766.595919616506, 67520.759596955, 28386.2535539083, 68276.0307611898, 30731.7262794822, 30012.251092121, 38075.3187742084, 55932.3965734802, 27966.2444535643, 53825.5367358215, 65451.49651821701, 39473.995862063, 42344.8087112047, 36112.8744133748, 32720.504798926402, 27973.826560191803, 21306.0331228189, 36029.301576782, 48457.963548135, 46038.510655052996, 34247.1590195782, 64247.6149997674, 62109.7670914605, 21481.8037860096, 20762.4744670466, 33756.5272278152, 54325.807273853614, 33197.807804681404, 56846.4742321521, 26542.9310896434, 53200.5481468514, 38073.4068970196, 43937.219043728, 49284.81941344219, 22869.3234547973, 60113.3425417356, 23613.255685195298, 68755.0944206305, 26449.3282930925, 42855.4161149077, 25686.778936069502, 67125.64924266191, 27427.7894455008, 37145.5730567686, 41702.600771095604, 20710.7759593055, 39124.164362438, 32834.6467390656, 26267.2214000486, 41254.2281951755, 38268.6966028996, 37087.268759496495, 38458.1330395304, 40185.7756706886, 65481.9455510005, 57426.680477801696, 47903.314249124414, 34222.1877467819, 28481.265604496002, 43069.6521466598, 33093.9618567936, 61363.856056705095, 68100.73561966419, 50551.4803389087, 54421.054006088496, 32152.4597401731, 40230.9757121839, 53483.3740023896, 65137.937762774505, 29496.5941272676, 45181.9337136112, 24994.7781953961, 54820.9740128368, 62955.6082934141, 52956.246077083095, 40366.2032377906, 60005.0101336092, 37598.3850844204, 61323.0009027757, 21243.9323007129, 62111.4344149828, 56524.8788148165, 51718.136963900186, 43205.6317501701, 26934.197444934398, 68966.82256367059, 31527.3472038098, 46839.061093050994, 32151.296855881803, 40831.801916938304, 30868.8048203476, 62988.8264276087, 65496.7674799263, 63032.6262721792, 27287.0745440014, 44299.3717431091, 44091.3492278196, 26617.0303151011, 21856.2335288152, 28072.604355402294, 35950.4884504713, 28982.1123634465, 51790.726445615306, 65000.8196174167, 29761.046012863506, 23081.4507394098, 60016.7409912683, 54619.1553631797, 66274.2081028409, 49380.658629816, 46283.0674648285, 25554.698524065298, 36680.1819228567, 30383.6763300933, 67730.44369649139, 36446.7241382226, 33648.7389914691, 53852.799539454296, 61298.218665178894, 69465.7469564117, 39102.041714359104, 29366.582334041603, 67949.73806710911, 29468.859178014103, 56839.401896577314, 38277.9368711635, 49664.270719513304, 49972.0108276233, 27356.800953857597, 36840.603656601204, 51438.814068678796, 40614.7220451385, 56738.63732256, 68004.6862154268, 44458.6372864433, 66801.197505556, 48991.853678599015, 69430.936621502, 27989.111100323506, 67675.80477055161, 47985.7224668376, 43388.209473341696, 63182.455666828886, 20568.891305010802, 25833.7172260508, 23087.3014009558, 36124.717833008595, 57330.619408749, 47240.2531234547, 55730.6292280555, 61660.40131822231, 49746.8874370679, 23973.6875914969, 28085.479598957998, 33585.4747379199, 44179.3851018883, 56025.41972650219, 49369.7041459382, 26889.3647403456, 30873.217636253707, 30608.943237457403, 54878.0896514654, 32423.8068470731, 46608.3690221421, 65689.1897018068, 49054.860270116515, 20310.5775569566, 66423.3993319795, 45783.154752571114, 62887.76266621429, 51088.2107820362, 66217.9448455572, 62799.7506107204, 45789.4875248894, 59727.4059941992, 35513.5895474814, 29178.977587726, 67501.69224571441, 66255.02952840179, 63558.8640859351, 63441.7123557068, 64983.1542442553, 56946.64593786, 52349.8724610545, 31473.458784166694, 59267.339196521796, 66809.1732473113, 48083.311545196906, 20629.3472950347, 25363.331059925298, 28873.674168717094, 41430.8552560396, 53612.1312342584, 51555.7402558625, 46564.3788967282, 61200.4274781793, 29307.3207652196, 67687.1830760501, 52565.065741073304, 52920.148014091, 34981.3678348437, 65210.837095510185, 60016.079612541915, 23066.964680328998, 52603.878644295, 20111.3632577471, 32759.7002778202, 30578.020161483397, 21211.5893885493, 53746.3265750557, 45214.109220542, 58465.0496998802, 54422.9734851979, 62842.0643904246, 53005.132293328614, 40749.028178397595, 49804.4108320028, 37277.2461199202, 46883.2065397874, 31763.3691988885, 61013.1815820932, 41285.358897876, 39133.891863748395, 62171.8025580049, 53638.6459530331, 49264.584893826395, 63114.49698871, 58165.506219957, 43029.8032634892, 21593.6226584017, 49104.7682403587, 65776.2324134819, 36192.1494523995, 62165.8611856401, 50793.35571965201, 62422.2037894651, 63166.99495539071, 23717.567853163906, 66797.6646730676, 30272.203618660602, 55741.1956880242, 30742.5797148608, 20491.564325057, 35620.4186263494, 50206.13371627409, 67935.45387219639, 59223.3966034837, 32657.2686829604, 55931.6545771435, 23694.7788670659, 44324.28636820991, 34735.4917484336, 67064.3447362818, 42761.492675636, 49517.7223277278, 54372.1826560795, 29941.9683683664, 68414.1207765788, 23891.244565602403, 47187.571546528496, 39819.920940790296, 50632.2792428546, 39970.2112469822, 55176.139604300304, 50533.571948763, 52983.874459750994, 31187.6699258573, 34909.9822272547, 53810.847660060994, 55478.9673699997, 60394.094865769104, 36845.7386782393, 60264.9406460114, 52981.50859773161, 50222.7624226362, 59256.555959582314, 43203.414224553904, 46288.7564138509, 58176.154927350595, 25631.4347311854, 58977.9976452701, 25048.015993088506, 33436.4890051074, 23787.3670458794, 69456.5677712671, 65447.6116108708, 68743.3531787246, 36052.5775980204, 24820.7924701273, 26046.384165529198, 60850.8024411276, 69929.01099612941, 53298.496145289406, 48818.3823227882, 38042.0841556042, 42119.8227140121, 62247.879737988085, 62252.088163513705, 36973.0856898241, 54217.2367847525, 44218.7663214281, 33274.0502711385, 54656.5490355715, 67593.5170776211, 39472.7072492242, 30572.446859441694, 50447.699630167306, 49198.6526572146, 53768.2282086462, 52809.54628717151, 38011.7266485468, 58910.2917746641, 57914.7310741246, 39494.766916614, 45918.875250499696, 55649.055882822686, 27136.6288000718, 62724.6361155994, 32921.8485788442, 28482.6495498419, 44170.221737586, 60664.3716036342, 64501.930428668886, 28237.5173922628, 67420.59544660151, 55642.9933919571, 56086.0580927692, 57676.739180460594, 62535.6328487396, 60686.7685727775, 25032.300937455097, 22228.3452912234, 41435.1537520997, 43955.4094034247, 60063.693094998605, 34635.7447491027, 63944.3237264641, 35403.427334968, 53654.079365078396, 23508.2307294942, 61869.466030038886, 20674.897083081298, 22127.9241074808, 27408.729614689903, 60720.7960961387, 34760.0193158723, 23057.3639203794, 42380.995063576804, 37887.5493933447, 39988.740736153, 25026.505643036202, 43588.0814259872, 20897.4266937003, 24904.6246684156, 66068.6350357719, 36126.231092493996, 23626.726788934302, 30200.243256986094, 65569.7852419689, 20617.261009756498, 25817.4546225928, 21448.8279935904, 69370.17763732, 34145.7995516248, 52651.25686302781, 40069.3383812904, 39246.544886846095, 56233.7895436212, 49264.268325641795, 30451.6361607239, 28726.996299810697, 20113.2534933276, 43434.7754274495, 59208.716084249296, 69310.9572678804, 60567.4244393595, 22048.8950423896, 66733.7102512829, 22209.0095095336, 49032.6624060981, 26558.361055795096, 49255.457967519804, 30218.1512280367, 56317.082820460186, 53825.43057668951, 34927.9936100356, 53287.385024596, 32032.5567433611, 48405.726805795, 46132.9140514135, 29049.071487970697, 68550.6878583692, 47474.81960104781, 50021.65540819991, 64089.1319070943, 28451.7055656761, 58132.4712652713, 30961.166140623398, 64162.649614736394, 67470.11702274901, 68263.7662440538, 42889.3341613002, 20155.792362056698, 58178.614573553205, 45735.4556932114, 30037.203133106206, 64392.5122148357, 26291.375798173198, 36008.3809983917, 54953.9796588942, 28753.325487487004, 41993.9843169414, 56696.458596270495, 51906.0461595654, 30939.3933787942, 38520.7239701413, 33489.0398592688, 52836.0064304434, 51733.287509996386, 41273.771498818, 68223.6843090504, 28222.8789106011, 21921.3610794395, 38852.933018933996, 59621.3676431216, 41377.745596692, 54405.624971259414, 60103.0115666799, 67528.6542088725, 61156.937379855706, 42955.6945967488, 46923.0467732996, 24951.257491484303, 26267.5294233486, 64603.9208793081, 34667.0204005204, 66008.3970683627, 45840.2076200582, 32188.016239088, 50289.664748124815, 36837.5308508985, 28852.0338060334, 68127.1668104455, 41349.1225149482, 69132.4625792913, 38477.3255954497, 68291.1536470056, 58074.6065406129, 26867.1082612127, 32348.450149875098, 31044.3917568773, 29279.7497869469, 35145.100187510296, 44405.280663631915, 42059.6369006671, 28612.203062512002, 46546.7045479454, 22832.3239297606, 21565.921539440802, 26078.2135813497, 60503.547852858894, 31233.307758811894, 34505.800930783196, 35485.1182713173, 45986.3534010947, 43308.1789803691, 53284.1196795925, 68398.2874779031, 64743.7070659362, 68412.6098453999, 59695.1071452349, 32406.5707321279, 33184.1959781013, 47688.2505742833, 42591.5952352807, 34051.5280421823, 61800.0343837775, 45360.716274008206, 20252.123456448302, 30134.7096031532, 56217.326496262096, 31722.7309499867, 60178.4461922944, 51144.2430480383, 22449.077391065697, 44932.875111699104, 40929.4839412905, 31092.2677209601, 44743.551632855095, 60770.229022018604, 43528.4843132831, 25008.9495256543, 47433.4154208191, 50064.346373546905, 60348.413563333495, 67471.1271002889, 30492.875671479902, 25640.0788831525, 55040.758165996514, 34476.7063786276, 23345.8664547652, 24426.029871683597, 65849.8896681704, 60454.5256518759, 22680.318430066094, 44471.873731818094, 46572.320004925095, 24369.8412482627, 56830.2728631534, 46942.9965177551, 42521.7907107435, 63188.328528776794, 29410.1775204763, 46668.628468178205, 62693.26957874, 65307.1274794638, 59589.0642888844, 41019.5487947203, 48058.871382381796, 50208.5300209001, 62526.88792767, 48192.185610532804, 30884.0567292646, 36965.7424790785, 43536.0389109701, 69181.6640598699, 64233.040697872595, 52593.5150613077, 32282.251752913, 54077.843278646505, 51595.3574841842, 23097.376483492597, 27407.056202646294, 64395.29806841161, 60432.2166577913, 42990.9828281961, 41581.8899217993, 53289.0652935021, 22372.5052364171, 57119.7396889329, 31112.059419974703, 68936.32135353981, 20436.3312851638, 20583.6121737957, 58988.305802922696, 45311.831838917, 60856.830985285305, 45818.2832505554, 20904.5554790646, 49908.2918674685, 55988.295276183606, 62125.258105807, 48822.7209588513, 29976.8290994689, 41944.268187508, 36970.3604420647, 39992.7191133611, 42450.5430436693, 42146.93762362, 52841.5164374746, 66418.9563062973, 44047.666555270596, 24821.214126422998, 35583.6185440421, 25289.6072389558, 39770.128664095, 59511.1387013458, 51211.6540386342, 56530.4972743616, 42604.4629816897, 66642.0077485964, 35527.8344871476, 66896.7653112486, 51980.359542649196, 40081.4205571078, 50167.67174704, 39545.9595881402, 43372.3976067267, 33084.1698497534, 53187.9796460271, 48290.880459826396, 66078.76935042441, 51547.166663222, 39393.140578176804, 69592.0108282007, 54588.5011949576, 44964.0105990693, 46081.6455469467, 45564.015354029805, 62657.60254347701, 67921.63211386651, 59514.012378640495, 48422.5361072458, 22001.3174507767, 52529.6987663023, 24061.463160906, 23450.872132089, 32866.578239481896, 30958.9079627767, 27550.8952722885, 36024.9378881417, 46801.27428611741, 27082.718983292598, 65435.0353800692, 59295.7410775125, 45435.2672374807, 61742.6095809788, 31396.8660123646, 35916.7041536421, 43969.6041564457, 60624.8153652996, 69939.3296777271, 69755.3201625124, 69478.3987640403, 34192.1605216339, 57457.85794453701, 63910.3346550837, 26643.808993976603, 23985.075419768706, 63660.648807417594, 44102.330091409414, 29409.8058994859, 49294.65931374581, 39553.6473765969, 68583.0410500057, 31060.6062575243, 29190.324624069, 63437.70014820621, 35243.0632268079, 36475.3535296768, 63271.6088253073, 45540.325522888495, 68565.3855022974, 20063.0995840766, 44222.2622036934, 67839.2444550991, 54009.6922824159, 52234.0753511526, 28423.1314714998, 52623.4375941567, 25636.3335694186, 60842.941158916794, 36727.745998650804, 63830.7474367321, 43108.414560556404, 25285.261129029102, 57646.2429063395, 51027.5676078163, 37389.7723783739, 65017.5934936851, 20595.934584271203, 56445.473914500304, 60864.3217524514, 51231.01042583581, 41103.1369166449, 56267.0508213341, 20774.8458185233, 46424.2212288082, 29909.554000478198, 62808.5050662048, 41243.8051356003, 46089.14788579569, 69191.2333760411, 60846.6650056653, 66558.9343686588, 27428.281870670602, 60912.798955105194, 28127.5094533339, 64029.5434789732, 61836.7356178351, 37005.0718472339, 56003.57340183111, 58038.926245644696, 29237.2562037781, 33265.7905458473, 66236.9271554053, 41978.7125010043, 63453.223130200095, 24985.590663272906, 53593.113196548096, 54179.721865802996, 20126.4137681574, 51180.839706212304, 36455.7015057653, 39188.9452864416, 47852.92690387, 20014.4894700497, 28630.009507760402, 66688.91312321651, 53226.194407325194, 35609.4783451408, 64065.682857763, 54935.65837852661, 67800.5813318305, 46893.336710054406, 54648.9669755101, 31410.5072920211, 36989.5895407535, 33198.1282844208, 47704.38082516191, 30569.5727048442, 61398.687066975996, 67750.8259937167, 47637.8620299511, 38357.5175236911, 43156.3052744605, 41101.5429464169, 59475.4971843213, 40708.9194096625, 30391.473304480296, 46024.1445619613, 66529.4852154329, 68115.9803341143, 38423.0842860416, 33227.2801827639, 61674.4572343305, 26931.0682476498, 60040.9938418306, 26181.242410093506, 61552.2175142542, 29705.074725206894, 53934.8122710362, 23007.3878820986, 48552.843409124805, 66370.88875751941, 49140.2698610909, 39684.9817992188, 32025.4044537432, 55568.1794579141, 45898.513523861795, 39217.909919098, 34070.603996515296, 66768.361213617, 31400.8584292606, 49335.7572634704, 51774.0525119007, 43064.6473472007, 41226.1346750893, 43044.5177759975, 33546.2920414284, 69209.3308712356, 32291.5445477702, 66274.0728980862, 34102.7912031859, 21144.5628711954, 41049.9745910056, 36351.2777304277, 63144.4592075422, 32086.9135367684, 28873.167319688906, 65359.296153765186, 49064.2884676345, 23763.0605627783, 51845.9425587207, 67035.32642452049, 49240.762500558, 36132.3275882751, 67006.8064867519, 39453.6456139758, 52205.607055220804, 46319.416798651204, 29398.7274216488, 31135.607713367797, 65603.8167583756, 41362.5083677471, 60302.558999974295, 54468.27920852231, 47683.715778403, 38160.1164978929, 22925.8120805025, 64087.85881241781, 65824.5156565681, 53451.931539457306, 36455.4847055115, 39573.3414380811, 41052.365784999, 37895.1817331836, 44827.233771793486, 28341.086772270497, 56887.2027960606, 25146.5956843458, 54739.16451912369, 30497.204505372796, 25358.897941187002, 29993.5633013956, 64675.779482349804, 56256.038874853395, 31702.3342987522, 34113.113284111, 44666.0128468648, 39421.366835012996, 21683.1937246025, 65697.592839133, 68657.7893025242, 66981.4129988663, 45971.133494749694, 42965.9927543253, 50895.8103414625, 46175.0319390558, 44984.89911668, 66941.86486303809, 31022.1448470838, 46583.1995988265, 56201.841430738605, 31587.0648645796, 40716.1908852868, 64966.0656391643, 68503.2058903016, 33867.5022637472, 54195.015172008396, 50565.3370916843, 57216.1010163836, 29849.967143964, 29072.15179177, 29775.1422203146, 46672.7131442167, 66393.71115481481, 29338.256448973, 67289.5856830291, 45980.3343447857, 34163.6256477796, 52216.815801803, 62313.2776282728, 49205.6370992213, 65688.7315027416, 43489.8284543306, 40966.6745271534, 37261.4471171983, 58775.4038907588, 39395.8304123953, 21144.162146374598, 33126.1327187531, 30931.5060195513, 31936.9420106523, 38157.029675785496, 21032.8186908737, 50238.5324728675, 67346.6624622233, 33261.6460206918, 53113.03609516469, 42749.9903179705, 42108.1999246962, 61344.5322075859, 54738.6822919361, 69695.1504494064, 62507.3547754437, 61922.7746431716, 58023.7237666734, 27010.8837680891, 21194.6161743253, 68338.0974037573, 67772.7936813608, 67131.8026888184, 33159.2172780074, 66087.0884708129, 60362.344274762996, 54609.46518462151, 63637.281830888205, 40918.5702959076, 51486.1303195357, 44896.2564859539, 24877.6844050735, 52263.355504255705, 42775.5255065858, 67064.0136743896, 50307.944677770094, 37432.680958882, 30084.15883407, 61427.4146431126, 54718.852792866506, 47923.5755093396, 22880.727604497202, 46118.5501003638, 35082.3856936768, 38387.322279159, 57413.572240620895, 28198.0973365717, 50117.8570371121, 34876.332925632596, 64126.4916793443, 41916.692680679305, 50052.292929031, 39158.9175141416, 62219.037539325705, 67151.3186115772, 46166.16312880071, 23881.7865075544, 48445.1131243259, 32441.6520120576, 33820.186513476096, 61812.90135020389, 25347.5726628676, 33965.5237086117, 23641.702677123198, 50660.9042454511, 44037.2439846396, 51657.1239614859, 46573.244377505, 26922.462221700698, 48414.2515389249, 43974.840529263, 65913.8320060447, 64715.9989736974, 25481.9879122078, 54170.5326107331, 51653.7047387101, 66054.5062320307, 60019.447135273396, 31523.9528589882, 65660.9485438094, 61893.4836401604, 49230.0982051529, 38337.8294692375, 64016.4333907887, 46308.64515667781, 66209.1442663223, 47770.711423363486, 29856.486320495602, 21451.4972921461, 59673.17044734951, 47481.4296397381, 36219.7729106992, 59458.704343996906, 67010.8409761451, 58693.419424817, 43041.0413932987, 31920.412722975, 32771.1254055612, 55487.147129606514, 68406.8071702495, 37277.1230572835, 39762.5265805982, 41674.2431395687, 25789.742025081094, 24575.0598888844, 58082.360103726394, 67881.8804956973, 50115.054897032685, 40443.2036262006, 65824.83738195151, 51199.8698394746, 67032.2894630954, 42205.6829021312, 37730.3621079773, 47398.3110440895, 48933.209693059296, 53078.8558349013, 53236.992999445596, 58121.954689268, 57261.15139434111, 52102.5909041055, 45165.9259549342, 58809.2924724333, 36598.340473137796, 62096.28261160111, 68114.0709831379, 67978.4668539651, 26615.5242966488, 51254.370009992315, 34428.9726391435, 60974.58714386449, 63330.7345490903, 58168.474065605595, 59579.6092110686, 52219.89549929281, 28700.872585177403, 27193.743053357997, 67417.5709998235, 57341.4327739738, 64056.536117568605, 66370.6935057417, 45045.431649777995, 58609.131483826786, 53289.0679710545, 60309.3288303353, 45139.4863938913, 22815.640612971, 45215.0146872737, 40568.075182382, 43721.2518113665, 38129.754869733, 22547.961636446402, 57468.0594424717, 25534.6735171042, 26325.503392145, 65913.8308418915, 67119.1359567456, 62020.468134432995, 37965.8493376337, 62114.856024272696, 36871.061758138196, 65030.909345950895, 23193.6045968905, 59568.6243195087, 50527.5841732509, 60776.110207662, 61632.2827106342, 45930.4526494816, 25857.7655931003, 55093.92122505231, 42301.3344802894, 51903.5342545249, 64398.146157618605, 41089.5108291879, 36727.5508982129, 38163.394543808, 35949.8964087106, 44979.802186135195, 48211.5818350576, 28267.0899457298, 33816.223340109, 33078.995980322405, 36019.8171972297, 34238.5302926414, 62064.5206817426, 44867.61524342, 37162.8882177174, 65680.9480208904, 58772.8574802168, 32435.2481099777, 58028.2131955028, 60595.275326632, 36565.8038924448, 20742.6969707012, 46666.6380106471, 32203.56693957, 36535.315394867204, 28163.2950692438, 39019.357743673, 24709.083249326803, 43052.968562115, 25003.916111309103, 46696.8926647678, 50112.4621997587, 43265.9003231674, 67802.6944561861, 55408.705950249, 67048.8930004649, 40262.597640976295, 46427.499181590996, 46911.197102163, 57359.552434645586, 34569.3046390079, 52797.4010375328, 56630.395264364815, 45245.7397524267, 20803.6145358346, 57717.606790829406, 20647.887645755, 59046.457153745, 62662.2588303871, 33614.4946096465, 48765.128867235, 57240.7569433562, 49973.6664630473, 41255.9396866709, 61129.7231563367, 48938.583435956396, 68648.2413951308, 41250.828541815295, 22415.654761716694, 24112.4993935227, 41692.60517694061, 23516.727697569902, 53812.2264831327, 29750.294801779102, 22633.676922414503, 28713.8305185363, 63321.909266524, 35276.5879873186, 35914.6093064919, 31568.144324701294, 39934.0674909763, 48614.8496787064, 29838.1248069927, 57745.3588764183, 44447.529297322, 51768.0053412914, 34891.1404423416, 45382.8078974038, 40719.4903166965, 55145.78500762581, 48752.4240789935, 55763.4274172597, 36431.1614120379, 40522.8282837197, 42465.6697479077, 38561.9440395385, 54957.449673675, 24822.069837246094, 25252.4877362885, 25671.742581762403, 60672.1455859952, 60729.9492391758, 40240.7275559381, 57513.8174626045, 64287.3976309784, 48428.033646196105, 55313.832247629805, 27045.3995722346, 58216.0719833337, 34722.9648311622, 58503.7710075267, 55299.7872396372, 49501.905920915306, 61765.7090350986, 48430.993668735, 66366.9574237429, 55320.7800071687, 48774.2881570011, 61679.9531551078, 61485.179599840194, 24402.4401693605, 21258.9027755894, 48763.6805442162, 24406.89381212, 61693.5863089748, 22748.033043462798, 21479.9467171542, 51286.6564025171, 27153.6639239639, 36370.493976865, 32400.5449586548, 60434.1644258238, 57303.479760885195, 42994.6822393686, 68339.807940647, 49292.3031374812, 57802.429695148, 50779.3807936832, 35993.9897595905, 21771.129341796, 61414.8012641817, 35784.6634858288, 24791.186703369, 49048.7573598512, 69852.0587221719, 21217.7474563941, 48031.067410484015, 64072.3132225685, 56689.4638980739, 45769.2595245317, 35020.4887730069, 56751.9285064191, 27363.631797488797, 48455.7174076326, 21424.0913325921, 69992.33271228151, 68110.2399528027, 48015.554742887594, 23102.2177892737, 46134.8541360348, 48547.961381264, 26095.0269107707, 64057.84478876741, 24454.1906216182, 40506.944006774596, 43421.0457419977, 55881.5417974256, 45917.6006889902, 52901.9095399417, 41183.8246555999, 25379.9154818989, 27514.0884728171, 44241.283000446914, 29076.3377142139, 60536.9128682651, 47881.9559956901, 49144.371056463606, 33707.801036071, 46442.28278659281, 25602.957250084703, 61236.396075692, 48187.347878702, 29933.2019337453, 41027.9073566198, 49990.6601081602, 59792.5085853785, 35879.519993905, 29102.221718057997, 30047.8194071911, 59299.162721727, 64484.0147974901, 36352.4222909473, 66034.75430049, 51650.2713714726, 31898.159910924704, 58780.233496800094, 67754.1046682745, 48500.2681543119, 55704.7981582582, 50458.9582025073, 48263.00342567269, 38755.1627052017, 68131.66429521519, 28991.423936095096, 35108.5579534993, 28858.5988734849, 22800.796774681694, 29572.9758962989, 21982.0173736662, 45576.8383620307, 55068.6689373106, 56441.016243770704, 68047.9253106751, 36275.735863018795, 52389.366847928606, 23678.3761112019, 37707.6429477893, 57753.5689622164, 30529.963287990497, 44022.268736735, 58533.884682692595, 33702.531834133, 40236.8720667437, 62619.1559876315, 50738.362192641915, 64466.76013758409, 64636.4021860063, 22371.522190515, 67994.9884698726, 49640.004702378086, 42067.246446386, 43662.0926880278, 34237.5754192472, 26300.4465540871, 30803.806164767597, 54421.4101554826, 24254.7007906251, 59221.0448742844, 69516.1275728606, 44311.44926231349, 43756.0566049069, 69436.57955154781]}, {\"axis\": {\"matches\": true}, \"label\": \"loan\", \"values\": [8106.53213128514, 6564.745017677379, 8020.9532963864685, 6103.642260140699, 8770.09923520439, 15.498598437827196, 5722.58198121271, 2971.00330971188, 4755.8252798016, 1409.23037111453, 4351.0289707232505, 9254.24453803174, 5893.26465933928, 4759.7875810455, 1850.36937703064, 3977.2874324738395, 3935.5444533423492, 3277.7375531263, 3157.442289970661, 4965.51606626419, 1148.11805715996, 4244.057136123401, 222.622298697307, 4959.92122589578, 5465.26788565462, 5361.28271628474, 9595.28628892989, 6376.82294883561, 2082.62593812344, 10871.1867897838, 6155.78467025544, 2862.0101387461, 4221.30315714475, 7271.5520324705785, 1728.4237547148, 341.146965986397, 2109.2007717368697, 4326.70507344396, 968.836382674606, 3489.84313638823, 7035.58910734261, 4167.78672391926, 4362.90581198044, 4227.0189863608, 5730.588251384711, 1185.2146998461901, 4892.209733649001, 1814.33508159906, 1788.97373591901, 1658.0702332123599, 6610.36617887751, 3344.38440143163, 1745.87167418898, 7158.13906028943, 267.696298601759, 5549.799127875761, 4364.9752805952, 3075.34572793243, 2393.0996785886, 5947.42172129888, 2129.59716481131, 2044.04704534067, 5151.07044539045, 1087.91936375134, 4076.58391416475, 4949.90233344449, 8.01207624713557, 5946.822296779958, 2692.1634585589, 4621.99774242203, 5992.885092439251, 5604.16999048292, 5898.0008931423, 3507.25216607221, 2119.98491147902, 1765.98333716344, 1922.6100223272501, 9226.90204089804, 7650.65520988095, 7388.02443997422, 7252.120003970849, 7893.55988850644, 5406.34492649729, 4211.30261071966, 4514.0097801128495, 7708.31562497011, 8066.69786524019, 1513.62419967009, 2378.7661730363297, 958.9798221228019, 7520.032053087841, 383.107569352407, 4391.981053651471, 754.601882142809, 1183.70456825763, 4217.166823074771, 1622.3173923260401, 4147.8885848744, 9601.375482171099, 6879.30600704276, 7292.264176862579, 2313.8250047973997, 2001.28151391029, 10601.082782855601, 12072.255757971201, 141.703817946414, 3928.3039085182704, 190.889274816911, 228.33538696889, 2109.2427976728, 165.506090118747, 106.09074717934999, 2796.75230312401, 2628.57792284269, 1379.91312425834, 2403.4782156904503, 804.092441476811, 56.16616438732, 1793.75025542512, 1627.0414050731, 3783.6011509907507, 7757.136788699259, 1429.4017623047, 178.333870986952, 3635.6005890215, 1494.9845683242902, 2295.81165641849, 552.398166405428, 7364.735577645109, 1034.7588383330901, 1810.9604596641598, 4255.2521372008505, 6056.81721377313, 4263.49303076889, 5519.09603957038, 4575.52763542752, 8176.70716548325, 3293.25087871026, 4654.249217083549, 5029.48878154619, 6525.21842259918, 4439.11615420807, 4189.83256804479, 5706.32532253577, 2898.7618238762293, 5094.6700842702, 4333.360862430611, 5792.906333268112, 6455.3917717800905, 5380.56059607515, 10868.2414720072, 2684.70067065167, 12701.603475, 3317.52987409072, 3157.9610817063103, 9881.97600620667, 1611.21659719418, 11423.936295348798, 12498.040454376298, 2913.7699313302696, 5514.11742142548, 406.720769305791, 6013.15287400369, 1215.65255980478, 5282.728560308379, 1411.13008049743, 4907.67408446776, 2390.8505965863, 2707.7609389629897, 2046.6850503447895, 1686.83590183974, 10711.700895547, 2056.75238228244, 1130.7352653068401, 5492.89368937988, 818.5084418876918, 1746.93655902557, 8088.568018568091, 1802.61699404161, 5836.56338145928, 5521.5074051112, 9589.83352507197, 6507.8501914892895, 382.24890411041497, 10396.6181477631, 9704.7824094498, 7274.32562822359, 135.931684494729, 5809.8990004484995, 6388.369826233511, 3827.8939146126, 3558.52726155765, 4452.330679191939, 6790.85026335851, 1148.22143592675, 6361.97343810153, 9841.080552709609, 2382.46677216556, 2751.08884293104, 395.000775087053, 10780.2718821749, 6110.57279243647, 1485.07993541129, 4350.01989674202, 1758.88186466259, 4115.4847193336, 10725.484727782801, 2278.55434854177, 2160.78490802133, 9290.575344923873, 2627.4054884209, 845.3663712741251, 858.511387999185, 3343.36716094004, 5255.78828313976, 6440.8614342257715, 415.240434973958, 11061.8118946308, 4844.1722236386995, 3834.0427822766997, 597.9440655279531, 1170.55633399312, 5894.04131672805, 1969.7941341928895, 2738.44049607766, 7531.10124850389, 3312.8776215380394, 4255.62639181993, 8402.415585756991, 7879.738136012421, 7724.57141377445, 1445.80218914379, 2365.28749039987, 6476.760852061379, 10326.0897733222, 7329.243163822592, 6040.77206183173, 8035.88317278016, 8055.305084123921, 3441.26141621257, 7382.056426137521, 778.732695554933, 5174.57056869183, 1870.9252528540694, 3400.91074388565, 1455.0476020381195, 5136.81930751016, 2749.08019063432, 5043.14863656084, 3286.2128815586602, 2453.3761214986803, 443.66653811321197, 1851.31156299008, 4341.00808194247, 4069.40264613646, 1064.68691788658, 7902.74296522359, 5630.741220984261, 6536.96636294544, 3871.688901934071, 1498.39091851883, 2003.65357036953, 617.538752197269, 868.1624732744141, 4910.54765823574, 8366.61426770219, 2321.20631423091, 2888.4447099632202, 490.742921135624, 4805.97154908401, 495.021199154345, 6054.24412635839, 1693.13737803293, 2828.30861825601, 8508.83539912434, 10657.1061233567, 1205.78601273801, 4098.11578954984, 3518.4526294613, 5851.4097886154, 1017.39615953411, 6525.15179253791, 7414.5528532260305, 8922.19971681344, 4816.77607411979, 3950.870172149721, 1879.05966237435, 1854.23961318048, 3646.9378597936798, 3595.50194172919, 554.4883448103379, 10433.4743453989, 9607.49884661811, 1448.07198358459, 3030.26724082269, 6339.85084448677, 2661.61251596017, 5649.452468489761, 2966.246125205, 761.422404184785, 4145.00358705858, 6739.85859849279, 1971.554219965, 3971.1554788077397, 56.9909740698165, 8831.18436544789, 5416.3577980789005, 567.6687734239409, 6472.34700724504, 4551.8768886076705, 4481.162212528449, 1922.6566258695495, 9447.117157424407, 2075.59611242181, 1507.89134084423, 1897.78082087204, 3674.741340143471, 5630.44497235335, 3601.29968528693, 186.828073932876, 99.4495914003405, 839.8390632084552, 5757.84899502697, 5090.39277440685, 7643.631046107171, 8755.6919767255, 4213.46525948758, 5953.45352370895, 5688.994849119102, 4588.472285879389, 4834.60379766491, 2427.65078779499, 1994.6211339084696, 6120.090021073979, 2116.53731014055, 8068.3197035124085, 4004.9888524873695, 590.598081194187, 9848.171448939893, 4536.85720940257, 6262.00794529651, 371.040895011703, 11928.5098562393, 6801.405892503281, 5619.21760364769, 7758.79982277807, 9875.03718259757, 5732.39903226614, 724.193188479234, 5659.509277874139, 5207.88311679924, 2395.1653496083604, 5947.64546828592, 7084.263509070559, 228.330803623653, 10021.0492234587, 3995.80729495872, 7189.3507350953405, 743.86714101317, 6183.514146370021, 2588.49026590007, 8743.509701223791, 1940.67404392486, 5312.49170624282, 4037.719603747871, 934.477133128546, 1072.1926587434698, 8120.25808991233, 839.8690240153252, 8361.7191002815, 5353.56165390711, 9332.70266633384, 4947.308727595901, 3545.72397128405, 10836.3830881501, 1826.51630229436, 5438.09369329612, 7879.67620843062, 7915.31344330937, 2350.89150808837, 6425.36536372003, 3132.1486918114397, 2563.96087298893, 7110.755833314191, 2928.98408763734, 2767.8372998142, 3162.133837351271, 750.0671069984869, 1756.0376249661401, 3946.89824562224, 607.909484188127, 457.19661720842697, 2104.38432287864, 3031.24632606192, 680.619696071219, 2299.4181716088, 4521.00431151248, 2836.98817845671, 1387.2488010579998, 2469.36442601101, 4592.245550450871, 1096.96707536899, 11540.045811650703, 1863.89100271298, 4641.7047845223715, 12307.5623225278, 2774.8327811003196, 4030.80369209214, 1671.18492391845, 2342.47292088101, 4953.77359939866, 3248.62771841795, 7363.03763852006, 3928.1218464785497, 2224.8841598973604, 5862.83302915672, 4929.87881849349, 3890.4710496590997, 1225.72022331307, 8196.93072552584, 3495.0698810157105, 7441.75961676144, 2084.37086090284, 6232.28039861045, 331.364308695631, 2368.3812306499804, 2366.17424012737, 10533.4551622879, 333.441398145797, 7005.0792919714, 1551.4202880312, 118.34214214338499, 3713.26268829211, 10282.9974457346, 1256.4011595099698, 5575.2536907666, 6637.770870559039, 2324.5477054729, 3257.0126292117493, 4317.71547822747, 10643.404179056999, 11146.0744599728, 168.054785283069, 3369.37702306496, 5272.53501398802, 3371.6643103609003, 890.93953525642, 11246.488154757, 5216.354091171161, 271.734468486729, 11617.7489093447, 949.9566246969208, 8866.527185298779, 5036.25528047363, 7896.2237660972805, 6153.93656383383, 3900.82960084791, 3052.576690614569, 2639.7101263171, 2550.26514748866, 2733.42055865967, 9754.15223893674, 2763.26395484522, 5855.18559413532, 6043.14310633161, 114.49996740621799, 927.0675938508432, 3254.74895032068, 2584.02203777874, 10255.1901115656, 749.145368410122, 871.530091132259, 5193.83819663771, 3603.3640781354297, 5564.163603137889, 1191.33213785363, 3589.25350629665, 2237.92776424099, 6152.00483311834, 3701.53760172254, 13172.6812981319, 8215.55838399949, 5544.654683502529, 665.577000121256, 5643.1798993289685, 2809.32218484219, 1415.71826260479, 4172.98823810663, 9698.582169129, 1723.3993728988098, 1902.26561035478, 6882.87341589713, 10156.1423121761, 4065.2187953051507, 3810.1318418453498, 8494.01643069754, 4659.53597585937, 5415.81741673557, 6388.85036020661, 2991.96735071436, 11047.684335060701, 4481.43686080601, 5602.16002178427, 843.74909202058, 3640.8488855601204, 3859.471822981629, 9255.43964893025, 5541.821255211639, 11159.7931652015, 4550.12285317107, 947.19963838056, 1227.10948383375, 2618.2430369954, 1428.43962505335, 10897.9054797653, 987.261536638484, 11207.4952297971, 4856.48345389872, 1378.90905711849, 9781.3267216691, 4961.25568000026, 2410.2774142149, 1857.4615780455701, 6870.83901013046, 6571.19702062939, 8107.26764489386, 2474.97715917028, 3562.30829594435, 540.617724673382, 3367.7019234673803, 5850.77069132097, 10649.0720502131, 7045.91920223369, 789.63336134554, 7676.310662575241, 8244.74889955889, 6471.62820239922, 4267.45190233138, 10486.7443460306, 3213.8981455284397, 2713.88507461967, 2739.71998955614, 3872.40246823472, 4733.50582969986, 3343.81635769923, 6519.437059856079, 1670.73789259357, 369.527739366732, 577.530782393529, 6494.184335662641, 1256.25353818891, 2889.8801946867493, 5030.82879986161, 10035.603020993001, 7896.356942317059, 3343.05627581805, 960.1372513581019, 5142.11083711624, 2198.1448889683497, 6513.1501245071495, 44.5272460985999, 10427.4705030759, 3064.718487716289, 3853.08804154651, 1077.8404003017, 6697.971583270711, 4269.13603478981, 2275.76342522213, 9351.00613114576, 8824.16474742706, 4462.82325767409, 3563.31978870471, 3141.3385363147, 8334.18200780114, 3951.18974682111, 3206.927665383431, 1165.49215757251, 521.5757013705901, 3492.3340219336305, 8892.963302602671, 5180.71186017515, 6077.680286835239, 4589.26726538164, 8474.98246363903, 161.237551122297, 10033.491680429, 3650.19635167761, 931.790074364881, 7168.70700152735, 10768.747838508101, 1115.15458691793, 1320.46244258164, 2468.17199888535, 1642.96947053086, 9183.84229457753, 2554.0443515729003, 5099.08745959981, 2761.8513804366607, 901.9277106596428, 7530.76763344307, 1093.67920279022, 3040.9813501286408, 6823.434442500439, 4622.27519842492, 1783.69732612708, 1251.8673663810198, 10108.7958488382, 5408.21212921339, 6019.83442285853, 5021.63968348642, 4360.05300945404, 9792.09153131215, 6145.131816878149, 3362.77448557159, 3353.6935708995093, 2716.6558194475, 5927.57467616725, 2929.85142379499, 2042.43646281071, 8525.231909003141, 8569.220572619399, 4606.156805288821, 5049.635508890789, 3276.13994797231, 1086.2461646268598, 4534.57597308744, 6463.64775060681, 4440.41961655389, 1833.58105081134, 2430.10161848915, 4928.60703383372, 784.5773121318381, 2663.05260942853, 7571.68231798672, 1016.1410075047, 1594.9726819505, 2290.43034182208, 1801.2281947163299, 6917.50843520967, 2289.85125057492, 4071.08303444266, 3614.26818549068, 2611.8480917835, 1365.95220859435, 2285.95653758834, 2963.7944322157, 12731.894637403, 2888.6337275749293, 2156.314406342, 10816.7590093935, 656.03318788707, 3216.094541183369, 2282.91102164954, 8619.74517744195, 4833.47746990896, 1639.22563884266, 10418.192976328299, 7170.946724121321, 8957.33054393952, 2921.2353791526807, 4980.01358501464, 7258.968491635759, 1368.69192225734, 4767.277191893541, 2234.44313665993, 694.1351678029422, 2699.85134586163, 139.31457194860002, 524.201092096584, 1741.1839190889002, 2907.95827229594, 3901.93798361853, 2161.08375159161, 6222.41527252187, 2911.40806707675, 3485.01802587388, 7602.61305507845, 4749.06867530672, 706.2289942236, 9342.47942698609, 5219.80402778761, 3133.6244473393394, 859.589294215437, 727.194664952067, 10284.606786439499, 5445.22266010925, 7335.96256840597, 2766.28091438528, 5443.27630749977, 9390.67226092499, 12129.0822259617, 1278.99950423557, 8134.220407851591, 7327.28357684415, 1012.9349929059199, 4362.083152375421, 500.59910564675596, 7880.68580712225, 2070.3793805860896, 1305.08243308288, 459.034688796151, 9921.67238715704, 8445.38534278682, 1526.3924759160502, 9857.229949587008, 2343.49755586202, 699.9557764042171, 7286.550390859979, 6808.86995498301, 9448.20972109913, 974.563067419013, 1469.12970417187, 7181.47855257926, 657.0484089194509, 9572.58688405588, 7572.567589234591, 4569.64791088147, 3441.64452422469, 3423.34617207901, 6579.534006664228, 5732.2401076494, 3948.14334405049, 7327.0702821016785, 923.028441324114, 1417.8465220016599, 5757.89047926275, 1494.21297427116, 1049.1754772678098, 5277.740419709729, 8523.90111590581, 5408.72776719187, 2089.73250000687, 6914.75153975136, 34.2851058172658, 3965.25197444964, 10641.4514434212, 6170.23911645177, 396.233677598603, 1446.46810321108, 7908.3318430222, 6095.308748994189, 2240.2774038697, 2529.6129690448497, 1858.30823957284, 2634.3585848472, 4337.82555851561, 528.181250121176, 6747.232379118979, 12176.782438093798, 7732.69639567081, 6994.48780081424, 4298.705027677411, 222.19643863902402, 1529.0188684850198, 6615.38785751688, 780.832856751006, 322.724155555729, 5104.74678854711, 9099.72433792209, 2956.97774567302, 5774.07427035938, 5042.326368067929, 2855.3791874510607, 8859.08746877633, 530.657824121697, 4770.937668011939, 2383.40775653766, 13041.7794518553, 1718.9437817568698, 4842.077960288339, 1129.5624120295, 3972.151405211429, 6928.943621162839, 4876.366908841, 4445.20317812007, 5272.80479170349, 8129.0489314653405, 6034.153227563571, 6800.2468059227795, 3737.2121871986296, 4367.26495019919, 403.4021353701329, 3791.02352838761, 2928.1004386496197, 8108.172683405841, 6868.98780501089, 6458.79058513878, 4513.20369417302, 2816.4301578897107, 1137.65789054619, 2385.2248369160293, 1169.8359246657699, 6978.52505744359, 3993.146866004861, 5268.22747487761, 4233.08958563064, 3090.47311929628, 2284.00567663756, 3213.5419628300897, 493.589997017378, 527.551568398424, 8253.38456880542, 2469.23458468339, 10990.5337530187, 2952.12315164984, 4923.81484576435, 3728.39703071966, 7482.06736878698, 719.946664588216, 1510.73550672394, 6105.7279291327, 3960.71087317317, 401.32673340017, 4184.57820320039, 1136.11727060881, 6993.0494414817795, 2522.05718465992, 6391.153194203222, 3644.30607009879, 1002.3405737625301, 10614.2484928222, 2461.97440578532, 4283.2269736806, 3582.151363963449, 5302.17994342883, 4091.56129167425, 3852.9924436463507, 9636.80473053473, 8124.598979910799, 5262.6160879974705, 6229.8360190473595, 3550.58488878171, 745.19474910364, 1459.66859888829, 10352.181768904, 2216.9753341908604, 2243.15399221322, 51.640260239487, 10070.9490549973, 207.543817763712, 959.097214811603, 7410.792024329541, 10677.6680182666, 3641.8084108437, 8699.94668231535, 3438.97927728268, 499.208578202042, 5296.94027257637, 1036.61680359844, 4835.27465661614, 4113.299166910279, 6690.63533769203, 2062.7191576926803, 1498.20031600578, 4601.94008647427, 6429.59368808933, 4618.39218432669, 6924.90156914655, 11805.55576878, 390.33586086627196, 4509.88142162832, 5154.909842680399, 1664.10492654064, 2727.24168062816, 1500.6537452812195, 1.37762959325451, 2664.92567484772, 1440.49916760651, 1281.0357291798, 1114.91482428033, 3748.25812413245, 257.661201491859, 1522.64676811391, 901.277776817105, 10257.918392293499, 5425.280945064939, 2166.1230995161, 4229.9143530557785, 4849.33378471958, 2153.60772508337, 8881.58363601412, 2927.67544441237, 1498.1612553260998, 2089.9094635253896, 9399.50460218589, 7983.705373244459, 4200.697505155999, 4049.2538652253706, 1790.3486165291395, 3703.95304740702, 9004.80171434867, 7405.8032096322595, 5571.456364476229, 763.9541158786079, 2983.58332216516, 6557.94033087167, 6898.78371916522, 2649.69535606017, 3210.80704797276, 2698.04778142586, 1456.23494449525, 288.64676925315604, 7453.26426764463, 2648.22045208716, 1770.81827895977, 4396.0768773955, 8801.61012677399, 7007.1542526718, 3493.22456741209, 2257.06478222562, 3716.2546852118, 423.418399504824, 6485.05748033896, 1058.0392021630498, 4286.3456144126785, 9286.357544938199, 1684.52656398846, 7354.129522959979, 95.46072237503591, 4431.280471397489, 3933.88301194765, 5888.3757812673, 4341.62669876515, 109.379622752269, 675.712031078049, 4076.8767501185, 2632.5518109756, 1504.4734617798401, 2961.95236821591, 1521.8684050770999, 255.07265595806598, 1102.24036140034, 1279.11309760756, 1066.21460111103, 7492.90982010653, 6849.48422314614, 9097.112036065173, 745.076094530662, 6752.58607130953, 4545.15745895782, 5203.32518145625, 6983.36074103902, 1664.3860619101804, 7589.759990371129, 7475.21228234162, 9282.92773534658, 3119.4126781587292, 9109.774341958058, 11175.8410699241, 5181.84850071794, 797.34597206237, 5085.311918671478, 1316.1871277160499, 9193.09526352272, 3310.41011772524, 3946.001447086121, 2224.46976521287, 5719.278115975721, 5976.89656826076, 9217.6886691734, 599.8303239514552, 406.85186115617205, 481.842697119885, 10506.3280331645, 372.974253343653, 9521.769942117133, 5502.73603087282, 12607.951664106298, 2857.0074135476398, 1933.35356770978, 2043.08955289918, 1745.3719220870996, 5211.32562979067, 3010.3502403137395, 931.781052200198, 9534.660206225592, 1779.72773531897, 11417.0600895208, 444.613776925989, 107.597231536379, 2539.33674893338, 6207.18616502598, 7235.19471689825, 6289.25607587104, 6342.56790924236, 3489.40412162135, 1791.54296221375, 532.100255807783, 433.458417926463, 1035.46249645863, 109.478853603893, 3051.57426672854, 11890.7571906353, 4155.72376708707, 6894.16538143413, 458.093724368234, 9452.2179473418, 2805.8637447174797, 7236.173930254241, 4739.94895405831, 421.640379591623, 2841.63342276648, 4058.78953380435, 1530.09024242426, 11921.199536959099, 1440.07254888392, 3181.78051934063, 5685.65364147975, 1579.1682486472598, 3611.29590336632, 5826.46289826698, 8267.32605257876, 3901.40208532883, 1796.27050255779, 4053.51993761002, 764.297190003271, 2672.69202602406, 1402.21785398327, 1091.6248164287802, 610.65784710333, 7337.95043106519, 839.1250811884869, 3170.045653648689, 6154.052456547579, 3475.9054232585304, 7933.4694490862, 3577.44768965771, 1262.35606612176, 7867.616835630941, 7822.936090935409, 117.712586947864, 5567.941087462329, 593.1247798263598, 2852.37179495901, 9154.47701536417, 6227.54177432686, 8293.576747493142, 1790.01356619936, 2241.3881435993108, 3759.93723425993, 8734.74061739229, 9812.97871741119, 7730.72757527023, 6053.79158149127, 9852.1411102884, 4778.7005428479715, 9442.011609849642, 2341.36785790557, 5473.98555060076, 3041.5529081567797, 13190.3658861707, 3269.5343268133893, 2290.20428885451, 2830.17986246731, 51.949242778070094, 4669.45735259152, 7206.852592751371, 12427.8357034718, 2106.70979061764, 2312.4217766474, 3495.85630614459, 1930.56653214215, 1870.71508930953, 1699.6809718387399, 4144.44814361402, 8836.775689365999, 1693.92017886189, 2244.8831092985997, 9911.134962918291, 9864.07802710305, 596.481179541814, 1847.09424972443, 2443.76891476886, 483.6201677208849, 3696.95324417008, 6276.8307367033385, 4625.19337762744, 3671.9230944370597, 6715.85790769023, 3544.156039399161, 1910.32953084278, 7660.34617051509, 2253.19025276782, 9255.13775534296, 2553.21277794851, 329.450042227758, 2168.75173497275, 5873.410979425699, 12147.3142194935, 2728.1899444629503, 3668.9947836488, 2841.69798234271, 3990.8507597519397, 10504.6681673838, 9490.26419041115, 10614.130949683, 680.9047821836081, 2187.21333714559, 3702.171427783379, 7833.47776141374, 6766.29418079942, 4859.2352866332, 12213.949339898401, 2929.3597040424293, 6587.77555584342, 4622.84106541178, 1040.4936732261099, 299.825137750899, 1777.82855129135, 2591.02894660536, 3278.1797272838207, 28.8825344418559, 2487.16518212314, 6832.68481654159, 5061.77783089573, 357.088124203472, 3845.74184934565, 6453.05797893021, 2940.4239697461103, 3376.90746524937, 5626.86933989185, 3805.8027214255, 2173.7676901031896, 4871.67757618979, 12494.2672598523, 2224.06813417899, 3682.861931412271, 1989.18297633362, 4605.91877302795, 4074.9525911100404, 6529.019522377729, 3646.05161791101, 919.1146400240359, 9642.09253829297, 801.779606017874, 475.4205917356549, 3675.83341454456, 2507.64970973955, 3672.10982821562, 11479.4378054928, 1590.32580358526, 571.9329349300431, 4199.0243561842, 5366.64079316339, 4096.783714405129, 1777.9531313067498, 22.327933177844, 4951.91577108814, 5914.5166623350415, 8045.44095322367, 431.45016120131004, 1957.0579294027696, 4432.66544443383, 4582.93827444975, 3766.6144347919103, 3216.4912546542305, 2562.69555387066, 3879.6726518436094, 5083.72827173068, 1054.26808471871, 6272.78844958014, 1042.8503755962402, 5491.03560172096, 162.79559613813998, 6938.012519684549, 12715.2947207366, 4124.33040419948, 6340.708854775439, 3489.95714756947, 10948.4994895604, 2944.5373541645, 1247.01279101851, 4513.24371213783, 1094.17752939053, 3709.3044307035298, 365.646185165774, 4990.3690908292, 6644.34421410885, 9686.63030666495, 10235.2726101919, 6115.82233293271, 4176.9499552691605, 3581.6550468118603, 5671.64432790405, 7906.14117885321, 3299.88507211045, 7364.001944720329, 613.240620104445, 1901.14392165499, 7513.18286435755, 7014.62270759084, 5324.04818485217, 6253.20667662182, 2632.26561303191, 7877.415131351679, 3250.00608359258, 2962.825186247949, 3107.8837824180296, 2544.35600305062, 59.469163350624704, 11264.6911597501, 2827.28940194175, 9189.61151437781, 5299.2397193039005, 4659.9533251724, 6127.38168790854, 1598.18356896296, 5705.98616300577, 12099.9702958367, 8083.23220068418, 7621.410218952421, 289.57658198580503, 9577.95514323174, 8551.25989324198, 1730.1519065694001, 3229.82006262472, 4465.872768882849, 2291.9881185651802, 510.739968904777, 3917.876098203879, 5310.271528649289, 4948.488069855121, 254.843578632033, 3318.4077865437102, 4136.76112621072, 3665.88089899456, 6766.53302048682, 1662.4536164880801, 2151.6965921599804, 2482.0422504401604, 7112.926157135659, 6777.19824623253, 849.545184282307, 8106.859292919659, 4304.92910889776, 551.84308108532, 8889.92840808923, 3394.65824024028, 4580.097830766021, 1377.01840698314, 4602.24584082719, 6224.15288632328, 9143.611708737571, 4569.99498661641, 3360.0594135198908, 958.998081921469, 2866.5858997554997, 2877.7561038956, 3203.61543829573, 3411.65642431526, 1187.4269503018, 622.912810540852, 2352.28711613826, 5617.993125845799, 2574.70775577185, 2242.8257603424104, 2264.72515178074, 2941.0281549276397, 9139.14371046925, 417.6331058416769, 3037.9681472571, 4448.41232274551, 4834.73864381419, 3105.4430213977307, 8352.061533316, 898.133906760723, 4548.11028864043, 823.8351619830188, 5051.30238814197, 7875.070925940841, 1743.7746848123404, 5883.6605578909985, 721.3416051022009, 1366.53602502689, 10462.740449564399, 2187.0654844887, 6745.81770760811, 3960.8556473890703, 812.3235343063901, 1833.48584968453, 5321.71255785555, 1906.7955301891895, 4191.7158557146, 3005.82686432775, 6527.99022211544, 729.6044302940428, 5835.54239114684, 5026.47455722886, 4099.90204534619, 6333.39158836421, 6427.726092600339, 1173.7409424047, 12104.534207988501, 811.907862473912, 3345.9419579997602, 7149.066896488222, 385.40336251160005, 4517.5798007499, 2949.93167350781, 10054.634638852, 6300.8689387081395, 4665.58102065705, 7895.112865175709, 8047.14075406577, 1118.92606413711, 10211.7219327373, 424.352131596398, 11073.1585048799, 2356.18197012062, 53.1862073427052, 4728.25954236021, 3103.8122277069, 10238.4962972866, 8137.1644030735, 2606.0237760494, 2903.03612840759, 7745.75480897024, 5700.45719520566, 599.347887026431, 3796.03274043959, 1203.70052925741, 1268.5063826011901, 4999.2020148962, 6210.280586951011, 7367.25824696371, 5957.3863235362915, 9340.54446223252, 2096.9175014220605, 874.324255506621, 27.252482247280398, 2130.79353472588, 280.878547416661, 2520.51445210598, 4093.360006036261, 5957.993317069289, 7942.16814459979, 4958.067775507941, 325.119591532296, 387.394420295952, 6243.04502975119, 770.7775495685298, 5592.65180728153, 5787.6580446965, 474.525326666737, 5762.46995805143, 4879.84613933048, 4902.97522079205, 3664.621451502751, 6563.41157975832, 5415.05466726812, 13025.0565706657, 2847.8191727088, 693.2147137703862, 1487.7860414097595, 715.836604414868, 5771.08825374589, 1399.8754718255402, 2504.7226488011997, 3520.565900944529, 2155.8121729811, 9808.190939503142, 3980.57878313095, 1419.80552276132, 6037.007732557621, 1558.9307648094, 3944.2193177008803, 4155.44929016665, 5315.97382040511, 4990.55712316988, 12727.9975513072, 493.714429947331, 2143.38697161442, 326.98956762450297, 3719.23013486841, 6401.18948620131, 7455.92015661369, 6740.71613617934, 2225.2245333151, 13766.051239333701, 10229.4078769501, 5233.66322803221, 3608.80520160367, 8986.718948176229, 1413.7832242580896, 2284.20912920209, 7832.57241133557, 842.569077270774, 3388.56092327455, 4574.85478041434, 7063.8980358062, 2922.2886852381, 3729.9746499427, 5239.59477294428, 11963.364215854399, 748.9407178924, 413.311163077388, 11298.172191103702, 1490.47025130926, 1231.5373682641, 2495.13299137587, 7443.48670694591, 5609.326602439561, 884.735504669608, 9255.842933769847, 5282.8491817832, 1156.31970334277, 1239.6882584746902, 6608.96879522724, 7287.540764449741, 5271.62698185449, 647.879378621526, 1027.57779209235, 1452.4933777984195, 3313.3004103866497, 7365.93891557773, 1017.16654456031, 1330.0676379117501, 6875.57968295662, 3704.032126276261, 813.0279886810208, 3644.301903482829, 8238.11502092605, 1347.33161169418, 4087.1807070511104, 4495.27875332798, 6465.750589588941, 4161.57314849677, 1618.21835749227, 6270.5740351263, 8974.49202107934, 3090.99245474831, 1287.6320807617, 3870.33389343645, 3279.55782415037, 1644.33917692447, 10971.9746358776, 1068.8873978829902, 3639.90003844081, 538.230522684501, 23.916427866718895, 5968.4420381087, 2756.97230030986, 1603.92486156568, 10668.3635123802, 2017.13994839746, 1428.18921413846, 10028.0158575977, 1432.3558619028302, 2875.44522980166, 3437.0768952533504, 3545.1622485755493, 3295.3200609455102, 2426.30622270591, 4406.99505612761, 9690.30879814676, 5686.64311580018, 2574.09343236607, 771.71749424679, 7921.83050973712, 5035.13937788411, 9131.86441883589, 10674.7702051663, 5797.292398100711, 556.55594070128, 4285.38691174949, 2717.0794847261104, 4752.5575717228, 9008.154521284408, 6855.986311283559, 6708.67359111538, 2548.41391592928, 2413.01190680546, 5240.114373477421, 2628.2621240183803, 5532.3438431879, 2072.63406602468, 4318.37772179352, 6337.6749385873, 7458.559482000691, 3676.56835427872, 6470.410380719821, 4054.551771062321, 3668.6467729337, 2659.69454058204, 2618.9734974882103, 4042.53973374386, 1912.20509104439, 2085.81763906667, 2296.79532725441, 5650.88968761866, 5176.36116095836, 8832.65170692964, 2590.92817525105, 217.48852796721002, 6114.867545566911, 5617.1786453455115, 864.624052947255, 1401.6850611281195, 4255.36763560122, 4464.40426807541, 2549.62047351317, 1508.76177567629, 787.047189746112, 2155.66005854711, 1661.71345972499, 5347.29550689902, 6284.83357255315, 277.387568479942, 11576.542236597901, 1269.25457474922, 703.363922990578, 5890.11364359475, 6619.83268303124, 812.572549581062, 6362.39035410808, 992.5777176640448, 7707.240563210759, 5636.353440223261, 2950.31486311935, 8750.83208800708, 11276.6225405751, 8004.35984024104, 3009.39733978784, 3692.1691720194, 436.935246909842, 1135.1522255492, 1523.07205829741, 4673.766197510329, 2457.9136896619, 11775.3545787462, 607.9656119507911, 6509.698608005079, 68.6254562680885, 4752.28787681676, 3429.9015786975897, 2547.27974185242, 722.519589232964, 2643.10643205609, 10529.7234876203, 2464.16232121798, 5785.88427485782, 4652.95174811759, 6071.34020471132, 2639.91684550513, 2248.24291357626, 10969.5966863322, 2890.65279259851, 7218.968224057918, 4573.59408976341, 2220.22559978896, 2749.5856968328803, 4628.60300266554, 5452.24453174869, 3587.7223890690298, 6360.15489740922, 7548.44437291303, 6111.9610170922315, 339.592268926788, 5644.653158554979, 2427.94988726108, 6678.56280037054, 4776.49048616368, 8109.05140901618, 5556.83987007072, 1064.0818754243699, 4584.611815906, 12380.624706792, 6144.939435945948, 6241.27050834808, 8346.32092177162, 2677.8257134135, 2389.7007594319502, 11495.731101963702, 3580.46367722387, 5714.026373679871, 6649.801458944879, 693.196416870457, 3554.3893651037897, 3678.89967602364, 1589.43843220617, 3327.23623483166, 1408.49771708358, 9540.41662588762, 5120.40679717739, 13376.7977060636, 5929.09802983651, 6617.40017195646, 6803.33339273416, 925.795592135596, 3393.85658908614, 3673.8704148985707, 6501.041225662329, 2393.52414875071, 2075.5198219004, 5673.599822075799, 7557.8733378587, 987.7941458290892, 4169.992872455129, 1074.78790405487, 4087.995047695369, 5628.01200410865, 4024.0893667788896, 2567.61515437351, 6752.12245843297, 586.6510961630651, 10080.5243838632, 4626.53863737325, 1020.97816418314, 7172.65433235279, 6210.728279474511, 8418.25315995041, 6590.777229734052, 1933.08292037314, 2785.7795625491303, 2373.17525529916, 1102.84809429723, 12840.6967096981, 5037.9338614917, 2271.4045367837107, 2135.5321373166007, 11039.288718792099, 10306.705364572199, 5618.20456988315, 9955.225361701909, 3813.6992679593104, 3955.11335056197, 3787.63914107534, 1546.42288551626, 10161.9466747561, 6145.98775686718, 8945.28946874109, 7207.9411733377, 4445.5023854010215, 737.253724397632, 2163.31248732975, 2883.28410681555, 6931.716435305071, 1909.21513932129, 2728.31148575531, 2918.47772058734, 6453.507839377479, 9421.29841256448, 4370.79361949515, 3599.0688208868105, 3102.34705911763, 4956.94156453161, 6106.10958603407, 5589.328271244829, 6887.738420899979, 5831.52142854804, 3941.69867338911, 901.7531176543961, 1190.63010538961, 8733.44221481746, 840.714206590161, 4342.17811096838, 3124.31240923735, 2188.50308566908, 3123.89873794984, 4203.50355956808, 7511.0034944948, 5269.518402890621, 609.350885818378, 5533.29218872027, 3950.0007899560496, 2105.7095047383104, 8371.493105428, 12972.418362774399, 11173.808451968203, 4005.81614803106, 1048.93237153118, 1853.41915551256, 10321.0987007481, 6978.34712803046, 5697.0214691969295, 93.1526418784096, 6038.16266197042, 8375.729867077429, 5691.09348958924, 10048.3942099748, 6815.48514146401, 7134.65611853662, 5366.868792741489, 4731.81686363074, 1719.03804390983, 7533.679838739879, 9402.87611781971, 4280.79419881294, 1513.3276370025305, 11646.910605904099, 4033.15351918701, 2245.50527811304, 217.18796207658002, 1853.68197037988, 178.692471563294, 2491.46086135764, 4242.64064753559, 3809.3471551494613, 3203.2046561695597, 4442.3317798669705, 1667.7487671760098, 9175.66731776003, 10503.5712534477, 3447.00215249966, 1857.25232688308, 154.945616250235, 4064.8180932401892, 5487.8202658108285, 2444.73719560844, 5273.55935226625, 9041.87883545742, 5071.3718912882205, 10566.3538692233, 703.602197848316, 5161.1074086113595, 2527.7559225466603, 8799.819841916751, 5534.5507976726, 5470.58784591839, 6849.2948103027, 8034.74777409028, 4325.09926791081, 7382.502551328309, 3458.19361435323, 8747.20862916447, 6016.61509078929, 6165.65881962793, 5170.89985156585, 2935.36765668552, 2319.36285651329, 6560.469542035439, 5090.31049085575, 4518.8583509090395, 6478.40253245573, 784.894856825166, 5982.80503901825, 5906.034308674261, 8489.40598539328, 4270.5329956158, 7395.513416308141, 2343.07383332144, 1743.69146395254, 2749.0798436118102, 383.8501673264991, 5990.3186079527695, 5923.392464496321, 3964.7292778685996, 2957.295712230089, 8452.955623884442, 1084.96694239575, 3336.13147168388, 11738.9157053453, 2725.2403131963197, 114.20988809934299, 299.054705855901, 12115.892310922, 792.71105443821, 2231.97616645921, 548.596116253349, 7685.3267435919, 5639.24568873359, 10382.439679089, 3028.5913283043797, 7765.25282732809, 1810.23233886952, 6485.3015902704, 1480.61489018621, 8807.867970998092, 1674.90563293026, 997.184168539689, 794.5568182373869, 454.30767679965993, 3680.17702845819, 6045.0894869837, 2606.12469797143, 965.3732272185181, 5265.743252438289, 6278.31627900097, 2987.96212327688, 6002.935110435239, 2972.38102277662, 366.101104406139, 3110.53114737451, 8838.23130454766, 7048.0053433926705, 5685.405228108671, 5753.89502717095, 4534.490221631359, 1888.3347360569894, 2295.81809350674, 7677.82385557827, 838.0214411221622, 271.725187722127, 2121.1519558446303, 3196.559768872349, 1915.3855935111897, 488.93727346723296, 2183.71342628562, 4732.4981439056, 5067.03292510384, 6194.072050483471, 13443.4731764345, 10300.28124769, 10839.9137599877, 6535.851950033779, 5671.45055982651, 4263.85358792053, 10011.410682346, 6254.52761697167, 1080.42349008036, 8442.89137257217, 1974.0099040035504, 758.43484908373, 3153.22282858557, 725.456868595806, 8237.046828605171, 1965.9213566813894, 4837.78751067317, 5183.859126382, 313.627941832336, 363.89991696954, 5296.90777315783, 11302.7676868696, 3028.83461924592, 9425.70730928511, 7651.577271506509, 4371.71544106113, 3285.4999476636103, 1708.71250339329, 559.905322890733, 3245.0416673940003, 3627.98707739863, 553.520858639322, 1936.81325684877, 8092.982779946221, 6820.315403719871, 520.996033494828, 5067.4100131801, 184.74430235095198, 5984.95078361862, 5913.64955570739, 5540.4640473639, 2714.4031075508897, 6632.036202597321, 6152.31449154773, 2742.45497541323, 6415.0862444378, 8968.67887727982, 8934.78576079228, 7913.83773387785, 6783.361362639921, 7720.7804890635, 7314.97632170726, 4831.11117052535, 6976.4632747324, 2361.1668022374397, 434.86745161344703, 2272.14762045204, 6279.6870072868005, 5006.850087456421, 7498.630446855849, 6921.4910285276, 6301.594778224128, 7718.4797951852015, 9733.11318882571, 2503.7883995275, 9581.83330584003, 4073.41190141951, 7050.43252621121, 8052.38128314598, 2226.81958036494, 3649.6431030705103, 6069.64909380359, 465.011565756224, 5990.716973188271, 3728.48334170117, 3060.03016771304, 3211.6702808546397, 101.218538140203, 706.619738681604, 8172.05250385158, 1733.40311054441, 1568.8636891672, 108.62991134456199, 1098.0733647218801, 1134.23438387685, 3177.5173724981896, 2855.2160995866907, 3591.797505348621, 2474.24811229965, 10491.6321514839, 4453.824616990561, 2505.86839812077, 967.134588168133, 6796.59093473349, 6859.836595599039, 93.89580488374209, 350.4455483951191, 9743.60925907749, 110.202890548355, 4844.68098269435, 6363.11366818686, 9246.26505750173, 2690.76813397945, 7826.32590939549, 2426.0086222937603, 5740.591697530911, 8236.47651886542, 6832.803041888821, 7877.33004149761, 3215.26309296887, 1780.5073342770602, 1795.2239577898395, 52.872190279850905, 11029.667709698899, 54.0082423765092, 1779.5745284350799, 8716.61125941204, 1940.87069929917, 5143.49041556889, 5774.281958129572, 864.9687379108342, 5961.53181600807, 4705.75708282464, 8383.07416484486, 8253.273858040659, 729.3773771563091, 7606.993238559659, 4693.11169707689, 192.144610510401, 8733.179295151309, 286.264434196967, 3132.55183069445, 5575.63564838086, 1633.03577963806, 321.578931158535, 1484.56154845106, 2214.92249276823, 6562.9038372817295, 2003.41184966425, 5953.52187129338, 4369.21887593705, 1896.75499382091, 660.241452576494, 5335.40349911225, 1890.4474777119, 5768.742734990649, 4944.05626409444, 1391.6018015385198, 6239.24752554114, 3913.782123938161, 3743.00343686135, 2015.18296932815, 5029.70763593419, 2989.95099658697, 7054.60614935761, 5594.332971007148, 9852.889427216229, 7798.793462982109, 4244.49803308998, 7813.23982954838, 1249.34756391816, 4002.99127617087, 3764.8151742023297, 3740.9009356876704, 5006.25382336323, 4265.17370408717, 4952.65334579666, 4852.7665976795, 9043.75604444505, 4023.06476529586, 644.384194795452, 10398.8205918487, 1779.8145966117602, 268.29097076779595, 5067.44996385047, 6046.84084474272, 1707.6728696492498, 7832.44332069255, 922.036589731527, 4354.3144119439785, 3959.6117718741402, 9719.56279821605, 8537.36966588191, 2583.1064251157, 2291.85642755991, 7289.014109090092, 5760.858733716, 4601.60618266029, 7269.59689733384, 2658.0906316048604, 2317.39367782209, 623.024152762279, 3273.63182294932, 2225.28464348945, 1926.7293969037696, 3503.1761563262603, 5522.7866932551415, 1622.72259832146, 7378.833598730591]}], \"hoverlabel\": {\"namelength\": 0}, \"hovertemplate\": \"%{xaxis.title.text}=%{x}<br>%{yaxis.title.text}=%{y}<br>default=%{marker.color}\", \"legendgroup\": \"\", \"marker\": {\"color\": [0, 0, 0, 0, 1, 0, 0, 1, 0, 0, 0, 0, 0, 0, 0, 0, 0, 0, 0, 0, 0, 0, 0, 0, 0, 0, 0, 0, 0, 0, 0, 0, 0, 0, 0, 0, 0, 0, 0, 1, 0, 0, 0, 1, 0, 0, 0, 0, 0, 0, 0, 0, 0, 0, 0, 0, 1, 0, 0, 0, 0, 0, 0, 0, 0, 0, 0, 1, 0, 0, 0, 1, 1, 0, 0, 0, 0, 0, 0, 0, 0, 0, 0, 0, 1, 1, 1, 0, 0, 0, 0, 0, 0, 0, 0, 0, 0, 0, 1, 1, 0, 0, 0, 1, 0, 0, 1, 0, 0, 0, 0, 0, 0, 0, 0, 0, 0, 0, 0, 0, 0, 1, 0, 0, 0, 0, 0, 0, 0, 0, 0, 0, 1, 0, 0, 0, 0, 1, 0, 1, 1, 0, 1, 0, 0, 1, 0, 0, 0, 0, 0, 0, 0, 0, 0, 0, 0, 1, 0, 0, 0, 0, 0, 0, 1, 0, 1, 0, 0, 0, 0, 0, 0, 0, 0, 0, 0, 1, 0, 1, 1, 0, 0, 0, 1, 1, 0, 0, 0, 0, 1, 0, 0, 0, 0, 1, 0, 0, 0, 0, 0, 1, 0, 0, 0, 0, 0, 0, 0, 0, 0, 0, 0, 0, 0, 0, 0, 0, 0, 0, 0, 0, 0, 0, 0, 1, 0, 0, 1, 1, 0, 0, 0, 1, 0, 1, 0, 0, 0, 0, 0, 0, 0, 0, 1, 0, 0, 0, 1, 0, 0, 0, 0, 0, 0, 0, 0, 0, 1, 0, 0, 0, 0, 0, 0, 0, 0, 0, 0, 0, 0, 1, 0, 1, 0, 1, 0, 1, 1, 0, 0, 0, 0, 0, 0, 0, 0, 0, 0, 0, 0, 0, 0, 0, 0, 0, 0, 0, 0, 0, 0, 1, 0, 0, 0, 1, 1, 0, 0, 0, 0, 0, 0, 0, 0, 0, 0, 0, 0, 0, 0, 0, 0, 0, 0, 1, 0, 1, 0, 0, 0, 0, 0, 0, 0, 0, 0, 0, 0, 0, 0, 0, 1, 0, 0, 1, 0, 0, 0, 1, 0, 0, 0, 1, 0, 0, 0, 0, 0, 0, 0, 1, 0, 0, 0, 0, 0, 0, 0, 0, 0, 0, 0, 0, 0, 0, 0, 0, 0, 0, 0, 0, 0, 0, 0, 1, 0, 0, 0, 0, 0, 0, 0, 0, 0, 0, 1, 0, 0, 0, 0, 0, 1, 0, 0, 1, 0, 0, 0, 0, 0, 0, 1, 0, 0, 1, 0, 0, 0, 0, 0, 1, 0, 0, 0, 0, 0, 1, 0, 1, 0, 0, 0, 1, 0, 1, 0, 0, 0, 0, 1, 0, 0, 0, 0, 0, 0, 0, 0, 0, 0, 0, 1, 0, 1, 0, 0, 1, 1, 0, 0, 0, 0, 0, 1, 0, 0, 0, 0, 0, 0, 0, 1, 0, 0, 0, 0, 0, 0, 0, 1, 0, 1, 0, 0, 0, 0, 0, 1, 0, 0, 0, 1, 0, 0, 1, 0, 0, 0, 0, 1, 0, 0, 0, 0, 0, 0, 0, 0, 0, 0, 0, 0, 0, 0, 0, 1, 0, 0, 1, 0, 0, 0, 1, 0, 0, 0, 0, 0, 0, 0, 0, 0, 0, 1, 1, 0, 0, 0, 0, 0, 0, 0, 0, 1, 0, 0, 0, 0, 1, 0, 0, 0, 0, 1, 0, 0, 0, 0, 0, 0, 0, 0, 0, 0, 0, 0, 0, 0, 1, 1, 0, 0, 0, 0, 0, 0, 0, 0, 0, 0, 1, 1, 1, 0, 1, 0, 0, 0, 0, 0, 0, 0, 0, 0, 0, 0, 0, 0, 0, 0, 0, 0, 0, 0, 0, 0, 0, 1, 0, 1, 0, 0, 0, 0, 0, 0, 0, 0, 0, 0, 0, 0, 0, 0, 0, 0, 1, 0, 0, 0, 0, 0, 0, 0, 0, 0, 0, 0, 0, 0, 0, 0, 0, 0, 0, 1, 0, 0, 1, 0, 0, 0, 1, 0, 0, 0, 0, 0, 0, 0, 0, 0, 0, 0, 0, 0, 0, 0, 0, 0, 0, 0, 0, 0, 0, 1, 0, 0, 1, 0, 1, 0, 0, 0, 0, 0, 0, 0, 0, 0, 0, 0, 0, 0, 1, 0, 1, 0, 0, 0, 1, 1, 0, 1, 0, 0, 0, 0, 0, 0, 0, 1, 0, 1, 0, 0, 0, 0, 0, 0, 0, 0, 0, 0, 0, 0, 0, 0, 0, 0, 0, 0, 0, 0, 1, 0, 0, 0, 0, 0, 0, 0, 0, 0, 0, 0, 0, 0, 1, 1, 0, 0, 0, 0, 0, 0, 0, 1, 0, 0, 0, 0, 1, 0, 0, 0, 0, 0, 0, 0, 0, 0, 0, 0, 0, 0, 0, 0, 0, 1, 0, 0, 0, 1, 0, 1, 0, 0, 0, 0, 0, 1, 0, 0, 0, 0, 0, 0, 0, 0, 0, 0, 0, 0, 0, 0, 0, 0, 0, 0, 0, 0, 0, 0, 1, 0, 0, 0, 0, 0, 0, 0, 0, 0, 0, 0, 0, 0, 0, 0, 0, 0, 0, 0, 0, 0, 0, 1, 0, 0, 1, 0, 0, 0, 0, 0, 0, 0, 0, 0, 0, 0, 0, 0, 0, 0, 0, 0, 0, 1, 0, 0, 0, 0, 0, 0, 0, 0, 0, 1, 0, 0, 0, 0, 0, 0, 0, 1, 0, 1, 0, 0, 0, 0, 0, 0, 1, 0, 1, 0, 0, 0, 0, 0, 0, 0, 0, 0, 0, 0, 0, 1, 0, 0, 0, 1, 0, 0, 0, 1, 0, 1, 0, 0, 0, 0, 1, 0, 0, 0, 0, 0, 0, 0, 0, 0, 0, 0, 0, 0, 0, 0, 0, 0, 0, 0, 0, 0, 0, 0, 0, 0, 0, 0, 0, 0, 1, 0, 0, 0, 0, 0, 0, 1, 1, 0, 1, 0, 0, 0, 0, 0, 1, 0, 1, 1, 1, 0, 0, 0, 0, 0, 0, 0, 1, 0, 1, 0, 0, 0, 1, 1, 1, 1, 0, 0, 0, 0, 0, 0, 0, 0, 0, 1, 0, 0, 0, 1, 0, 0, 0, 0, 0, 1, 0, 0, 1, 0, 0, 0, 0, 0, 0, 0, 0, 0, 0, 0, 0, 1, 0, 0, 0, 0, 1, 0, 0, 0, 0, 0, 0, 0, 0, 0, 0, 0, 0, 0, 0, 1, 0, 0, 1, 0, 0, 1, 0, 1, 0, 0, 0, 0, 0, 0, 0, 0, 0, 0, 0, 0, 0, 0, 0, 0, 1, 0, 0, 1, 1, 0, 0, 0, 0, 0, 0, 1, 0, 0, 0, 0, 1, 0, 0, 0, 0, 0, 0, 1, 0, 0, 0, 0, 1, 0, 0, 0, 0, 0, 0, 0, 1, 1, 0, 0, 0, 0, 0, 0, 0, 0, 0, 0, 0, 1, 0, 0, 0, 1, 0, 0, 0, 0, 0, 0, 0, 1, 0, 0, 0, 0, 0, 0, 0, 0, 0, 1, 1, 0, 1, 0, 0, 0, 0, 1, 0, 0, 0, 0, 1, 0, 0, 0, 0, 0, 0, 0, 0, 0, 0, 0, 0, 0, 0, 0, 0, 0, 0, 0, 0, 0, 0, 0, 0, 0, 0, 0, 0, 0, 0, 0, 0, 0, 0, 1, 0, 0, 0, 0, 1, 0, 0, 0, 0, 0, 0, 0, 0, 0, 0, 1, 0, 1, 0, 0, 1, 0, 0, 0, 0, 0, 0, 0, 0, 0, 0, 0, 0, 0, 0, 0, 0, 0, 1, 0, 1, 0, 0, 0, 0, 1, 1, 0, 0, 0, 0, 1, 0, 0, 0, 0, 0, 1, 0, 1, 0, 0, 0, 0, 0, 0, 0, 0, 0, 0, 0, 0, 0, 0, 0, 0, 0, 0, 1, 0, 0, 0, 0, 0, 0, 0, 1, 0, 0, 0, 0, 0, 0, 0, 0, 0, 0, 0, 0, 0, 0, 0, 0, 1, 0, 1, 0, 1, 0, 0, 0, 0, 0, 0, 0, 0, 0, 1, 0, 0, 1, 0, 0, 0, 0, 0, 0, 0, 0, 0, 0, 1, 0, 0, 0, 0, 0, 1, 0, 1, 0, 0, 0, 0, 0, 0, 0, 0, 0, 0, 0, 0, 0, 0, 0, 0, 0, 0, 0, 0, 0, 0, 0, 0, 0, 0, 0, 0, 0, 0, 0, 0, 0, 0, 0, 1, 1, 0, 0, 0, 1, 0, 0, 0, 1, 0, 0, 0, 0, 0, 1, 0, 0, 0, 1, 1, 0, 0, 0, 0, 0, 0, 0, 0, 0, 0, 0, 0, 0, 0, 0, 1, 0, 0, 1, 0, 0, 0, 0, 0, 0, 0, 0, 0, 0, 0, 0, 0, 0, 1, 0, 0, 0, 0, 0, 0, 0, 0, 0, 0, 0, 0, 0, 0, 1, 0, 0, 0, 0, 0, 1, 0, 0, 0, 0, 1, 0, 0, 1, 0, 0, 0, 0, 0, 0, 0, 0, 0, 1, 0, 0, 0, 0, 0, 0, 0, 0, 0, 0, 1, 0, 0, 0, 0, 0, 0, 0, 0, 0, 1, 0, 0, 0, 0, 0, 1, 0, 0, 0, 0, 0, 0, 0, 0, 0, 0, 0, 0, 0, 0, 1, 0, 0, 0, 0, 0, 0, 0, 0, 0, 0, 0, 0, 1, 0, 0, 0, 1, 0, 1, 0, 0, 0, 0, 0, 0, 0, 0, 0, 0, 0, 0, 0, 0, 1, 0, 0, 0, 0, 0, 0, 0, 0, 0, 0, 1, 0, 0, 0, 0, 0, 0, 1, 1, 0, 0, 0, 0, 0, 1, 0, 1, 0, 0, 0, 0, 0, 0, 0, 0, 0, 1, 0, 1, 0, 0, 0, 1, 0, 1, 0, 0, 0, 0, 0, 0, 0, 0, 1, 1, 1, 0, 1, 0, 0, 0, 0, 0, 0, 0, 0, 0, 0, 0, 0, 0, 1, 0, 0, 0, 0, 0, 0, 0, 0, 1, 0, 0, 0, 0, 0, 1, 0, 0, 0, 0, 1, 0, 1, 0, 0, 0, 0, 1, 0, 1, 0, 0, 0, 0, 0, 0, 0, 0, 0, 1, 0, 0, 0, 0, 0, 0, 0, 0, 0, 0, 0, 0, 0, 0, 0, 0, 0, 0, 0, 0, 0, 0, 0, 0, 0, 0, 1, 0, 0, 0, 0, 0, 0, 0, 0, 0, 0, 0, 0, 0, 0, 0, 1, 0, 0, 1, 0, 0, 0, 0, 0, 0, 0, 0, 0, 0, 0, 0, 0, 0, 0, 0, 0, 0, 0, 0, 0, 0, 0, 0, 0, 0, 0, 0, 0, 1, 0, 0, 0, 1, 0, 0, 0, 0, 1, 0, 0, 0, 0, 0, 1, 1, 0, 0, 0, 0, 0, 0, 1, 0, 0, 0, 0, 0, 0, 0, 0, 0, 0, 0, 0, 0, 0, 0, 1, 0, 0, 0, 0, 0, 1, 0, 0, 0, 0, 0, 0, 0, 0, 0, 0, 0, 1, 0, 0, 0, 0, 0, 0, 0, 0, 0, 0, 0, 0, 0, 0, 0, 0, 1, 0, 0, 0, 0, 0, 0, 0, 0, 0, 0, 0, 0, 0, 0, 0, 0, 1, 0, 0, 0, 0, 0, 0, 0, 0, 0, 0, 0, 0, 0, 0, 0, 0, 1, 0, 0, 0, 0, 0, 0, 0, 0, 0, 1, 1, 0, 0, 0, 0, 1, 0, 0, 1, 0, 0, 1, 0, 1, 1, 0, 0, 0, 0, 0, 0, 0, 0, 0, 0, 1, 1, 0, 1, 1, 0, 1, 0, 0, 0, 0, 0, 1, 0, 0, 0, 0, 0, 0, 0, 1, 0, 0, 0, 0, 0, 0, 0, 0, 0, 0, 0, 0, 0, 0, 0, 0, 0, 0, 0, 0, 0, 0, 1, 0, 0, 0, 0, 1, 0, 0, 0, 0, 0, 1, 0, 0, 0, 0, 0, 0, 0, 0, 0, 1, 0, 0, 0, 1, 0, 1, 0, 0, 0, 0, 0, 0, 0, 0, 0, 1, 0, 0, 0, 0, 0, 0, 0, 0, 0, 0, 0, 0, 0, 0, 0, 0, 0, 1, 0, 0, 0, 0, 1, 1, 0, 1, 0, 0, 0, 0, 0, 0, 0, 0, 0, 0, 0, 0, 0, 0, 0, 0, 1, 0, 0, 0, 0, 0, 1, 0, 0, 0, 0, 0, 0, 0, 1, 0, 0], \"coloraxis\": \"coloraxis\", \"symbol\": \"circle\"}, \"name\": \"\", \"showlegend\": false, \"type\": \"splom\"}],\n",
              "                        {\"coloraxis\": {\"colorbar\": {\"title\": {\"text\": \"default\"}}, \"colorscale\": [[0.0, \"#0d0887\"], [0.1111111111111111, \"#46039f\"], [0.2222222222222222, \"#7201a8\"], [0.3333333333333333, \"#9c179e\"], [0.4444444444444444, \"#bd3786\"], [0.5555555555555556, \"#d8576b\"], [0.6666666666666666, \"#ed7953\"], [0.7777777777777778, \"#fb9f3a\"], [0.8888888888888888, \"#fdca26\"], [1.0, \"#f0f921\"]]}, \"dragmode\": \"select\", \"legend\": {\"tracegroupgap\": 0}, \"margin\": {\"t\": 60}, \"template\": {\"data\": {\"bar\": [{\"error_x\": {\"color\": \"#2a3f5f\"}, \"error_y\": {\"color\": \"#2a3f5f\"}, \"marker\": {\"line\": {\"color\": \"#E5ECF6\", \"width\": 0.5}}, \"type\": \"bar\"}], \"barpolar\": [{\"marker\": {\"line\": {\"color\": \"#E5ECF6\", \"width\": 0.5}}, \"type\": \"barpolar\"}], \"carpet\": [{\"aaxis\": {\"endlinecolor\": \"#2a3f5f\", \"gridcolor\": \"white\", \"linecolor\": \"white\", \"minorgridcolor\": \"white\", \"startlinecolor\": \"#2a3f5f\"}, \"baxis\": {\"endlinecolor\": \"#2a3f5f\", \"gridcolor\": \"white\", \"linecolor\": \"white\", \"minorgridcolor\": \"white\", \"startlinecolor\": \"#2a3f5f\"}, \"type\": \"carpet\"}], \"choropleth\": [{\"colorbar\": {\"outlinewidth\": 0, \"ticks\": \"\"}, \"type\": \"choropleth\"}], \"contour\": [{\"colorbar\": {\"outlinewidth\": 0, \"ticks\": \"\"}, \"colorscale\": [[0.0, \"#0d0887\"], [0.1111111111111111, \"#46039f\"], [0.2222222222222222, \"#7201a8\"], [0.3333333333333333, \"#9c179e\"], [0.4444444444444444, \"#bd3786\"], [0.5555555555555556, \"#d8576b\"], [0.6666666666666666, \"#ed7953\"], [0.7777777777777778, \"#fb9f3a\"], [0.8888888888888888, \"#fdca26\"], [1.0, \"#f0f921\"]], \"type\": \"contour\"}], \"contourcarpet\": [{\"colorbar\": {\"outlinewidth\": 0, \"ticks\": \"\"}, \"type\": \"contourcarpet\"}], \"heatmap\": [{\"colorbar\": {\"outlinewidth\": 0, \"ticks\": \"\"}, \"colorscale\": [[0.0, \"#0d0887\"], [0.1111111111111111, \"#46039f\"], [0.2222222222222222, \"#7201a8\"], [0.3333333333333333, \"#9c179e\"], [0.4444444444444444, \"#bd3786\"], [0.5555555555555556, \"#d8576b\"], [0.6666666666666666, \"#ed7953\"], [0.7777777777777778, \"#fb9f3a\"], [0.8888888888888888, \"#fdca26\"], [1.0, \"#f0f921\"]], \"type\": \"heatmap\"}], \"heatmapgl\": [{\"colorbar\": {\"outlinewidth\": 0, \"ticks\": \"\"}, \"colorscale\": [[0.0, \"#0d0887\"], [0.1111111111111111, \"#46039f\"], [0.2222222222222222, \"#7201a8\"], [0.3333333333333333, \"#9c179e\"], [0.4444444444444444, \"#bd3786\"], [0.5555555555555556, \"#d8576b\"], [0.6666666666666666, \"#ed7953\"], [0.7777777777777778, \"#fb9f3a\"], [0.8888888888888888, \"#fdca26\"], [1.0, \"#f0f921\"]], \"type\": \"heatmapgl\"}], \"histogram\": [{\"marker\": {\"colorbar\": {\"outlinewidth\": 0, \"ticks\": \"\"}}, \"type\": \"histogram\"}], \"histogram2d\": [{\"colorbar\": {\"outlinewidth\": 0, \"ticks\": \"\"}, \"colorscale\": [[0.0, \"#0d0887\"], [0.1111111111111111, \"#46039f\"], [0.2222222222222222, \"#7201a8\"], [0.3333333333333333, \"#9c179e\"], [0.4444444444444444, \"#bd3786\"], [0.5555555555555556, \"#d8576b\"], [0.6666666666666666, \"#ed7953\"], [0.7777777777777778, \"#fb9f3a\"], [0.8888888888888888, \"#fdca26\"], [1.0, \"#f0f921\"]], \"type\": \"histogram2d\"}], \"histogram2dcontour\": [{\"colorbar\": {\"outlinewidth\": 0, \"ticks\": \"\"}, \"colorscale\": [[0.0, \"#0d0887\"], [0.1111111111111111, \"#46039f\"], [0.2222222222222222, \"#7201a8\"], [0.3333333333333333, \"#9c179e\"], [0.4444444444444444, \"#bd3786\"], [0.5555555555555556, \"#d8576b\"], [0.6666666666666666, \"#ed7953\"], [0.7777777777777778, \"#fb9f3a\"], [0.8888888888888888, \"#fdca26\"], [1.0, \"#f0f921\"]], \"type\": \"histogram2dcontour\"}], \"mesh3d\": [{\"colorbar\": {\"outlinewidth\": 0, \"ticks\": \"\"}, \"type\": \"mesh3d\"}], \"parcoords\": [{\"line\": {\"colorbar\": {\"outlinewidth\": 0, \"ticks\": \"\"}}, \"type\": \"parcoords\"}], \"pie\": [{\"automargin\": true, \"type\": \"pie\"}], \"scatter\": [{\"marker\": {\"colorbar\": {\"outlinewidth\": 0, \"ticks\": \"\"}}, \"type\": \"scatter\"}], \"scatter3d\": [{\"line\": {\"colorbar\": {\"outlinewidth\": 0, \"ticks\": \"\"}}, \"marker\": {\"colorbar\": {\"outlinewidth\": 0, \"ticks\": \"\"}}, \"type\": \"scatter3d\"}], \"scattercarpet\": [{\"marker\": {\"colorbar\": {\"outlinewidth\": 0, \"ticks\": \"\"}}, \"type\": \"scattercarpet\"}], \"scattergeo\": [{\"marker\": {\"colorbar\": {\"outlinewidth\": 0, \"ticks\": \"\"}}, \"type\": \"scattergeo\"}], \"scattergl\": [{\"marker\": {\"colorbar\": {\"outlinewidth\": 0, \"ticks\": \"\"}}, \"type\": \"scattergl\"}], \"scattermapbox\": [{\"marker\": {\"colorbar\": {\"outlinewidth\": 0, \"ticks\": \"\"}}, \"type\": \"scattermapbox\"}], \"scatterpolar\": [{\"marker\": {\"colorbar\": {\"outlinewidth\": 0, \"ticks\": \"\"}}, \"type\": \"scatterpolar\"}], \"scatterpolargl\": [{\"marker\": {\"colorbar\": {\"outlinewidth\": 0, \"ticks\": \"\"}}, \"type\": \"scatterpolargl\"}], \"scatterternary\": [{\"marker\": {\"colorbar\": {\"outlinewidth\": 0, \"ticks\": \"\"}}, \"type\": \"scatterternary\"}], \"surface\": [{\"colorbar\": {\"outlinewidth\": 0, \"ticks\": \"\"}, \"colorscale\": [[0.0, \"#0d0887\"], [0.1111111111111111, \"#46039f\"], [0.2222222222222222, \"#7201a8\"], [0.3333333333333333, \"#9c179e\"], [0.4444444444444444, \"#bd3786\"], [0.5555555555555556, \"#d8576b\"], [0.6666666666666666, \"#ed7953\"], [0.7777777777777778, \"#fb9f3a\"], [0.8888888888888888, \"#fdca26\"], [1.0, \"#f0f921\"]], \"type\": \"surface\"}], \"table\": [{\"cells\": {\"fill\": {\"color\": \"#EBF0F8\"}, \"line\": {\"color\": \"white\"}}, \"header\": {\"fill\": {\"color\": \"#C8D4E3\"}, \"line\": {\"color\": \"white\"}}, \"type\": \"table\"}]}, \"layout\": {\"annotationdefaults\": {\"arrowcolor\": \"#2a3f5f\", \"arrowhead\": 0, \"arrowwidth\": 1}, \"coloraxis\": {\"colorbar\": {\"outlinewidth\": 0, \"ticks\": \"\"}}, \"colorscale\": {\"diverging\": [[0, \"#8e0152\"], [0.1, \"#c51b7d\"], [0.2, \"#de77ae\"], [0.3, \"#f1b6da\"], [0.4, \"#fde0ef\"], [0.5, \"#f7f7f7\"], [0.6, \"#e6f5d0\"], [0.7, \"#b8e186\"], [0.8, \"#7fbc41\"], [0.9, \"#4d9221\"], [1, \"#276419\"]], \"sequential\": [[0.0, \"#0d0887\"], [0.1111111111111111, \"#46039f\"], [0.2222222222222222, \"#7201a8\"], [0.3333333333333333, \"#9c179e\"], [0.4444444444444444, \"#bd3786\"], [0.5555555555555556, \"#d8576b\"], [0.6666666666666666, \"#ed7953\"], [0.7777777777777778, \"#fb9f3a\"], [0.8888888888888888, \"#fdca26\"], [1.0, \"#f0f921\"]], \"sequentialminus\": [[0.0, \"#0d0887\"], [0.1111111111111111, \"#46039f\"], [0.2222222222222222, \"#7201a8\"], [0.3333333333333333, \"#9c179e\"], [0.4444444444444444, \"#bd3786\"], [0.5555555555555556, \"#d8576b\"], [0.6666666666666666, \"#ed7953\"], [0.7777777777777778, \"#fb9f3a\"], [0.8888888888888888, \"#fdca26\"], [1.0, \"#f0f921\"]]}, \"colorway\": [\"#636efa\", \"#EF553B\", \"#00cc96\", \"#ab63fa\", \"#FFA15A\", \"#19d3f3\", \"#FF6692\", \"#B6E880\", \"#FF97FF\", \"#FECB52\"], \"font\": {\"color\": \"#2a3f5f\"}, \"geo\": {\"bgcolor\": \"white\", \"lakecolor\": \"white\", \"landcolor\": \"#E5ECF6\", \"showlakes\": true, \"showland\": true, \"subunitcolor\": \"white\"}, \"hoverlabel\": {\"align\": \"left\"}, \"hovermode\": \"closest\", \"mapbox\": {\"style\": \"light\"}, \"paper_bgcolor\": \"white\", \"plot_bgcolor\": \"#E5ECF6\", \"polar\": {\"angularaxis\": {\"gridcolor\": \"white\", \"linecolor\": \"white\", \"ticks\": \"\"}, \"bgcolor\": \"#E5ECF6\", \"radialaxis\": {\"gridcolor\": \"white\", \"linecolor\": \"white\", \"ticks\": \"\"}}, \"scene\": {\"xaxis\": {\"backgroundcolor\": \"#E5ECF6\", \"gridcolor\": \"white\", \"gridwidth\": 2, \"linecolor\": \"white\", \"showbackground\": true, \"ticks\": \"\", \"zerolinecolor\": \"white\"}, \"yaxis\": {\"backgroundcolor\": \"#E5ECF6\", \"gridcolor\": \"white\", \"gridwidth\": 2, \"linecolor\": \"white\", \"showbackground\": true, \"ticks\": \"\", \"zerolinecolor\": \"white\"}, \"zaxis\": {\"backgroundcolor\": \"#E5ECF6\", \"gridcolor\": \"white\", \"gridwidth\": 2, \"linecolor\": \"white\", \"showbackground\": true, \"ticks\": \"\", \"zerolinecolor\": \"white\"}}, \"shapedefaults\": {\"line\": {\"color\": \"#2a3f5f\"}}, \"ternary\": {\"aaxis\": {\"gridcolor\": \"white\", \"linecolor\": \"white\", \"ticks\": \"\"}, \"baxis\": {\"gridcolor\": \"white\", \"linecolor\": \"white\", \"ticks\": \"\"}, \"bgcolor\": \"#E5ECF6\", \"caxis\": {\"gridcolor\": \"white\", \"linecolor\": \"white\", \"ticks\": \"\"}}, \"title\": {\"x\": 0.05}, \"xaxis\": {\"automargin\": true, \"gridcolor\": \"white\", \"linecolor\": \"white\", \"ticks\": \"\", \"title\": {\"standoff\": 15}, \"zerolinecolor\": \"white\", \"zerolinewidth\": 2}, \"yaxis\": {\"automargin\": true, \"gridcolor\": \"white\", \"linecolor\": \"white\", \"ticks\": \"\", \"title\": {\"standoff\": 15}, \"zerolinecolor\": \"white\", \"zerolinewidth\": 2}}}},\n",
              "                        {\"responsive\": true}\n",
              "                    ).then(function(){\n",
              "                            \n",
              "var gd = document.getElementById('8dd0bfe7-0292-45b9-b247-ddbc3392722f');\n",
              "var x = new MutationObserver(function (mutations, observer) {{\n",
              "        var display = window.getComputedStyle(gd).display;\n",
              "        if (!display || display === 'none') {{\n",
              "            console.log([gd, 'removed!']);\n",
              "            Plotly.purge(gd);\n",
              "            observer.disconnect();\n",
              "        }}\n",
              "}});\n",
              "\n",
              "// Listen for the removal of the full notebook cells\n",
              "var notebookContainer = gd.closest('#notebook-container');\n",
              "if (notebookContainer) {{\n",
              "    x.observe(notebookContainer, {childList: true});\n",
              "}}\n",
              "\n",
              "// Listen for the clearing of the current output cell\n",
              "var outputEl = gd.closest('.output');\n",
              "if (outputEl) {{\n",
              "    x.observe(outputEl, {childList: true});\n",
              "}}\n",
              "\n",
              "                        })\n",
              "                };\n",
              "                \n",
              "            </script>\n",
              "        </div>\n",
              "</body>\n",
              "</html>"
            ]
          },
          "metadata": {
            "tags": []
          }
        }
      ]
    },
    {
      "cell_type": "markdown",
      "metadata": {
        "id": "MRHDn-FmHX--"
      },
      "source": [
        "## Preprocessamento"
      ]
    },
    {
      "cell_type": "markdown",
      "metadata": {
        "id": "4j8HEMTyHbXb"
      },
      "source": [
        "#### Dados *Inconsistentes*"
      ]
    },
    {
      "cell_type": "code",
      "metadata": {
        "id": "q6Zx49fKFTyP"
      },
      "source": [
        "media = base_credit['age'].mean()\n"
      ],
      "execution_count": 72,
      "outputs": []
    },
    {
      "cell_type": "code",
      "metadata": {
        "id": "CaiGkmdiGo2f"
      },
      "source": [
        "# Troca as idades que estão abaixo de zero pela média da coluna \"idade\"\n",
        "base_credit.loc[base_credit.age < 0, 'age'] = media\n"
      ],
      "execution_count": 73,
      "outputs": []
    },
    {
      "cell_type": "markdown",
      "metadata": {
        "id": "RcuUZJQ-JO34"
      },
      "source": [
        "Para testes, usaremos algumas bases diferentes."
      ]
    },
    {
      "cell_type": "code",
      "metadata": {
        "id": "LGBq2YgzITiS"
      },
      "source": [
        "base_credit_sem_idade = base_credit.drop(\"age\", axis = 1)"
      ],
      "execution_count": 74,
      "outputs": []
    },
    {
      "cell_type": "code",
      "metadata": {
        "id": "B_9SaOWhJlTI"
      },
      "source": [
        "base_credit_sem_idade_menor_zero = base_credit.drop(base_credit[base_credit[\"age\"] < 0].index)"
      ],
      "execution_count": 75,
      "outputs": []
    },
    {
      "cell_type": "markdown",
      "metadata": {
        "id": "-4i2Rs5oKhUc"
      },
      "source": [
        "#### Dados Faltantes"
      ]
    },
    {
      "cell_type": "code",
      "metadata": {
        "colab": {
          "base_uri": "https://localhost:8080/"
        },
        "id": "saPce6BeJ7kI",
        "outputId": "6fe0eee1-b474-4683-ecde-2688070731b8"
      },
      "source": [
        "base_credit.isnull().sum()"
      ],
      "execution_count": 76,
      "outputs": [
        {
          "output_type": "execute_result",
          "data": {
            "text/plain": [
              "i#clientid    0\n",
              "income        0\n",
              "age           3\n",
              "loan          0\n",
              "default       0\n",
              "dtype: int64"
            ]
          },
          "metadata": {
            "tags": []
          },
          "execution_count": 76
        }
      ]
    },
    {
      "cell_type": "code",
      "metadata": {
        "colab": {
          "base_uri": "https://localhost:8080/",
          "height": 0
        },
        "id": "kD8w3mLtK3n8",
        "outputId": "8b0bd726-6834-4d7d-ea7b-01d587ee1388"
      },
      "source": [
        "base_credit.loc[pd.isnull(base_credit[\"age\"])]"
      ],
      "execution_count": 77,
      "outputs": [
        {
          "output_type": "execute_result",
          "data": {
            "text/html": [
              "<div>\n",
              "<style scoped>\n",
              "    .dataframe tbody tr th:only-of-type {\n",
              "        vertical-align: middle;\n",
              "    }\n",
              "\n",
              "    .dataframe tbody tr th {\n",
              "        vertical-align: top;\n",
              "    }\n",
              "\n",
              "    .dataframe thead th {\n",
              "        text-align: right;\n",
              "    }\n",
              "</style>\n",
              "<table border=\"1\" class=\"dataframe\">\n",
              "  <thead>\n",
              "    <tr style=\"text-align: right;\">\n",
              "      <th></th>\n",
              "      <th>i#clientid</th>\n",
              "      <th>income</th>\n",
              "      <th>age</th>\n",
              "      <th>loan</th>\n",
              "      <th>default</th>\n",
              "    </tr>\n",
              "  </thead>\n",
              "  <tbody>\n",
              "    <tr>\n",
              "      <th>28</th>\n",
              "      <td>29</td>\n",
              "      <td>59417.805406</td>\n",
              "      <td>NaN</td>\n",
              "      <td>2082.625938</td>\n",
              "      <td>0</td>\n",
              "    </tr>\n",
              "    <tr>\n",
              "      <th>30</th>\n",
              "      <td>31</td>\n",
              "      <td>48528.852796</td>\n",
              "      <td>NaN</td>\n",
              "      <td>6155.784670</td>\n",
              "      <td>0</td>\n",
              "    </tr>\n",
              "    <tr>\n",
              "      <th>31</th>\n",
              "      <td>32</td>\n",
              "      <td>23526.302555</td>\n",
              "      <td>NaN</td>\n",
              "      <td>2862.010139</td>\n",
              "      <td>0</td>\n",
              "    </tr>\n",
              "  </tbody>\n",
              "</table>\n",
              "</div>"
            ],
            "text/plain": [
              "    i#clientid        income  age         loan  default\n",
              "28          29  59417.805406  NaN  2082.625938        0\n",
              "30          31  48528.852796  NaN  6155.784670        0\n",
              "31          32  23526.302555  NaN  2862.010139        0"
            ]
          },
          "metadata": {
            "tags": []
          },
          "execution_count": 77
        }
      ]
    },
    {
      "cell_type": "code",
      "metadata": {
        "colab": {
          "base_uri": "https://localhost:8080/",
          "height": 0
        },
        "id": "SBEEoE0qLaH4",
        "outputId": "e88701cf-6722-41dd-94ea-28a79a6c7730"
      },
      "source": [
        "# Troca as idades nulas pela média\n",
        "base_credit[\"age\"].fillna(base_credit[\"age\"].mean(), inplace = True)\n",
        "base_credit.loc[(base_credit[\"i#clientid\"] == 29) | (base_credit[\"i#clientid\"] == 31) | (base_credit[\"i#clientid\"] == 32)]"
      ],
      "execution_count": 78,
      "outputs": [
        {
          "output_type": "execute_result",
          "data": {
            "text/html": [
              "<div>\n",
              "<style scoped>\n",
              "    .dataframe tbody tr th:only-of-type {\n",
              "        vertical-align: middle;\n",
              "    }\n",
              "\n",
              "    .dataframe tbody tr th {\n",
              "        vertical-align: top;\n",
              "    }\n",
              "\n",
              "    .dataframe thead th {\n",
              "        text-align: right;\n",
              "    }\n",
              "</style>\n",
              "<table border=\"1\" class=\"dataframe\">\n",
              "  <thead>\n",
              "    <tr style=\"text-align: right;\">\n",
              "      <th></th>\n",
              "      <th>i#clientid</th>\n",
              "      <th>income</th>\n",
              "      <th>age</th>\n",
              "      <th>loan</th>\n",
              "      <th>default</th>\n",
              "    </tr>\n",
              "  </thead>\n",
              "  <tbody>\n",
              "    <tr>\n",
              "      <th>28</th>\n",
              "      <td>29</td>\n",
              "      <td>59417.805406</td>\n",
              "      <td>40.92752</td>\n",
              "      <td>2082.625938</td>\n",
              "      <td>0</td>\n",
              "    </tr>\n",
              "    <tr>\n",
              "      <th>30</th>\n",
              "      <td>31</td>\n",
              "      <td>48528.852796</td>\n",
              "      <td>40.92752</td>\n",
              "      <td>6155.784670</td>\n",
              "      <td>0</td>\n",
              "    </tr>\n",
              "    <tr>\n",
              "      <th>31</th>\n",
              "      <td>32</td>\n",
              "      <td>23526.302555</td>\n",
              "      <td>40.92752</td>\n",
              "      <td>2862.010139</td>\n",
              "      <td>0</td>\n",
              "    </tr>\n",
              "  </tbody>\n",
              "</table>\n",
              "</div>"
            ],
            "text/plain": [
              "    i#clientid        income       age         loan  default\n",
              "28          29  59417.805406  40.92752  2082.625938        0\n",
              "30          31  48528.852796  40.92752  6155.784670        0\n",
              "31          32  23526.302555  40.92752  2862.010139        0"
            ]
          },
          "metadata": {
            "tags": []
          },
          "execution_count": 78
        }
      ]
    },
    {
      "cell_type": "markdown",
      "metadata": {
        "id": "--KDI-Y7M4Oh"
      },
      "source": [
        "## Dividindo os dados entre previssores e classes"
      ]
    },
    {
      "cell_type": "code",
      "metadata": {
        "id": "GYIH1AObMBPn"
      },
      "source": [
        "X_credit = base_credit.iloc[:, 1:4].values\n",
        "y_credit = base_credit.iloc[:, 4].values"
      ],
      "execution_count": 79,
      "outputs": []
    },
    {
      "cell_type": "markdown",
      "metadata": {
        "id": "Os2nZoHWNiVC"
      },
      "source": [
        "## Escalonando"
      ]
    },
    {
      "cell_type": "code",
      "metadata": {
        "id": "IpVReZ3sNk7m"
      },
      "source": [
        "from sklearn.preprocessing import StandardScaler # Escalonamento pelo método Padrão"
      ],
      "execution_count": 80,
      "outputs": []
    },
    {
      "cell_type": "code",
      "metadata": {
        "colab": {
          "base_uri": "https://localhost:8080/"
        },
        "id": "JS5wpc1-N95o",
        "outputId": "e96d6dc6-3759-46f1-e969-7d0108049981"
      },
      "source": [
        "escalar = StandardScaler()\n",
        "X_credit = escalar.fit_transform(X_credit)\n",
        "X_credit"
      ],
      "execution_count": 81,
      "outputs": [
        {
          "output_type": "execute_result",
          "data": {
            "text/plain": [
              "array([[ 1.45393393,  1.36539359,  1.20281942],\n",
              "       [-0.76217555,  0.54267291,  0.69642695],\n",
              "       [ 0.83682073,  1.67418453,  1.17471147],\n",
              "       ...,\n",
              "       [-0.07122592, -0.97447238,  0.35420081],\n",
              "       [-0.11000289,  1.73938004, -0.92675625],\n",
              "       [ 1.682986  ,  1.14918907,  0.96381038]])"
            ]
          },
          "metadata": {
            "tags": []
          },
          "execution_count": 81
        }
      ]
    },
    {
      "cell_type": "code",
      "metadata": {
        "id": "Z8Y51dtHOG8_"
      },
      "source": [
        ""
      ],
      "execution_count": 81,
      "outputs": []
    },
    {
      "cell_type": "markdown",
      "metadata": {
        "id": "EM4W9XzgO02I"
      },
      "source": [
        "## Base de Dados Census\n",
        "\n",
        "\n",
        "*   Fonte: https://archive.ics.uci.edu/ml/datasets/adult\n",
        "\n"
      ]
    },
    {
      "cell_type": "code",
      "metadata": {
        "colab": {
          "base_uri": "https://localhost:8080/",
          "height": 0
        },
        "id": "ne3YeZF2O8v-",
        "outputId": "5785ba32-9d95-4bbe-cb2f-77a5e2291524"
      },
      "source": [
        "base_census = pd.read_csv('/content/census.csv', error_bad_lines=False)\n",
        "base_census"
      ],
      "execution_count": 82,
      "outputs": [
        {
          "output_type": "execute_result",
          "data": {
            "text/html": [
              "<div>\n",
              "<style scoped>\n",
              "    .dataframe tbody tr th:only-of-type {\n",
              "        vertical-align: middle;\n",
              "    }\n",
              "\n",
              "    .dataframe tbody tr th {\n",
              "        vertical-align: top;\n",
              "    }\n",
              "\n",
              "    .dataframe thead th {\n",
              "        text-align: right;\n",
              "    }\n",
              "</style>\n",
              "<table border=\"1\" class=\"dataframe\">\n",
              "  <thead>\n",
              "    <tr style=\"text-align: right;\">\n",
              "      <th></th>\n",
              "      <th>age</th>\n",
              "      <th>workclass</th>\n",
              "      <th>final-weight</th>\n",
              "      <th>education</th>\n",
              "      <th>education-num</th>\n",
              "      <th>marital-status</th>\n",
              "      <th>occupation</th>\n",
              "      <th>relationship</th>\n",
              "      <th>race</th>\n",
              "      <th>sex</th>\n",
              "      <th>capital-gain</th>\n",
              "      <th>capital-loos</th>\n",
              "      <th>hour-per-week</th>\n",
              "      <th>native-country</th>\n",
              "      <th>income</th>\n",
              "    </tr>\n",
              "  </thead>\n",
              "  <tbody>\n",
              "    <tr>\n",
              "      <th>0</th>\n",
              "      <td>39</td>\n",
              "      <td>State-gov</td>\n",
              "      <td>77516</td>\n",
              "      <td>Bachelors</td>\n",
              "      <td>13</td>\n",
              "      <td>Never-married</td>\n",
              "      <td>Adm-clerical</td>\n",
              "      <td>Not-in-family</td>\n",
              "      <td>White</td>\n",
              "      <td>Male</td>\n",
              "      <td>2174</td>\n",
              "      <td>0</td>\n",
              "      <td>40</td>\n",
              "      <td>United-States</td>\n",
              "      <td>&lt;=50K</td>\n",
              "    </tr>\n",
              "    <tr>\n",
              "      <th>1</th>\n",
              "      <td>50</td>\n",
              "      <td>Self-emp-not-inc</td>\n",
              "      <td>83311</td>\n",
              "      <td>Bachelors</td>\n",
              "      <td>13</td>\n",
              "      <td>Married-civ-spouse</td>\n",
              "      <td>Exec-managerial</td>\n",
              "      <td>Husband</td>\n",
              "      <td>White</td>\n",
              "      <td>Male</td>\n",
              "      <td>0</td>\n",
              "      <td>0</td>\n",
              "      <td>13</td>\n",
              "      <td>United-States</td>\n",
              "      <td>&lt;=50K</td>\n",
              "    </tr>\n",
              "    <tr>\n",
              "      <th>2</th>\n",
              "      <td>38</td>\n",
              "      <td>Private</td>\n",
              "      <td>215646</td>\n",
              "      <td>HS-grad</td>\n",
              "      <td>9</td>\n",
              "      <td>Divorced</td>\n",
              "      <td>Handlers-cleaners</td>\n",
              "      <td>Not-in-family</td>\n",
              "      <td>White</td>\n",
              "      <td>Male</td>\n",
              "      <td>0</td>\n",
              "      <td>0</td>\n",
              "      <td>40</td>\n",
              "      <td>United-States</td>\n",
              "      <td>&lt;=50K</td>\n",
              "    </tr>\n",
              "    <tr>\n",
              "      <th>3</th>\n",
              "      <td>53</td>\n",
              "      <td>Private</td>\n",
              "      <td>234721</td>\n",
              "      <td>11th</td>\n",
              "      <td>7</td>\n",
              "      <td>Married-civ-spouse</td>\n",
              "      <td>Handlers-cleaners</td>\n",
              "      <td>Husband</td>\n",
              "      <td>Black</td>\n",
              "      <td>Male</td>\n",
              "      <td>0</td>\n",
              "      <td>0</td>\n",
              "      <td>40</td>\n",
              "      <td>United-States</td>\n",
              "      <td>&lt;=50K</td>\n",
              "    </tr>\n",
              "    <tr>\n",
              "      <th>4</th>\n",
              "      <td>28</td>\n",
              "      <td>Private</td>\n",
              "      <td>338409</td>\n",
              "      <td>Bachelors</td>\n",
              "      <td>13</td>\n",
              "      <td>Married-civ-spouse</td>\n",
              "      <td>Prof-specialty</td>\n",
              "      <td>Wife</td>\n",
              "      <td>Black</td>\n",
              "      <td>Female</td>\n",
              "      <td>0</td>\n",
              "      <td>0</td>\n",
              "      <td>40</td>\n",
              "      <td>Cuba</td>\n",
              "      <td>&lt;=50K</td>\n",
              "    </tr>\n",
              "    <tr>\n",
              "      <th>...</th>\n",
              "      <td>...</td>\n",
              "      <td>...</td>\n",
              "      <td>...</td>\n",
              "      <td>...</td>\n",
              "      <td>...</td>\n",
              "      <td>...</td>\n",
              "      <td>...</td>\n",
              "      <td>...</td>\n",
              "      <td>...</td>\n",
              "      <td>...</td>\n",
              "      <td>...</td>\n",
              "      <td>...</td>\n",
              "      <td>...</td>\n",
              "      <td>...</td>\n",
              "      <td>...</td>\n",
              "    </tr>\n",
              "    <tr>\n",
              "      <th>32556</th>\n",
              "      <td>27</td>\n",
              "      <td>Private</td>\n",
              "      <td>257302</td>\n",
              "      <td>Assoc-acdm</td>\n",
              "      <td>12</td>\n",
              "      <td>Married-civ-spouse</td>\n",
              "      <td>Tech-support</td>\n",
              "      <td>Wife</td>\n",
              "      <td>White</td>\n",
              "      <td>Female</td>\n",
              "      <td>0</td>\n",
              "      <td>0</td>\n",
              "      <td>38</td>\n",
              "      <td>United-States</td>\n",
              "      <td>&lt;=50K</td>\n",
              "    </tr>\n",
              "    <tr>\n",
              "      <th>32557</th>\n",
              "      <td>40</td>\n",
              "      <td>Private</td>\n",
              "      <td>154374</td>\n",
              "      <td>HS-grad</td>\n",
              "      <td>9</td>\n",
              "      <td>Married-civ-spouse</td>\n",
              "      <td>Machine-op-inspct</td>\n",
              "      <td>Husband</td>\n",
              "      <td>White</td>\n",
              "      <td>Male</td>\n",
              "      <td>0</td>\n",
              "      <td>0</td>\n",
              "      <td>40</td>\n",
              "      <td>United-States</td>\n",
              "      <td>&gt;50K</td>\n",
              "    </tr>\n",
              "    <tr>\n",
              "      <th>32558</th>\n",
              "      <td>58</td>\n",
              "      <td>Private</td>\n",
              "      <td>151910</td>\n",
              "      <td>HS-grad</td>\n",
              "      <td>9</td>\n",
              "      <td>Widowed</td>\n",
              "      <td>Adm-clerical</td>\n",
              "      <td>Unmarried</td>\n",
              "      <td>White</td>\n",
              "      <td>Female</td>\n",
              "      <td>0</td>\n",
              "      <td>0</td>\n",
              "      <td>40</td>\n",
              "      <td>United-States</td>\n",
              "      <td>&lt;=50K</td>\n",
              "    </tr>\n",
              "    <tr>\n",
              "      <th>32559</th>\n",
              "      <td>22</td>\n",
              "      <td>Private</td>\n",
              "      <td>201490</td>\n",
              "      <td>HS-grad</td>\n",
              "      <td>9</td>\n",
              "      <td>Never-married</td>\n",
              "      <td>Adm-clerical</td>\n",
              "      <td>Own-child</td>\n",
              "      <td>White</td>\n",
              "      <td>Male</td>\n",
              "      <td>0</td>\n",
              "      <td>0</td>\n",
              "      <td>20</td>\n",
              "      <td>United-States</td>\n",
              "      <td>&lt;=50K</td>\n",
              "    </tr>\n",
              "    <tr>\n",
              "      <th>32560</th>\n",
              "      <td>52</td>\n",
              "      <td>Self-emp-inc</td>\n",
              "      <td>287927</td>\n",
              "      <td>HS-grad</td>\n",
              "      <td>9</td>\n",
              "      <td>Married-civ-spouse</td>\n",
              "      <td>Exec-managerial</td>\n",
              "      <td>Wife</td>\n",
              "      <td>White</td>\n",
              "      <td>Female</td>\n",
              "      <td>15024</td>\n",
              "      <td>0</td>\n",
              "      <td>40</td>\n",
              "      <td>United-States</td>\n",
              "      <td>&gt;50K</td>\n",
              "    </tr>\n",
              "  </tbody>\n",
              "</table>\n",
              "<p>32561 rows × 15 columns</p>\n",
              "</div>"
            ],
            "text/plain": [
              "       age          workclass  ...  native-country  income\n",
              "0       39          State-gov  ...   United-States   <=50K\n",
              "1       50   Self-emp-not-inc  ...   United-States   <=50K\n",
              "2       38            Private  ...   United-States   <=50K\n",
              "3       53            Private  ...   United-States   <=50K\n",
              "4       28            Private  ...            Cuba   <=50K\n",
              "...    ...                ...  ...             ...     ...\n",
              "32556   27            Private  ...   United-States   <=50K\n",
              "32557   40            Private  ...   United-States    >50K\n",
              "32558   58            Private  ...   United-States   <=50K\n",
              "32559   22            Private  ...   United-States   <=50K\n",
              "32560   52       Self-emp-inc  ...   United-States    >50K\n",
              "\n",
              "[32561 rows x 15 columns]"
            ]
          },
          "metadata": {
            "tags": []
          },
          "execution_count": 82
        }
      ]
    },
    {
      "cell_type": "code",
      "metadata": {
        "colab": {
          "base_uri": "https://localhost:8080/"
        },
        "id": "JY-nQILxPLwT",
        "outputId": "eb8e6208-4ef1-4be5-8010-8a265e0d4a55"
      },
      "source": [
        "base_census.isnull().sum()"
      ],
      "execution_count": 83,
      "outputs": [
        {
          "output_type": "execute_result",
          "data": {
            "text/plain": [
              "age               0\n",
              "workclass         0\n",
              "final-weight      0\n",
              "education         0\n",
              "education-num     0\n",
              "marital-status    0\n",
              "occupation        0\n",
              "relationship      0\n",
              "race              0\n",
              "sex               0\n",
              "capital-gain      0\n",
              "capital-loos      0\n",
              "hour-per-week     0\n",
              "native-country    0\n",
              "income            0\n",
              "dtype: int64"
            ]
          },
          "metadata": {
            "tags": []
          },
          "execution_count": 83
        }
      ]
    },
    {
      "cell_type": "markdown",
      "metadata": {
        "id": "PU7z31MQSoN0"
      },
      "source": [
        "## Visualizando Dados"
      ]
    },
    {
      "cell_type": "code",
      "metadata": {
        "id": "gzC8FhooP_eh",
        "colab": {
          "base_uri": "https://localhost:8080/"
        },
        "outputId": "d2c5918f-a256-4cdb-b084-22837044233e"
      },
      "source": [
        "base_census[\"income\"].unique()"
      ],
      "execution_count": 84,
      "outputs": [
        {
          "output_type": "execute_result",
          "data": {
            "text/plain": [
              "array([' <=50K', ' >50K'], dtype=object)"
            ]
          },
          "metadata": {
            "tags": []
          },
          "execution_count": 84
        }
      ]
    },
    {
      "cell_type": "code",
      "metadata": {
        "colab": {
          "base_uri": "https://localhost:8080/",
          "height": 0
        },
        "id": "HQ-ytBJtS1I9",
        "outputId": "0425745d-daef-4fd7-ed78-c555465c169d"
      },
      "source": [
        "sns.countplot(x = base_census[\"income\"])"
      ],
      "execution_count": 85,
      "outputs": [
        {
          "output_type": "execute_result",
          "data": {
            "text/plain": [
              "<matplotlib.axes._subplots.AxesSubplot at 0x7fe27fd74c10>"
            ]
          },
          "metadata": {
            "tags": []
          },
          "execution_count": 85
        },
        {
          "output_type": "display_data",
          "data": {
            "image/png": "[encoded data removed]",
            "text/plain": [
              "<Figure size 432x288 with 1 Axes>"
            ]
          },
          "metadata": {
            "tags": [],
            "needs_background": "light"
          }
        }
      ]
    },
    {
      "cell_type": "code",
      "metadata": {
        "colab": {
          "base_uri": "https://localhost:8080/",
          "height": 0
        },
        "id": "u7YT89WsS7zR",
        "outputId": "c7f73903-872a-4504-ae24-9ff028e76a42"
      },
      "source": [
        "plt.hist(x = base_census[\"age\"])\n",
        "plt.show()"
      ],
      "execution_count": 86,
      "outputs": [
        {
          "output_type": "display_data",
          "data": {
            "image/png": "[encoded data removed]",
            "text/plain": [
              "<Figure size 432x288 with 1 Axes>"
            ]
          },
          "metadata": {
            "tags": [],
            "needs_background": "light"
          }
        }
      ]
    },
    {
      "cell_type": "code",
      "metadata": {
        "id": "9QbNNraCTp8R"
      },
      "source": [
        ""
      ],
      "execution_count": 86,
      "outputs": []
    },
    {
      "cell_type": "markdown",
      "metadata": {
        "id": "jJvjqErnUqMm"
      },
      "source": [
        "## Previsores e Classes"
      ]
    },
    {
      "cell_type": "code",
      "metadata": {
        "id": "VNeq15w2Utae"
      },
      "source": [
        "X_census = base_census.iloc[:, 0:14].values\n",
        "y_census = base_census.iloc[:, 14].values"
      ],
      "execution_count": 87,
      "outputs": []
    },
    {
      "cell_type": "code",
      "metadata": {
        "colab": {
          "base_uri": "https://localhost:8080/"
        },
        "id": "eqHiEPl8YFjO",
        "outputId": "98754892-474f-485b-a2e1-97bd1ce5cf98"
      },
      "source": [
        "X_census"
      ],
      "execution_count": 88,
      "outputs": [
        {
          "output_type": "execute_result",
          "data": {
            "text/plain": [
              "array([[39, ' State-gov', 77516, ..., 0, 40, ' United-States'],\n",
              "       [50, ' Self-emp-not-inc', 83311, ..., 0, 13, ' United-States'],\n",
              "       [38, ' Private', 215646, ..., 0, 40, ' United-States'],\n",
              "       ...,\n",
              "       [58, ' Private', 151910, ..., 0, 40, ' United-States'],\n",
              "       [22, ' Private', 201490, ..., 0, 20, ' United-States'],\n",
              "       [52, ' Self-emp-inc', 287927, ..., 0, 40, ' United-States']],\n",
              "      dtype=object)"
            ]
          },
          "metadata": {
            "tags": []
          },
          "execution_count": 88
        }
      ]
    },
    {
      "cell_type": "code",
      "metadata": {
        "colab": {
          "base_uri": "https://localhost:8080/"
        },
        "id": "wsXbJOvuYHj4",
        "outputId": "9e2076ec-68fe-4ee7-a64e-12aa486c9a1f"
      },
      "source": [
        "y_census"
      ],
      "execution_count": 89,
      "outputs": [
        {
          "output_type": "execute_result",
          "data": {
            "text/plain": [
              "array([' <=50K', ' <=50K', ' <=50K', ..., ' <=50K', ' <=50K', ' >50K'],\n",
              "      dtype=object)"
            ]
          },
          "metadata": {
            "tags": []
          },
          "execution_count": 89
        }
      ]
    },
    {
      "cell_type": "markdown",
      "metadata": {
        "id": "6__putWcVRBe"
      },
      "source": [
        "## Trantando atributos categóricos"
      ]
    },
    {
      "cell_type": "markdown",
      "metadata": {
        "id": "tOV0AXXuVYAM"
      },
      "source": [
        "### LabelEnconder"
      ]
    },
    {
      "cell_type": "code",
      "metadata": {
        "id": "luTnU6XJU8qy"
      },
      "source": [
        "from sklearn.preprocessing import LabelEncoder"
      ],
      "execution_count": 90,
      "outputs": []
    },
    {
      "cell_type": "code",
      "metadata": {
        "id": "oaFZSDwqVoFp"
      },
      "source": [
        "label_enconder = LabelEncoder()"
      ],
      "execution_count": 91,
      "outputs": []
    },
    {
      "cell_type": "code",
      "metadata": {
        "colab": {
          "base_uri": "https://localhost:8080/"
        },
        "id": "J6rdDf5jVpcg",
        "outputId": "d4a32bee-1f1b-42dc-85be-0d0155f596c9"
      },
      "source": [
        "X_census"
      ],
      "execution_count": 92,
      "outputs": [
        {
          "output_type": "execute_result",
          "data": {
            "text/plain": [
              "array([[39, ' State-gov', 77516, ..., 0, 40, ' United-States'],\n",
              "       [50, ' Self-emp-not-inc', 83311, ..., 0, 13, ' United-States'],\n",
              "       [38, ' Private', 215646, ..., 0, 40, ' United-States'],\n",
              "       ...,\n",
              "       [58, ' Private', 151910, ..., 0, 40, ' United-States'],\n",
              "       [22, ' Private', 201490, ..., 0, 20, ' United-States'],\n",
              "       [52, ' Self-emp-inc', 287927, ..., 0, 40, ' United-States']],\n",
              "      dtype=object)"
            ]
          },
          "metadata": {
            "tags": []
          },
          "execution_count": 92
        }
      ]
    },
    {
      "cell_type": "code",
      "metadata": {
        "id": "MtypEd7oWBzC"
      },
      "source": [
        "X_census[:, 1] = label_enconder.fit_transform(X_census[:, 1])\n",
        "X_census[:, 3] = label_enconder.fit_transform(X_census[:, 3])\n",
        "X_census[:, 5] = label_enconder.fit_transform(X_census[:, 5])\n",
        "X_census[:, 6] = label_enconder.fit_transform(X_census[:, 6])\n",
        "X_census[:, 7] = label_enconder.fit_transform(X_census[:, 7])\n",
        "X_census[:, 8] = label_enconder.fit_transform(X_census[:, 8])\n",
        "X_census[:, 9] = label_enconder.fit_transform(X_census[:, 9])\n",
        "X_census[:, 13] = label_enconder.fit_transform(X_census[:, 13])"
      ],
      "execution_count": 93,
      "outputs": []
    },
    {
      "cell_type": "code",
      "metadata": {
        "colab": {
          "base_uri": "https://localhost:8080/"
        },
        "id": "LO3GJBIbWHc5",
        "outputId": "b5be61b2-c099-48d0-d624-8cd2b9fecd13"
      },
      "source": [
        "X_census"
      ],
      "execution_count": 94,
      "outputs": [
        {
          "output_type": "execute_result",
          "data": {
            "text/plain": [
              "array([[39, 7, 77516, ..., 0, 40, 39],\n",
              "       [50, 6, 83311, ..., 0, 13, 39],\n",
              "       [38, 4, 215646, ..., 0, 40, 39],\n",
              "       ...,\n",
              "       [58, 4, 151910, ..., 0, 40, 39],\n",
              "       [22, 4, 201490, ..., 0, 20, 39],\n",
              "       [52, 5, 287927, ..., 0, 40, 39]], dtype=object)"
            ]
          },
          "metadata": {
            "tags": []
          },
          "execution_count": 94
        }
      ]
    },
    {
      "cell_type": "markdown",
      "metadata": {
        "id": "9ZyoV3GmWm2k"
      },
      "source": [
        "### OneHotEnconder"
      ]
    },
    {
      "cell_type": "code",
      "metadata": {
        "id": "U1pVWC4vWXjI"
      },
      "source": [
        "from sklearn.preprocessing import OneHotEncoder\n",
        "from sklearn.compose import ColumnTransformer"
      ],
      "execution_count": 95,
      "outputs": []
    },
    {
      "cell_type": "code",
      "metadata": {
        "colab": {
          "base_uri": "https://localhost:8080/"
        },
        "id": "caRceGkJWy_a",
        "outputId": "c62042e1-810d-49a2-8c41-fe3798bce393"
      },
      "source": [
        "onehotencoder = ColumnTransformer(transformers=[(\"OneHot\", OneHotEncoder(), [1,3,5,6,7,8,9,13])],remainder='passthrough')\n",
        "\n",
        "X_census = onehotencoder.fit_transform(X_census).toarray()\n",
        "X_census"
      ],
      "execution_count": 96,
      "outputs": [
        {
          "output_type": "execute_result",
          "data": {
            "text/plain": [
              "array([[0.0000e+00, 0.0000e+00, 0.0000e+00, ..., 2.1740e+03, 0.0000e+00,\n",
              "        4.0000e+01],\n",
              "       [0.0000e+00, 0.0000e+00, 0.0000e+00, ..., 0.0000e+00, 0.0000e+00,\n",
              "        1.3000e+01],\n",
              "       [0.0000e+00, 0.0000e+00, 0.0000e+00, ..., 0.0000e+00, 0.0000e+00,\n",
              "        4.0000e+01],\n",
              "       ...,\n",
              "       [0.0000e+00, 0.0000e+00, 0.0000e+00, ..., 0.0000e+00, 0.0000e+00,\n",
              "        4.0000e+01],\n",
              "       [0.0000e+00, 0.0000e+00, 0.0000e+00, ..., 0.0000e+00, 0.0000e+00,\n",
              "        2.0000e+01],\n",
              "       [0.0000e+00, 0.0000e+00, 0.0000e+00, ..., 1.5024e+04, 0.0000e+00,\n",
              "        4.0000e+01]])"
            ]
          },
          "metadata": {
            "tags": []
          },
          "execution_count": 96
        }
      ]
    },
    {
      "cell_type": "markdown",
      "metadata": {
        "id": "55bgmPgzXjRx"
      },
      "source": [
        "### Escalonamento"
      ]
    },
    {
      "cell_type": "code",
      "metadata": {
        "colab": {
          "base_uri": "https://localhost:8080/"
        },
        "id": "ultxTwGmXnpg",
        "outputId": "075f2852-249b-487a-e23d-9c9a7ca66bbf"
      },
      "source": [
        "X_census = escalar.fit_transform(X_census)\n",
        "X_census[0]"
      ],
      "execution_count": 97,
      "outputs": [
        {
          "output_type": "execute_result",
          "data": {
            "text/plain": [
              "array([-0.2444502 , -0.17429511, -0.26209736, -0.01466381, -1.5167923 ,\n",
              "       -0.18838933, -0.29093568,  4.90769968, -0.02073999, -0.17175325,\n",
              "       -0.19348662, -0.11609195, -0.07201601, -0.10164955, -0.1422718 ,\n",
              "       -0.12664495, -0.18406376, -0.21053433,  2.25399324, -0.11334387,\n",
              "       -0.68994199, -0.23637391, -0.03960742, -0.13419553, -0.53714425,\n",
              "       -0.39750806, -0.02658695, -0.92284068, -0.11403678,  1.43105786,\n",
              "       -0.1802846 , -0.17735813, -0.24494366,  2.76348874, -0.01662771,\n",
              "       -0.37949517, -0.37774555, -0.17745022, -0.20957797, -0.25595432,\n",
              "       -0.33554133, -0.06780164, -0.38166338, -0.14260848, -0.35531609,\n",
              "       -0.17127887, -0.22710355, -0.82533335,  1.70899099, -0.17624972,\n",
              "       -0.42934582, -0.34403232, -0.22492681, -0.09820087, -0.18155194,\n",
              "       -0.32576824, -0.09161163,  0.4130197 , -0.70307135,  0.70307135,\n",
              "       -0.13502327, -0.02416321, -0.06107342, -0.0480488 , -0.04260602,\n",
              "       -0.05409379, -0.04641598, -0.02933708, -0.05714946, -0.05264698,\n",
              "       -0.02985682, -0.06500204, -0.02985682, -0.04437806, -0.03678503,\n",
              "       -0.00554189, -0.01998525, -0.02479131, -0.01998525, -0.05550333,\n",
              "       -0.03636406, -0.02715919, -0.04740236, -0.04993839, -0.04367781,\n",
              "       -0.02351838, -0.1419344 , -0.03233087, -0.02073999, -0.03087016,\n",
              "       -0.07821827, -0.04296623, -0.03372864, -0.05927412, -0.01920091,\n",
              "       -0.0496284 , -0.03960742, -0.02351838, -0.02416321,  0.34095391,\n",
              "       -0.04540836, -0.02217266,  0.03067056, -1.06361075,  1.13473876,\n",
              "        0.1484529 , -0.21665953, -0.03542945])"
            ]
          },
          "metadata": {
            "tags": []
          },
          "execution_count": 97
        }
      ]
    },
    {
      "cell_type": "code",
      "metadata": {
        "id": "o5lGbRO7Xxz5"
      },
      "source": [
        ""
      ],
      "execution_count": 97,
      "outputs": []
    },
    {
      "cell_type": "markdown",
      "metadata": {
        "id": "c1LqySzmX_bJ"
      },
      "source": [
        "## Separando os Dados"
      ]
    },
    {
      "cell_type": "code",
      "metadata": {
        "id": "FA2hWtPEYCoX"
      },
      "source": [
        "from sklearn.model_selection import train_test_split"
      ],
      "execution_count": 98,
      "outputs": []
    },
    {
      "cell_type": "markdown",
      "metadata": {
        "id": "dDbTzfsYYQFT"
      },
      "source": [
        "### Credit_data"
      ]
    },
    {
      "cell_type": "code",
      "metadata": {
        "id": "by2Rz7tlYOvx"
      },
      "source": [
        "X_treino_credit, X_teste_credit, y_treino_credit, y_teste_credit = train_test_split(X_credit,\n",
        "                                                                                    y_credit,\n",
        "                                                                                    test_size = .25,\n",
        "                                                                                    random_state = 0)"
      ],
      "execution_count": 99,
      "outputs": []
    },
    {
      "cell_type": "markdown",
      "metadata": {
        "id": "_nkpSDidYgnA"
      },
      "source": [
        "### Census"
      ]
    },
    {
      "cell_type": "code",
      "metadata": {
        "id": "OIZotoi4Ya7o"
      },
      "source": [
        "X_treino_census , X_teste_census, y_treino_census, y_teste_census = train_test_split(X_census,\n",
        "                                                                                     y_census,\n",
        "                                                                                     test_size = .33,\n",
        "                                                                                     random_state = 0)"
      ],
      "execution_count": 100,
      "outputs": []
    },
    {
      "cell_type": "markdown",
      "metadata": {
        "id": "7xuX2guaYyky"
      },
      "source": [
        "## Salvando as variáveis"
      ]
    },
    {
      "cell_type": "code",
      "metadata": {
        "id": "g69LEA2lYom4"
      },
      "source": [
        "import pickle"
      ],
      "execution_count": 101,
      "outputs": []
    },
    {
      "cell_type": "code",
      "metadata": {
        "id": "PXqtupPaZRg7"
      },
      "source": [
        "with open('credit.pkl', mode = 'wb') as f:\n",
        "  pickle.dump([X_treino_credit, y_treino_credit, X_teste_credit, y_teste_credit], f)\n",
        "\n",
        "with open('census.pkl', mode = 'wb') as f:\n",
        "  pickle.dump([X_treino_census, y_treino_census, X_teste_census, y_teste_census], f)"
      ],
      "execution_count": 102,
      "outputs": []
    },
    {
      "cell_type": "markdown",
      "metadata": {
        "id": "wpeQsi8tapmT"
      },
      "source": [
        "# Classificação"
      ]
    },
    {
      "cell_type": "markdown",
      "metadata": {
        "id": "KDkhy_agaIT-"
      },
      "source": [
        "## Naive Bayes"
      ]
    },
    {
      "cell_type": "code",
      "metadata": {
        "id": "Y8ToMgrGaA5c"
      },
      "source": [
        "from sklearn.naive_bayes import GaussianNB"
      ],
      "execution_count": 103,
      "outputs": []
    },
    {
      "cell_type": "markdown",
      "metadata": {
        "id": "wUtDCEaJRYau"
      },
      "source": [
        "### Base Risco Crédito"
      ]
    },
    {
      "cell_type": "code",
      "metadata": {
        "id": "HT81_NOKbLsk"
      },
      "source": [
        "base_risco_creidto = pd.read_csv('/content/risco_credito.csv')"
      ],
      "execution_count": 104,
      "outputs": []
    },
    {
      "cell_type": "code",
      "metadata": {
        "colab": {
          "base_uri": "https://localhost:8080/",
          "height": 483
        },
        "id": "6YaEwraER7cT",
        "outputId": "6c6b73a8-2220-40ef-b29e-69169066cc11"
      },
      "source": [
        "base_risco_creidto"
      ],
      "execution_count": 105,
      "outputs": [
        {
          "output_type": "execute_result",
          "data": {
            "text/html": [
              "<div>\n",
              "<style scoped>\n",
              "    .dataframe tbody tr th:only-of-type {\n",
              "        vertical-align: middle;\n",
              "    }\n",
              "\n",
              "    .dataframe tbody tr th {\n",
              "        vertical-align: top;\n",
              "    }\n",
              "\n",
              "    .dataframe thead th {\n",
              "        text-align: right;\n",
              "    }\n",
              "</style>\n",
              "<table border=\"1\" class=\"dataframe\">\n",
              "  <thead>\n",
              "    <tr style=\"text-align: right;\">\n",
              "      <th></th>\n",
              "      <th>historia</th>\n",
              "      <th>divida</th>\n",
              "      <th>garantias</th>\n",
              "      <th>renda</th>\n",
              "      <th>c#risco</th>\n",
              "    </tr>\n",
              "  </thead>\n",
              "  <tbody>\n",
              "    <tr>\n",
              "      <th>0</th>\n",
              "      <td>ruim</td>\n",
              "      <td>alta</td>\n",
              "      <td>nenhuma</td>\n",
              "      <td>0_15</td>\n",
              "      <td>alto</td>\n",
              "    </tr>\n",
              "    <tr>\n",
              "      <th>1</th>\n",
              "      <td>desconhecida</td>\n",
              "      <td>alta</td>\n",
              "      <td>nenhuma</td>\n",
              "      <td>15_35</td>\n",
              "      <td>alto</td>\n",
              "    </tr>\n",
              "    <tr>\n",
              "      <th>2</th>\n",
              "      <td>desconhecida</td>\n",
              "      <td>baixa</td>\n",
              "      <td>nenhuma</td>\n",
              "      <td>15_35</td>\n",
              "      <td>moderado</td>\n",
              "    </tr>\n",
              "    <tr>\n",
              "      <th>3</th>\n",
              "      <td>desconhecida</td>\n",
              "      <td>baixa</td>\n",
              "      <td>nenhuma</td>\n",
              "      <td>acima_35</td>\n",
              "      <td>alto</td>\n",
              "    </tr>\n",
              "    <tr>\n",
              "      <th>4</th>\n",
              "      <td>desconhecida</td>\n",
              "      <td>baixa</td>\n",
              "      <td>nenhuma</td>\n",
              "      <td>acima_35</td>\n",
              "      <td>baixo</td>\n",
              "    </tr>\n",
              "    <tr>\n",
              "      <th>5</th>\n",
              "      <td>desconhecida</td>\n",
              "      <td>baixa</td>\n",
              "      <td>adequada</td>\n",
              "      <td>acima_35</td>\n",
              "      <td>baixo</td>\n",
              "    </tr>\n",
              "    <tr>\n",
              "      <th>6</th>\n",
              "      <td>ruim</td>\n",
              "      <td>baixa</td>\n",
              "      <td>nenhuma</td>\n",
              "      <td>0_15</td>\n",
              "      <td>alto</td>\n",
              "    </tr>\n",
              "    <tr>\n",
              "      <th>7</th>\n",
              "      <td>ruim</td>\n",
              "      <td>baixa</td>\n",
              "      <td>adequada</td>\n",
              "      <td>acima_35</td>\n",
              "      <td>moderado</td>\n",
              "    </tr>\n",
              "    <tr>\n",
              "      <th>8</th>\n",
              "      <td>boa</td>\n",
              "      <td>baixa</td>\n",
              "      <td>nenhuma</td>\n",
              "      <td>acima_35</td>\n",
              "      <td>baixo</td>\n",
              "    </tr>\n",
              "    <tr>\n",
              "      <th>9</th>\n",
              "      <td>boa</td>\n",
              "      <td>alta</td>\n",
              "      <td>adequada</td>\n",
              "      <td>acima_35</td>\n",
              "      <td>baixo</td>\n",
              "    </tr>\n",
              "    <tr>\n",
              "      <th>10</th>\n",
              "      <td>boa</td>\n",
              "      <td>alta</td>\n",
              "      <td>nenhuma</td>\n",
              "      <td>0_15</td>\n",
              "      <td>alto</td>\n",
              "    </tr>\n",
              "    <tr>\n",
              "      <th>11</th>\n",
              "      <td>boa</td>\n",
              "      <td>alta</td>\n",
              "      <td>nenhuma</td>\n",
              "      <td>15_35</td>\n",
              "      <td>moderado</td>\n",
              "    </tr>\n",
              "    <tr>\n",
              "      <th>12</th>\n",
              "      <td>boa</td>\n",
              "      <td>alta</td>\n",
              "      <td>nenhuma</td>\n",
              "      <td>acima_35</td>\n",
              "      <td>baixo</td>\n",
              "    </tr>\n",
              "    <tr>\n",
              "      <th>13</th>\n",
              "      <td>ruim</td>\n",
              "      <td>alta</td>\n",
              "      <td>nenhuma</td>\n",
              "      <td>15_35</td>\n",
              "      <td>alto</td>\n",
              "    </tr>\n",
              "  </tbody>\n",
              "</table>\n",
              "</div>"
            ],
            "text/plain": [
              "        historia divida garantias     renda   c#risco\n",
              "0           ruim   alta   nenhuma      0_15      alto\n",
              "1   desconhecida   alta   nenhuma     15_35      alto\n",
              "2   desconhecida  baixa   nenhuma     15_35  moderado\n",
              "3   desconhecida  baixa   nenhuma  acima_35      alto\n",
              "4   desconhecida  baixa   nenhuma  acima_35     baixo\n",
              "5   desconhecida  baixa  adequada  acima_35     baixo\n",
              "6           ruim  baixa   nenhuma      0_15      alto\n",
              "7           ruim  baixa  adequada  acima_35  moderado\n",
              "8            boa  baixa   nenhuma  acima_35     baixo\n",
              "9            boa   alta  adequada  acima_35     baixo\n",
              "10           boa   alta   nenhuma      0_15      alto\n",
              "11           boa   alta   nenhuma     15_35  moderado\n",
              "12           boa   alta   nenhuma  acima_35     baixo\n",
              "13          ruim   alta   nenhuma     15_35      alto"
            ]
          },
          "metadata": {
            "tags": []
          },
          "execution_count": 105
        }
      ]
    },
    {
      "cell_type": "code",
      "metadata": {
        "id": "PNUL6gRwSD5R"
      },
      "source": [
        "X_risco_credito = base_risco_creidto.iloc[:, 0:4].values\n",
        "y_risco_credito = base_risco_creidto.iloc[:, 4].values"
      ],
      "execution_count": 106,
      "outputs": []
    },
    {
      "cell_type": "code",
      "metadata": {
        "id": "YgL1kvyqSQ_S"
      },
      "source": [
        "# Usando LabelEnconder\n",
        "from sklearn.preprocessing import LabelEncoder\n",
        "\n",
        "labelencoder = LabelEncoder()\n",
        "X_risco_credito[:, 0] = labelencoder.fit_transform(X_risco_credito[:, 0])\n",
        "X_risco_credito[:, 1] = labelencoder.fit_transform(X_risco_credito[:, 1])\n",
        "X_risco_credito[:, 2] = labelencoder.fit_transform(X_risco_credito[:, 2])\n",
        "X_risco_credito[:, 3] = labelencoder.fit_transform(X_risco_credito[:, 3])"
      ],
      "execution_count": 107,
      "outputs": []
    },
    {
      "cell_type": "code",
      "metadata": {
        "id": "BJTR7gwOSnSw"
      },
      "source": [
        "import pickle\n",
        "with open(\"risco_credito.pkl\", \"wb\") as f:\n",
        "  pickle.dump([X_risco_credito, y_risco_credito], f)"
      ],
      "execution_count": 108,
      "outputs": []
    },
    {
      "cell_type": "code",
      "metadata": {
        "colab": {
          "base_uri": "https://localhost:8080/"
        },
        "id": "fO1dQio4S2Ui",
        "outputId": "fd48f878-281f-48d7-da2c-f1d74aa9b73e"
      },
      "source": [
        "naive_risco_credito = GaussianNB()\n",
        "naive_risco_credito.fit(X_risco_credito, y_risco_credito)"
      ],
      "execution_count": 109,
      "outputs": [
        {
          "output_type": "execute_result",
          "data": {
            "text/plain": [
              "GaussianNB(priors=None, var_smoothing=1e-09)"
            ]
          },
          "metadata": {
            "tags": []
          },
          "execution_count": 109
        }
      ]
    },
    {
      "cell_type": "code",
      "metadata": {
        "id": "oYukMEBdS-gB"
      },
      "source": [
        "# história boa (0), dívida alta (0), garantias nenhuma (1), renda > 35 (2)\n",
        "# história ruim (2), dívida alta (0), garantias adequada (0), renda < 15 (0)\n",
        "previsao = naive_risco_credito.predict([[0,0,1,2], [2,0,0,0]])"
      ],
      "execution_count": 110,
      "outputs": []
    },
    {
      "cell_type": "code",
      "metadata": {
        "colab": {
          "base_uri": "https://localhost:8080/"
        },
        "id": "-E-RT5PiTDJK",
        "outputId": "8f659428-54f3-467c-b1c1-a50586a8171e"
      },
      "source": [
        "print(naive_risco_credito.classes_)\n",
        "print(naive_risco_credito.class_count_)\n",
        "print(naive_risco_credito.class_prior_)"
      ],
      "execution_count": 111,
      "outputs": [
        {
          "output_type": "stream",
          "text": [
            "['alto' 'baixo' 'moderado']\n",
            "[6. 5. 3.]\n",
            "[0.42857143 0.35714286 0.21428571]\n"
          ],
          "name": "stdout"
        }
      ]
    },
    {
      "cell_type": "markdown",
      "metadata": {
        "id": "huMK9jlCTcLX"
      },
      "source": [
        "### Base Credito data - 93.80%"
      ]
    },
    {
      "cell_type": "code",
      "metadata": {
        "id": "7vWmULD5TVzq"
      },
      "source": [
        "with open('credit.pkl', 'rb') as f:\n",
        "  X_credit_treinamento, y_credit_treinamento, X_credit_teste, y_credit_teste = pickle.load(f)"
      ],
      "execution_count": 112,
      "outputs": []
    },
    {
      "cell_type": "code",
      "metadata": {
        "colab": {
          "base_uri": "https://localhost:8080/"
        },
        "id": "5Jx0j25LTryK",
        "outputId": "87df11d8-4820-443e-eeb5-4a8ffd9b18ae"
      },
      "source": [
        "X_credit_treinamento.shape, y_credit_treinamento.shape"
      ],
      "execution_count": 113,
      "outputs": [
        {
          "output_type": "execute_result",
          "data": {
            "text/plain": [
              "((1500, 3), (1500,))"
            ]
          },
          "metadata": {
            "tags": []
          },
          "execution_count": 113
        }
      ]
    },
    {
      "cell_type": "code",
      "metadata": {
        "colab": {
          "base_uri": "https://localhost:8080/"
        },
        "id": "erJGsIn0UbFs",
        "outputId": "b742624c-817a-4e0e-d060-da4a4120b08f"
      },
      "source": [
        "X_credit_teste.shape, y_credit_teste.shape"
      ],
      "execution_count": 114,
      "outputs": [
        {
          "output_type": "execute_result",
          "data": {
            "text/plain": [
              "((500, 3), (500,))"
            ]
          },
          "metadata": {
            "tags": []
          },
          "execution_count": 114
        }
      ]
    },
    {
      "cell_type": "code",
      "metadata": {
        "colab": {
          "base_uri": "https://localhost:8080/"
        },
        "id": "VGN4vzP7VCWu",
        "outputId": "fd779809-5ca3-4029-ba97-3d5096d1f112"
      },
      "source": [
        "naive_credit = GaussianNB()\n",
        "naive_credit.fit(X_credit_treinamento, y_credit_treinamento)"
      ],
      "execution_count": 115,
      "outputs": [
        {
          "output_type": "execute_result",
          "data": {
            "text/plain": [
              "GaussianNB(priors=None, var_smoothing=1e-09)"
            ]
          },
          "metadata": {
            "tags": []
          },
          "execution_count": 115
        }
      ]
    },
    {
      "cell_type": "code",
      "metadata": {
        "id": "65WEv2ZGVOib"
      },
      "source": [
        "previsoes = naive_credit.predict(X_credit_teste)"
      ],
      "execution_count": 116,
      "outputs": []
    },
    {
      "cell_type": "code",
      "metadata": {
        "id": "wwx6Mz7oVUc6"
      },
      "source": [
        "from sklearn.metrics import accuracy_score, confusion_matrix, classification_report"
      ],
      "execution_count": 117,
      "outputs": []
    },
    {
      "cell_type": "code",
      "metadata": {
        "colab": {
          "base_uri": "https://localhost:8080/"
        },
        "id": "6zBKtWB_VgQD",
        "outputId": "12251528-7149-4041-bc0c-08664254f514"
      },
      "source": [
        "accuracy_score(y_credit_teste, previsoes)"
      ],
      "execution_count": 118,
      "outputs": [
        {
          "output_type": "execute_result",
          "data": {
            "text/plain": [
              "0.938"
            ]
          },
          "metadata": {
            "tags": []
          },
          "execution_count": 118
        }
      ]
    },
    {
      "cell_type": "code",
      "metadata": {
        "colab": {
          "base_uri": "https://localhost:8080/"
        },
        "id": "ZwqPRshPVlCy",
        "outputId": "5ecbd795-82be-4f2c-cfdf-aedac87ca906"
      },
      "source": [
        "confusion_matrix(y_credit_teste, previsoes)"
      ],
      "execution_count": 119,
      "outputs": [
        {
          "output_type": "execute_result",
          "data": {
            "text/plain": [
              "array([[428,   8],\n",
              "       [ 23,  41]])"
            ]
          },
          "metadata": {
            "tags": []
          },
          "execution_count": 119
        }
      ]
    },
    {
      "cell_type": "code",
      "metadata": {
        "id": "a4Xc9vpPVs3c",
        "colab": {
          "base_uri": "https://localhost:8080/"
        },
        "outputId": "95834a94-6d05-42d4-f9da-8277af126337"
      },
      "source": [
        "from yellowbrick.classifier import ConfusionMatrix"
      ],
      "execution_count": 120,
      "outputs": [
        {
          "output_type": "stream",
          "text": [
            "/usr/local/lib/python3.7/dist-packages/sklearn/utils/deprecation.py:144: FutureWarning:\n",
            "\n",
            "The sklearn.metrics.classification module is  deprecated in version 0.22 and will be removed in version 0.24. The corresponding classes / functions should instead be imported from sklearn.metrics. Anything that cannot be imported from sklearn.metrics is now part of the private API.\n",
            "\n"
          ],
          "name": "stderr"
        }
      ]
    },
    {
      "cell_type": "code",
      "metadata": {
        "colab": {
          "base_uri": "https://localhost:8080/",
          "height": 361
        },
        "id": "xXtMIsGsV2CS",
        "outputId": "600aeab6-cd3d-4326-f6ac-a596f46cede6"
      },
      "source": [
        "cm = ConfusionMatrix(naive_credit)\n",
        "cm.fit(X_credit_treinamento, y_credit_treinamento)\n",
        "cm.score(X_credit_teste, y_credit_teste)"
      ],
      "execution_count": 121,
      "outputs": [
        {
          "output_type": "execute_result",
          "data": {
            "text/plain": [
              "0.938"
            ]
          },
          "metadata": {
            "tags": []
          },
          "execution_count": 121
        },
        {
          "output_type": "display_data",
          "data": {
            "image/png": "[encoded data removed]",
            "text/plain": [
              "<Figure size 576x396 with 1 Axes>"
            ]
          },
          "metadata": {
            "tags": []
          }
        }
      ]
    },
    {
      "cell_type": "code",
      "metadata": {
        "colab": {
          "base_uri": "https://localhost:8080/"
        },
        "id": "ZOrL6K11WAWU",
        "outputId": "30ccdbdb-c223-47a5-cab4-93f4140e6174"
      },
      "source": [
        "print(classification_report(y_credit_teste, previsoes))"
      ],
      "execution_count": 122,
      "outputs": [
        {
          "output_type": "stream",
          "text": [
            "              precision    recall  f1-score   support\n",
            "\n",
            "           0       0.95      0.98      0.97       436\n",
            "           1       0.84      0.64      0.73        64\n",
            "\n",
            "    accuracy                           0.94       500\n",
            "   macro avg       0.89      0.81      0.85       500\n",
            "weighted avg       0.93      0.94      0.93       500\n",
            "\n"
          ],
          "name": "stdout"
        }
      ]
    },
    {
      "cell_type": "code",
      "metadata": {
        "id": "-GrU8TTMWGVD"
      },
      "source": [
        ""
      ],
      "execution_count": 122,
      "outputs": []
    },
    {
      "cell_type": "markdown",
      "metadata": {
        "id": "tLmrB5u4WUld"
      },
      "source": [
        "### Base Census - 79.74%\n",
        "\n"
      ]
    },
    {
      "cell_type": "code",
      "metadata": {
        "id": "pATfSC5nWbIj"
      },
      "source": [
        "with open(\"census.pkl\", \"rb\") as file:\n",
        "  X_census_treinamento, y_census_treinamento, X_census_teste, y_census_teste = pickle.load(file)"
      ],
      "execution_count": 123,
      "outputs": []
    },
    {
      "cell_type": "code",
      "metadata": {
        "colab": {
          "base_uri": "https://localhost:8080/"
        },
        "id": "NU6jJ__eZ8_H",
        "outputId": "12839504-161c-4e69-b2a7-6e2873f0397a"
      },
      "source": [
        "X_census_treinamento.shape, y_census_treinamento.shape"
      ],
      "execution_count": 124,
      "outputs": [
        {
          "output_type": "execute_result",
          "data": {
            "text/plain": [
              "((21815, 108), (21815,))"
            ]
          },
          "metadata": {
            "tags": []
          },
          "execution_count": 124
        }
      ]
    },
    {
      "cell_type": "code",
      "metadata": {
        "colab": {
          "base_uri": "https://localhost:8080/"
        },
        "id": "Do6-klYiaGdi",
        "outputId": "6b7df4cd-b8e1-4b89-e235-e04900da3fa9"
      },
      "source": [
        "X_census_teste.shape, y_census_teste.shape"
      ],
      "execution_count": 125,
      "outputs": [
        {
          "output_type": "execute_result",
          "data": {
            "text/plain": [
              "((10746, 108), (10746,))"
            ]
          },
          "metadata": {
            "tags": []
          },
          "execution_count": 125
        }
      ]
    },
    {
      "cell_type": "code",
      "metadata": {
        "id": "6LHwgF4EXQ3r"
      },
      "source": [
        "naive_census = GaussianNB()"
      ],
      "execution_count": 126,
      "outputs": []
    },
    {
      "cell_type": "code",
      "metadata": {
        "colab": {
          "base_uri": "https://localhost:8080/"
        },
        "id": "y5bdVKUxXdXD",
        "outputId": "399dd6de-b79e-4aac-cd2f-75e2975cf43d"
      },
      "source": [
        "naive_census.fit(X_census_treinamento, y_census_treinamento)"
      ],
      "execution_count": 127,
      "outputs": [
        {
          "output_type": "execute_result",
          "data": {
            "text/plain": [
              "GaussianNB(priors=None, var_smoothing=1e-09)"
            ]
          },
          "metadata": {
            "tags": []
          },
          "execution_count": 127
        }
      ]
    },
    {
      "cell_type": "code",
      "metadata": {
        "colab": {
          "base_uri": "https://localhost:8080/"
        },
        "id": "QAMfZNd8XjZL",
        "outputId": "d335ce49-b093-402d-ef39-11b8feb4e914"
      },
      "source": [
        "previssoes_census = naive_census.predict(X_census_teste)\n",
        "previssoes_census"
      ],
      "execution_count": 128,
      "outputs": [
        {
          "output_type": "execute_result",
          "data": {
            "text/plain": [
              "array([' >50K', ' >50K', ' >50K', ..., ' >50K', ' >50K', ' >50K'],\n",
              "      dtype='<U6')"
            ]
          },
          "metadata": {
            "tags": []
          },
          "execution_count": 128
        }
      ]
    },
    {
      "cell_type": "code",
      "metadata": {
        "colab": {
          "base_uri": "https://localhost:8080/"
        },
        "id": "CBba5b1yYk48",
        "outputId": "f9605e23-7313-4e54-914e-b6b17b63ab4b"
      },
      "source": [
        "accuracy_score(y_census_teste, previssoes_census)"
      ],
      "execution_count": 129,
      "outputs": [
        {
          "output_type": "execute_result",
          "data": {
            "text/plain": [
              "0.4892052856876977"
            ]
          },
          "metadata": {
            "tags": []
          },
          "execution_count": 129
        }
      ]
    },
    {
      "cell_type": "code",
      "metadata": {
        "colab": {
          "base_uri": "https://localhost:8080/",
          "height": 0
        },
        "id": "4U5X8jR5Yzns",
        "outputId": "ef8580f3-4b3e-4d71-cad5-0024890fb0fc"
      },
      "source": [
        "cm = ConfusionMatrix(naive_census)\n",
        "cm.fit(X_census_treinamento, y_census_treinamento)\n",
        "cm.score(X_census_teste, y_census_teste)"
      ],
      "execution_count": 130,
      "outputs": [
        {
          "output_type": "execute_result",
          "data": {
            "text/plain": [
              "0.4892052856876977"
            ]
          },
          "metadata": {
            "tags": []
          },
          "execution_count": 130
        },
        {
          "output_type": "display_data",
          "data": {
            "image/png": "[encoded data removed]",
            "text/plain": [
              "<Figure size 576x396 with 1 Axes>"
            ]
          },
          "metadata": {
            "tags": []
          }
        }
      ]
    },
    {
      "cell_type": "code",
      "metadata": {
        "colab": {
          "base_uri": "https://localhost:8080/"
        },
        "id": "mUNt9yyaZrBo",
        "outputId": "74295762-fd8b-45b1-fc95-56238c701259"
      },
      "source": [
        "print(classification_report(y_census_teste, previssoes_census))"
      ],
      "execution_count": 131,
      "outputs": [
        {
          "output_type": "stream",
          "text": [
            "              precision    recall  f1-score   support\n",
            "\n",
            "       <=50K       0.97      0.34      0.50      8151\n",
            "        >50K       0.32      0.97      0.48      2595\n",
            "\n",
            "    accuracy                           0.49     10746\n",
            "   macro avg       0.64      0.65      0.49     10746\n",
            "weighted avg       0.81      0.49      0.49     10746\n",
            "\n"
          ],
          "name": "stdout"
        }
      ]
    },
    {
      "cell_type": "markdown",
      "metadata": {
        "id": "9GzxMG8wamwJ"
      },
      "source": [
        "## Árvore de Decisão"
      ]
    },
    {
      "cell_type": "code",
      "metadata": {
        "id": "K9cGd8w7btXJ"
      },
      "source": [
        "from sklearn.tree import DecisionTreeClassifier"
      ],
      "execution_count": 132,
      "outputs": []
    },
    {
      "cell_type": "markdown",
      "metadata": {
        "id": "2idfhTNMbmz8"
      },
      "source": [
        "#### Base Risco Crédito"
      ]
    },
    {
      "cell_type": "code",
      "metadata": {
        "id": "si2x0TelaSIF"
      },
      "source": [
        "import pickle\n",
        "with open(\"risco_credito.pkl\", \"rb\") as file:\n",
        "    X_risco_credito, y_risco_credito = pickle.load(file)"
      ],
      "execution_count": 133,
      "outputs": []
    },
    {
      "cell_type": "code",
      "metadata": {
        "colab": {
          "base_uri": "https://localhost:8080/"
        },
        "id": "Pg53kyyacQXN",
        "outputId": "fab67400-4bc8-461b-e611-872820274ebc"
      },
      "source": [
        "X_risco_credito"
      ],
      "execution_count": 134,
      "outputs": [
        {
          "output_type": "execute_result",
          "data": {
            "text/plain": [
              "array([[2, 0, 1, 0],\n",
              "       [1, 0, 1, 1],\n",
              "       [1, 1, 1, 1],\n",
              "       [1, 1, 1, 2],\n",
              "       [1, 1, 1, 2],\n",
              "       [1, 1, 0, 2],\n",
              "       [2, 1, 1, 0],\n",
              "       [2, 1, 0, 2],\n",
              "       [0, 1, 1, 2],\n",
              "       [0, 0, 0, 2],\n",
              "       [0, 0, 1, 0],\n",
              "       [0, 0, 1, 1],\n",
              "       [0, 0, 1, 2],\n",
              "       [2, 0, 1, 1]], dtype=object)"
            ]
          },
          "metadata": {
            "tags": []
          },
          "execution_count": 134
        }
      ]
    },
    {
      "cell_type": "code",
      "metadata": {
        "id": "8VYu4mAscWkd"
      },
      "source": [
        "arvores_risco_credito = DecisionTreeClassifier(criterion= \"entropy\", random_state = 0)"
      ],
      "execution_count": 148,
      "outputs": []
    },
    {
      "cell_type": "code",
      "metadata": {
        "colab": {
          "base_uri": "https://localhost:8080/"
        },
        "id": "HeT4YZswcfNm",
        "outputId": "65fbe087-c5a5-4771-bdde-3afc2c0bb20f"
      },
      "source": [
        "arvores_risco_credito.fit(X_risco_credito, y_risco_credito)"
      ],
      "execution_count": 149,
      "outputs": [
        {
          "output_type": "execute_result",
          "data": {
            "text/plain": [
              "DecisionTreeClassifier(ccp_alpha=0.0, class_weight=None, criterion='entropy',\n",
              "                       max_depth=None, max_features=None, max_leaf_nodes=None,\n",
              "                       min_impurity_decrease=0.0, min_impurity_split=None,\n",
              "                       min_samples_leaf=1, min_samples_split=2,\n",
              "                       min_weight_fraction_leaf=0.0, presort='deprecated',\n",
              "                       random_state=0, splitter='best')"
            ]
          },
          "metadata": {
            "tags": []
          },
          "execution_count": 149
        }
      ]
    },
    {
      "cell_type": "code",
      "metadata": {
        "colab": {
          "base_uri": "https://localhost:8080/"
        },
        "id": "qJ94perAckYV",
        "outputId": "8b92fd10-78c8-4286-c390-6cf40f5f609c"
      },
      "source": [
        "# Importancia de cada feature\n",
        "arvores_risco_credito.feature_importances_"
      ],
      "execution_count": 137,
      "outputs": [
        {
          "output_type": "execute_result",
          "data": {
            "text/plain": [
              "array([0.41607015, 0.10294068, 0.03885431, 0.44213486])"
            ]
          },
          "metadata": {
            "tags": []
          },
          "execution_count": 137
        }
      ]
    },
    {
      "cell_type": "code",
      "metadata": {
        "colab": {
          "base_uri": "https://localhost:8080/"
        },
        "id": "0vdRALCxcsxF",
        "outputId": "a984f738-c159-4c00-b4f7-76d467bb33b3"
      },
      "source": [
        "arvores_risco_credito.classes_"
      ],
      "execution_count": 138,
      "outputs": [
        {
          "output_type": "execute_result",
          "data": {
            "text/plain": [
              "array(['alto', 'baixo', 'moderado'], dtype=object)"
            ]
          },
          "metadata": {
            "tags": []
          },
          "execution_count": 138
        }
      ]
    },
    {
      "cell_type": "code",
      "metadata": {
        "colab": {
          "base_uri": "https://localhost:8080/",
          "height": 575
        },
        "id": "z90ZT-MfcvXV",
        "outputId": "535f961a-2740-46ea-d8bb-a7df8f356c34"
      },
      "source": [
        "# Vizualiando a árvores\n",
        "from sklearn import tree\n",
        "previsores = [\"historia\", \"divida\", \"garantias\", \"renda\"]\n",
        "figura, eixos = plt.subplots(nrows = 1, ncols = 1, figsize=(10,10))\n",
        "tree.plot_tree(arvores_risco_credito, feature_names = previsores, class_names = arvores_risco_credito.classes_, filled=True)\n",
        "plt.show()"
      ],
      "execution_count": 139,
      "outputs": [
        {
          "output_type": "display_data",
          "data": {
            "image/png": "[encoded data removed]",
            "text/plain": [
              "<Figure size 720x720 with 1 Axes>"
            ]
          },
          "metadata": {
            "tags": []
          }
        }
      ]
    },
    {
      "cell_type": "code",
      "metadata": {
        "colab": {
          "base_uri": "https://localhost:8080/"
        },
        "id": "7WkcYxTSczpF",
        "outputId": "fbcc0d09-eb35-4763-80c9-5eeb79fbfbd8"
      },
      "source": [
        "# história boa, dívida alta, garantias nenhuma, renda > 35\n",
        "# história ruim, dívida alta, garantias adequada, renda < 15\n",
        "previsoes = arvores_risco_credito.predict([[0,0,1,2],[2,0,0,0]])\n",
        "previsoes"
      ],
      "execution_count": 140,
      "outputs": [
        {
          "output_type": "execute_result",
          "data": {
            "text/plain": [
              "array(['baixo', 'alto'], dtype=object)"
            ]
          },
          "metadata": {
            "tags": []
          },
          "execution_count": 140
        }
      ]
    },
    {
      "cell_type": "markdown",
      "metadata": {
        "id": "NzivwVXYeH8h"
      },
      "source": [
        "### Base Credito Data - 0.98"
      ]
    },
    {
      "cell_type": "code",
      "metadata": {
        "id": "m8l-YsmTeE8u"
      },
      "source": [
        "from sklearn.tree import DecisionTreeClassifier"
      ],
      "execution_count": 141,
      "outputs": []
    },
    {
      "cell_type": "code",
      "metadata": {
        "id": "KDKcuwcJWDWy"
      },
      "source": [
        "import pickle\n",
        "with open(\"credit.pkl\", \"rb\") as f:\n",
        "  X_credit_treinamento, y_credit_treinamento, X_credit_teste, y_credit_teste = pickle.load(f)"
      ],
      "execution_count": 144,
      "outputs": []
    },
    {
      "cell_type": "code",
      "metadata": {
        "id": "t8PZ7GOedk6H"
      },
      "source": [
        ""
      ],
      "execution_count": null,
      "outputs": []
    },
    {
      "cell_type": "code",
      "metadata": {
        "colab": {
          "base_uri": "https://localhost:8080/"
        },
        "id": "TttwNNt9XI4c",
        "outputId": "338a022c-b332-4823-f117-1a674815a147"
      },
      "source": [
        "arvores_credito = DecisionTreeClassifier(criterion = 'entropy', random_state = 0)\n",
        "arvores_credito.fit(X_credit_treinamento, y_credit_treinamento)"
      ],
      "execution_count": 147,
      "outputs": [
        {
          "output_type": "execute_result",
          "data": {
            "text/plain": [
              "DecisionTreeClassifier(ccp_alpha=0.0, class_weight=None, criterion='entropy',\n",
              "                       max_depth=None, max_features=None, max_leaf_nodes=None,\n",
              "                       min_impurity_decrease=0.0, min_impurity_split=None,\n",
              "                       min_samples_leaf=1, min_samples_split=2,\n",
              "                       min_weight_fraction_leaf=0.0, presort='deprecated',\n",
              "                       random_state=0, splitter='best')"
            ]
          },
          "metadata": {
            "tags": []
          },
          "execution_count": 147
        }
      ]
    },
    {
      "cell_type": "code",
      "metadata": {
        "id": "9iDg1T7NYUmE"
      },
      "source": [
        "previssoes = arvores_credito.predict(X_credit_teste)"
      ],
      "execution_count": 150,
      "outputs": []
    },
    {
      "cell_type": "code",
      "metadata": {
        "colab": {
          "base_uri": "https://localhost:8080/",
          "height": 361
        },
        "id": "rMJvhJTpYaLm",
        "outputId": "92856a72-7179-4fec-f099-a3a093594c7a"
      },
      "source": [
        "from sklearn.metrics import accuracy_score, classification_report\n",
        "cm = ConfusionMatrix(arvores_credito)\n",
        "cm.fit = (X_credit_treinamento, y_credit_treinamento)\n",
        "cm.score(X_credit_teste, y_teste_credit)\n"
      ],
      "execution_count": 152,
      "outputs": [
        {
          "output_type": "execute_result",
          "data": {
            "text/plain": [
              "0.982"
            ]
          },
          "metadata": {
            "tags": []
          },
          "execution_count": 152
        },
        {
          "output_type": "display_data",
          "data": {
            "image/png": "[encoded data removed]",
            "text/plain": [
              "<Figure size 576x396 with 1 Axes>"
            ]
          },
          "metadata": {
            "tags": []
          }
        }
      ]
    },
    {
      "cell_type": "code",
      "metadata": {
        "colab": {
          "base_uri": "https://localhost:8080/"
        },
        "id": "gCPxev19Z90g",
        "outputId": "557d9838-9bc5-49c3-bf0a-e7285911b375"
      },
      "source": [
        "print(classification_report(y_teste_credit, previssoes))"
      ],
      "execution_count": 153,
      "outputs": [
        {
          "output_type": "stream",
          "text": [
            "              precision    recall  f1-score   support\n",
            "\n",
            "           0       0.99      0.99      0.99       436\n",
            "           1       0.91      0.95      0.93        64\n",
            "\n",
            "    accuracy                           0.98       500\n",
            "   macro avg       0.95      0.97      0.96       500\n",
            "weighted avg       0.98      0.98      0.98       500\n",
            "\n"
          ],
          "name": "stdout"
        }
      ]
    },
    {
      "cell_type": "code",
      "metadata": {
        "colab": {
          "base_uri": "https://localhost:8080/",
          "height": 1000
        },
        "id": "P7k4ZygUaKye",
        "outputId": "52976dc5-c6c6-4033-8a83-0ec97b36bb2a"
      },
      "source": [
        "from sklearn import tree\n",
        "previsores = ['income', 'age', 'loan']\n",
        "fig, axes = plt.subplots(nrows = 1,ncols = 1,figsize = (20,20))\n",
        "tree.plot_tree(arvores_credito, feature_names=previsores, class_names=['0','1'], filled=True);\n",
        "fig.savefig('arvore_credit.png')"
      ],
      "execution_count": 154,
      "outputs": [
        {
          "output_type": "display_data",
          "data": {
            "image/png": "[encoded data removed]",
            "text/plain": [
              "<Figure size 1440x1440 with 1 Axes>"
            ]
          },
          "metadata": {
            "tags": []
          }
        }
      ]
    },
    {
      "cell_type": "markdown",
      "metadata": {
        "id": "Z1PF7PL8aio1"
      },
      "source": [
        "### Base Census 81.13%"
      ]
    },
    {
      "cell_type": "code",
      "metadata": {
        "id": "E6nqH9hqauBH"
      },
      "source": [
        "with open(\"census.pkl\", \"rb\") as f:\n",
        "  X_census_treinamento, y_census_treinamento, X_census_teste, y_census_teste = pickle.load(f)"
      ],
      "execution_count": 157,
      "outputs": []
    },
    {
      "cell_type": "code",
      "metadata": {
        "colab": {
          "base_uri": "https://localhost:8080/"
        },
        "id": "iZ0PFqFacVoY",
        "outputId": "38340c76-fe0d-4d31-829b-0bc01072c191"
      },
      "source": [
        "X_census_treinamento.shape"
      ],
      "execution_count": 166,
      "outputs": [
        {
          "output_type": "execute_result",
          "data": {
            "text/plain": [
              "(21815, 108)"
            ]
          },
          "metadata": {
            "tags": []
          },
          "execution_count": 166
        }
      ]
    },
    {
      "cell_type": "code",
      "metadata": {
        "colab": {
          "base_uri": "https://localhost:8080/"
        },
        "id": "jkL_Zb7iccWi",
        "outputId": "1736e6b1-67cd-45d1-ebce-a10e6db4a08a"
      },
      "source": [
        "X_census_teste.shape"
      ],
      "execution_count": 167,
      "outputs": [
        {
          "output_type": "execute_result",
          "data": {
            "text/plain": [
              "(10746, 108)"
            ]
          },
          "metadata": {
            "tags": []
          },
          "execution_count": 167
        }
      ]
    },
    {
      "cell_type": "code",
      "metadata": {
        "colab": {
          "base_uri": "https://localhost:8080/"
        },
        "id": "6WL-E0lKbAPG",
        "outputId": "e8cedf35-b21b-4e19-e4ff-32322be17811"
      },
      "source": [
        "arvore_census = DecisionTreeClassifier(criterion='entropy', random_state=0)\n",
        "arvore_census.fit(X_census_treinamento, y_census_treinamento)"
      ],
      "execution_count": 161,
      "outputs": [
        {
          "output_type": "execute_result",
          "data": {
            "text/plain": [
              "DecisionTreeClassifier(ccp_alpha=0.0, class_weight=None, criterion='entropy',\n",
              "                       max_depth=None, max_features=None, max_leaf_nodes=None,\n",
              "                       min_impurity_decrease=0.0, min_impurity_split=None,\n",
              "                       min_samples_leaf=1, min_samples_split=2,\n",
              "                       min_weight_fraction_leaf=0.0, presort='deprecated',\n",
              "                       random_state=0, splitter='best')"
            ]
          },
          "metadata": {
            "tags": []
          },
          "execution_count": 161
        }
      ]
    },
    {
      "cell_type": "code",
      "metadata": {
        "id": "kPJSvfE-bcI2"
      },
      "source": [
        "previssoes = arvore_census.predict(X_census_teste)"
      ],
      "execution_count": 163,
      "outputs": []
    },
    {
      "cell_type": "code",
      "metadata": {
        "colab": {
          "base_uri": "https://localhost:8080/"
        },
        "id": "T27aNjNHbmaX",
        "outputId": "73dffcf8-fee7-4a77-aca3-74d25a81c17c"
      },
      "source": [
        "accuracy_score(y_census_teste, previssoes)"
      ],
      "execution_count": 164,
      "outputs": [
        {
          "output_type": "execute_result",
          "data": {
            "text/plain": [
              "0.8136981202307836"
            ]
          },
          "metadata": {
            "tags": []
          },
          "execution_count": 164
        }
      ]
    },
    {
      "cell_type": "code",
      "metadata": {
        "colab": {
          "base_uri": "https://localhost:8080/",
          "height": 393
        },
        "id": "O_-Rm8njb44P",
        "outputId": "5c4fdb79-08a2-4c28-9314-55e9c48c265d"
      },
      "source": [
        "cm = ConfusionMatrix(arvore_census)\n",
        "cm.fit(X_census_treinamento, y_census_treinamento)\n",
        "cm.score(X_census_teste, y_census_teste)"
      ],
      "execution_count": 165,
      "outputs": [
        {
          "output_type": "execute_result",
          "data": {
            "text/plain": [
              "0.8136981202307836"
            ]
          },
          "metadata": {
            "tags": []
          },
          "execution_count": 165
        },
        {
          "output_type": "display_data",
          "data": {
            "image/png": "[encoded data removed]",
            "text/plain": [
              "<Figure size 576x396 with 1 Axes>"
            ]
          },
          "metadata": {
            "tags": []
          }
        }
      ]
    },
    {
      "cell_type": "code",
      "metadata": {
        "id": "fXpx5X7ncOCW"
      },
      "source": [
        ""
      ],
      "execution_count": null,
      "outputs": []
    },
    {
      "cell_type": "markdown",
      "metadata": {
        "id": "bQg1CrKLclwo"
      },
      "source": [
        "## Random Forest"
      ]
    },
    {
      "cell_type": "code",
      "metadata": {
        "id": "7PPEUs4Ccnl1"
      },
      "source": [
        "from sklearn.ensemble import RandomForestClassifier"
      ],
      "execution_count": 168,
      "outputs": []
    },
    {
      "cell_type": "markdown",
      "metadata": {
        "id": "8ytH86AocvCB"
      },
      "source": [
        "### Base Credit Data - 98.4%\n",
        "\n"
      ]
    },
    {
      "cell_type": "code",
      "metadata": {
        "id": "Bg2FEGbrct7W"
      },
      "source": [
        "import pickle\n",
        "with open(\"credit.pkl\", \"rb\") as f:\n",
        "  X_credit_treinamento, y_credit_treinamento, X_credit_teste, y_credit_teste = pickle.load(f)"
      ],
      "execution_count": 171,
      "outputs": []
    },
    {
      "cell_type": "code",
      "metadata": {
        "colab": {
          "base_uri": "https://localhost:8080/"
        },
        "id": "oTgqSjyhc3Gf",
        "outputId": "1657ca5c-db8d-4cda-c52b-08410950bc7b"
      },
      "source": [
        "forest_credit = RandomForestClassifier(n_estimators=40, criterion='entropy', random_state = 0)\n",
        "forest_credit.fit(X_credit_treinamento, y_credit_treinamento)"
      ],
      "execution_count": 174,
      "outputs": [
        {
          "output_type": "execute_result",
          "data": {
            "text/plain": [
              "RandomForestClassifier(bootstrap=True, ccp_alpha=0.0, class_weight=None,\n",
              "                       criterion='entropy', max_depth=None, max_features='auto',\n",
              "                       max_leaf_nodes=None, max_samples=None,\n",
              "                       min_impurity_decrease=0.0, min_impurity_split=None,\n",
              "                       min_samples_leaf=1, min_samples_split=2,\n",
              "                       min_weight_fraction_leaf=0.0, n_estimators=40,\n",
              "                       n_jobs=None, oob_score=False, random_state=0, verbose=0,\n",
              "                       warm_start=False)"
            ]
          },
          "metadata": {
            "tags": []
          },
          "execution_count": 174
        }
      ]
    },
    {
      "cell_type": "code",
      "metadata": {
        "id": "iRrnA6VTdvhS"
      },
      "source": [
        "previsoes = forest_credit.predict(X_credit_teste)"
      ],
      "execution_count": 179,
      "outputs": []
    },
    {
      "cell_type": "code",
      "metadata": {
        "colab": {
          "base_uri": "https://localhost:8080/"
        },
        "id": "ZTeGJzGAefun",
        "outputId": "41a8f2f9-b95e-48e3-e172-ac5430fcfb7a"
      },
      "source": [
        "from sklearn.metrics import accuracy_score, classification_report\n",
        "accuracy_score(y_credit_teste, previsoes) # padronização"
      ],
      "execution_count": 180,
      "outputs": [
        {
          "output_type": "execute_result",
          "data": {
            "text/plain": [
              "0.984"
            ]
          },
          "metadata": {
            "tags": []
          },
          "execution_count": 180
        }
      ]
    },
    {
      "cell_type": "code",
      "metadata": {
        "colab": {
          "base_uri": "https://localhost:8080/",
          "height": 361
        },
        "id": "39TAgq47epfl",
        "outputId": "adc7c5df-094b-4e0b-80ca-a073a2b21663"
      },
      "source": [
        "from yellowbrick.classifier import ConfusionMatrix\n",
        "cm = ConfusionMatrix(forest_credit)\n",
        "cm.fit(X_credit_treinamento, y_credit_treinamento)\n",
        "cm.score(X_credit_teste, y_credit_teste)"
      ],
      "execution_count": 181,
      "outputs": [
        {
          "output_type": "execute_result",
          "data": {
            "text/plain": [
              "0.984"
            ]
          },
          "metadata": {
            "tags": []
          },
          "execution_count": 181
        },
        {
          "output_type": "display_data",
          "data": {
            "image/png": "[encoded data removed]",
            "text/plain": [
              "<Figure size 576x396 with 1 Axes>"
            ]
          },
          "metadata": {
            "tags": []
          }
        }
      ]
    },
    {
      "cell_type": "code",
      "metadata": {
        "colab": {
          "base_uri": "https://localhost:8080/"
        },
        "id": "GOtVLm0he85f",
        "outputId": "c93caf84-9413-4630-b13d-a786a1b5d6c2"
      },
      "source": [
        "print(classification_report(y_credit_teste, previsoes))"
      ],
      "execution_count": 182,
      "outputs": [
        {
          "output_type": "stream",
          "text": [
            "              precision    recall  f1-score   support\n",
            "\n",
            "           0       0.99      0.99      0.99       436\n",
            "           1       0.95      0.92      0.94        64\n",
            "\n",
            "    accuracy                           0.98       500\n",
            "   macro avg       0.97      0.96      0.96       500\n",
            "weighted avg       0.98      0.98      0.98       500\n",
            "\n"
          ],
          "name": "stdout"
        }
      ]
    },
    {
      "cell_type": "markdown",
      "metadata": {
        "id": "cCxuwhqlfHrb"
      },
      "source": [
        "### Base Census - 85.39%"
      ]
    },
    {
      "cell_type": "code",
      "metadata": {
        "id": "Pd6ZwQnkfFMg"
      },
      "source": [
        "with open(\"census.pkl\", \"rb\") as f:\n",
        "  X_census_treinamento, y_census_treinamento, X_census_teste, y_census_teste = pickle.load(f)"
      ],
      "execution_count": 183,
      "outputs": []
    },
    {
      "cell_type": "code",
      "metadata": {
        "id": "6gycH7AegIt_"
      },
      "source": [
        "forest_census = RandomForestClassifier(n_estimators=100,\n",
        "                                       criterion = \"entropy\",\n",
        "                                       random_state = 0)"
      ],
      "execution_count": 184,
      "outputs": []
    },
    {
      "cell_type": "code",
      "metadata": {
        "colab": {
          "base_uri": "https://localhost:8080/"
        },
        "id": "tnrRkTiIg04P",
        "outputId": "4e867096-556b-4e20-f7b2-d56d298bbdd7"
      },
      "source": [
        "forest_census.fit(X_census_treinamento, y_census_treinamento)"
      ],
      "execution_count": 186,
      "outputs": [
        {
          "output_type": "execute_result",
          "data": {
            "text/plain": [
              "RandomForestClassifier(bootstrap=True, ccp_alpha=0.0, class_weight=None,\n",
              "                       criterion='entropy', max_depth=None, max_features='auto',\n",
              "                       max_leaf_nodes=None, max_samples=None,\n",
              "                       min_impurity_decrease=0.0, min_impurity_split=None,\n",
              "                       min_samples_leaf=1, min_samples_split=2,\n",
              "                       min_weight_fraction_leaf=0.0, n_estimators=100,\n",
              "                       n_jobs=None, oob_score=False, random_state=0, verbose=0,\n",
              "                       warm_start=False)"
            ]
          },
          "metadata": {
            "tags": []
          },
          "execution_count": 186
        }
      ]
    },
    {
      "cell_type": "code",
      "metadata": {
        "id": "KiajGj10g_Gx"
      },
      "source": [
        "previsoes = forest_census.predict(X_census_teste)"
      ],
      "execution_count": 188,
      "outputs": []
    },
    {
      "cell_type": "code",
      "metadata": {
        "colab": {
          "base_uri": "https://localhost:8080/"
        },
        "id": "wSJgcdZkhJnv",
        "outputId": "c7a6358b-0259-4c5b-dcf4-215d460355b3"
      },
      "source": [
        "accuracy_score(y_census_teste, previsoes)"
      ],
      "execution_count": 189,
      "outputs": [
        {
          "output_type": "execute_result",
          "data": {
            "text/plain": [
              "0.8539921831379118"
            ]
          },
          "metadata": {
            "tags": []
          },
          "execution_count": 189
        }
      ]
    },
    {
      "cell_type": "code",
      "metadata": {
        "colab": {
          "base_uri": "https://localhost:8080/",
          "height": 393
        },
        "id": "qo0q9kNFhddy",
        "outputId": "7189d1b0-8928-41d4-d6a2-dec7c923ac7e"
      },
      "source": [
        "cm = ConfusionMatrix(forest_census)\n",
        "cm.fit(X_census_treinamento, y_census_treinamento)\n",
        "cm.score(X_census_teste, y_census_teste)"
      ],
      "execution_count": 191,
      "outputs": [
        {
          "output_type": "execute_result",
          "data": {
            "text/plain": [
              "0.8539921831379118"
            ]
          },
          "metadata": {
            "tags": []
          },
          "execution_count": 191
        },
        {
          "output_type": "display_data",
          "data": {
            "image/png": "[encoded data removed]",
            "text/plain": [
              "<Figure size 576x396 with 1 Axes>"
            ]
          },
          "metadata": {
            "tags": []
          }
        }
      ]
    },
    {
      "cell_type": "markdown",
      "metadata": {
        "id": "LKgUm9v5iYMd"
      },
      "source": [
        "## Regras"
      ]
    },
    {
      "cell_type": "markdown",
      "metadata": {
        "id": "UctjiA31idv7"
      },
      "source": [
        "## KNN - K Nearest Neighbor"
      ]
    },
    {
      "cell_type": "code",
      "metadata": {
        "id": "yI2xtn6xh_lY"
      },
      "source": [
        "from sklearn.neighbors import KNeighborsClassifier"
      ],
      "execution_count": 192,
      "outputs": []
    },
    {
      "cell_type": "markdown",
      "metadata": {
        "id": "ZoQxfYWWlG5e"
      },
      "source": [
        "### Base Credit - 98.6%"
      ]
    },
    {
      "cell_type": "code",
      "metadata": {
        "id": "vL5KYER7jOS9"
      },
      "source": [
        "import pickle\n",
        "with open('credit.pkl', 'rb') as f:  \n",
        "  X_credit_treinamento, y_credit_treinamento, X_credit_teste, y_credit_teste = pickle.load(f)"
      ],
      "execution_count": 193,
      "outputs": []
    },
    {
      "cell_type": "code",
      "metadata": {
        "colab": {
          "base_uri": "https://localhost:8080/"
        },
        "id": "ElyytigljVSQ",
        "outputId": "a4f8be0c-557f-4570-8c7b-08f1832d8ee5"
      },
      "source": [
        "knn_credit = KNeighborsClassifier(n_neighbors = 5, metric = \"minkowski\", p = 2)\n",
        "knn_credit.fit(X_credit_treinamento, y_credit_treinamento)"
      ],
      "execution_count": 194,
      "outputs": [
        {
          "output_type": "execute_result",
          "data": {
            "text/plain": [
              "KNeighborsClassifier(algorithm='auto', leaf_size=30, metric='minkowski',\n",
              "                     metric_params=None, n_jobs=None, n_neighbors=5, p=2,\n",
              "                     weights='uniform')"
            ]
          },
          "metadata": {
            "tags": []
          },
          "execution_count": 194
        }
      ]
    },
    {
      "cell_type": "code",
      "metadata": {
        "id": "XScXaGWejrR5"
      },
      "source": [
        "previsoes = knn_credit.predict(X_teste_credit)"
      ],
      "execution_count": 195,
      "outputs": []
    },
    {
      "cell_type": "code",
      "metadata": {
        "colab": {
          "base_uri": "https://localhost:8080/"
        },
        "id": "bDVTdZfqjwIp",
        "outputId": "ecc66586-7ea4-4e9f-89bd-5073b401be81"
      },
      "source": [
        "from sklearn.metrics import accuracy_score, classification_report\n",
        "accuracy_score(y_credit_teste, previsoes) # padronização"
      ],
      "execution_count": 196,
      "outputs": [
        {
          "output_type": "execute_result",
          "data": {
            "text/plain": [
              "0.986"
            ]
          },
          "metadata": {
            "tags": []
          },
          "execution_count": 196
        }
      ]
    },
    {
      "cell_type": "code",
      "metadata": {
        "colab": {
          "base_uri": "https://localhost:8080/",
          "height": 361
        },
        "id": "OedlvB2Fjz2q",
        "outputId": "0b270e08-35a7-4d48-cfac-d9acf0b27f35"
      },
      "source": [
        "from yellowbrick.classifier import ConfusionMatrix\n",
        "cm = ConfusionMatrix(knn_credit)\n",
        "cm.fit(X_credit_treinamento, y_credit_treinamento)\n",
        "cm.score(X_credit_teste, y_credit_teste)"
      ],
      "execution_count": 197,
      "outputs": [
        {
          "output_type": "execute_result",
          "data": {
            "text/plain": [
              "0.986"
            ]
          },
          "metadata": {
            "tags": []
          },
          "execution_count": 197
        },
        {
          "output_type": "display_data",
          "data": {
            "image/png": "[encoded data removed]",
            "text/plain": [
              "<Figure size 576x396 with 1 Axes>"
            ]
          },
          "metadata": {
            "tags": []
          }
        }
      ]
    },
    {
      "cell_type": "code",
      "metadata": {
        "colab": {
          "base_uri": "https://localhost:8080/"
        },
        "id": "SRyQkmykkJAy",
        "outputId": "e23a8e1b-edcf-414e-bad1-93a9b9beaeb7"
      },
      "source": [
        "print(classification_report(y_credit_teste, previsoes))"
      ],
      "execution_count": 198,
      "outputs": [
        {
          "output_type": "stream",
          "text": [
            "              precision    recall  f1-score   support\n",
            "\n",
            "           0       0.99      0.99      0.99       436\n",
            "           1       0.94      0.95      0.95        64\n",
            "\n",
            "    accuracy                           0.99       500\n",
            "   macro avg       0.97      0.97      0.97       500\n",
            "weighted avg       0.99      0.99      0.99       500\n",
            "\n"
          ],
          "name": "stdout"
        }
      ]
    },
    {
      "cell_type": "markdown",
      "metadata": {
        "id": "dXpNeIVjkNt4"
      },
      "source": [
        "### Base Census - 82.28%"
      ]
    },
    {
      "cell_type": "code",
      "metadata": {
        "id": "ZRjzPxoKkMoK"
      },
      "source": [
        "with open(\"census.pkl\", \"rb\") as f:\n",
        "    X_census_treinamento, y_census_treinamento, X_census_teste, y_census_teste = pickle.load(f)"
      ],
      "execution_count": 199,
      "outputs": []
    },
    {
      "cell_type": "code",
      "metadata": {
        "colab": {
          "base_uri": "https://localhost:8080/"
        },
        "id": "H4cPCj5Qka9C",
        "outputId": "667df6ce-9529-4ca2-89e7-0c114c48dcfa"
      },
      "source": [
        "knn_census = KNeighborsClassifier(n_neighbors = 5)\n",
        "knn_census.fit(X_census_treinamento, y_census_treinamento)"
      ],
      "execution_count": 200,
      "outputs": [
        {
          "output_type": "execute_result",
          "data": {
            "text/plain": [
              "KNeighborsClassifier(algorithm='auto', leaf_size=30, metric='minkowski',\n",
              "                     metric_params=None, n_jobs=None, n_neighbors=5, p=2,\n",
              "                     weights='uniform')"
            ]
          },
          "metadata": {
            "tags": []
          },
          "execution_count": 200
        }
      ]
    },
    {
      "cell_type": "code",
      "metadata": {
        "id": "SuEdbFApkpmR"
      },
      "source": [
        "previsoes = knn_census.predict(X_census_teste)"
      ],
      "execution_count": 201,
      "outputs": []
    },
    {
      "cell_type": "code",
      "metadata": {
        "colab": {
          "base_uri": "https://localhost:8080/"
        },
        "id": "sm2Eiq2KkvmZ",
        "outputId": "0fbe82d9-f5cb-4270-cef4-bd8251661dc4"
      },
      "source": [
        "accuracy_score(y_census_teste, previsoes)"
      ],
      "execution_count": 202,
      "outputs": [
        {
          "output_type": "execute_result",
          "data": {
            "text/plain": [
              "0.8228177926670389"
            ]
          },
          "metadata": {
            "tags": []
          },
          "execution_count": 202
        }
      ]
    },
    {
      "cell_type": "code",
      "metadata": {
        "colab": {
          "base_uri": "https://localhost:8080/",
          "height": 393
        },
        "id": "sEcbPpfZlBgR",
        "outputId": "5447bf90-439f-4a78-f401-5d64bf842f51"
      },
      "source": [
        "cm = ConfusionMatrix(knn_census)\n",
        "cm.fit(X_census_treinamento, y_census_treinamento)\n",
        "cm.score(X_census_teste, y_census_teste)"
      ],
      "execution_count": 203,
      "outputs": [
        {
          "output_type": "execute_result",
          "data": {
            "text/plain": [
              "0.8228177926670389"
            ]
          },
          "metadata": {
            "tags": []
          },
          "execution_count": 203
        },
        {
          "output_type": "display_data",
          "data": {
            "image/png": "[encoded data removed]",
            "text/plain": [
              "<Figure size 576x396 with 1 Axes>"
            ]
          },
          "metadata": {
            "tags": []
          }
        }
      ]
    },
    {
      "cell_type": "code",
      "metadata": {
        "id": "7eIHe68xlXji"
      },
      "source": [
        "print(classification_report(y_census_teste, previsoes))"
      ],
      "execution_count": null,
      "outputs": []
    },
    {
      "cell_type": "markdown",
      "metadata": {
        "id": "UurdQoRKljrb"
      },
      "source": [
        "## Logistic Regression"
      ]
    },
    {
      "cell_type": "code",
      "metadata": {
        "id": "etXxHsmGlmng"
      },
      "source": [
        ""
      ],
      "execution_count": null,
      "outputs": []
    }
  ]
}